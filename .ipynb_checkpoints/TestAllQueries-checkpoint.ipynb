{
 "cells": [
  {
   "cell_type": "code",
   "execution_count": 1,
   "metadata": {
    "collapsed": false,
    "deletable": true,
    "editable": true
   },
   "outputs": [],
   "source": [
    "import json\n",
    "import os\n",
    "import itertools\n",
    "import requests\n",
    "import sqlparse\n",
    "import re\n",
    "from IPython.display import HTML, display\n",
    "import tabulate\n",
    "import urllib.parse"
   ]
  },
  {
   "cell_type": "code",
   "execution_count": 2,
   "metadata": {
    "collapsed": true,
    "deletable": true,
    "editable": true
   },
   "outputs": [],
   "source": [
    "def get_doc_id(doc_id):\n",
    "    doc_id = urllib.parse.quote(doc_id)\n",
    "    url = 'https://next.obudget.org/get/'+doc_id\n",
    "    print('Getting', url)\n",
    "    ret = requests.get(url).json()['value']\n",
    "    assert 'page_title' in ret, repr(ret)\n",
    "    return ret"
   ]
  },
  {
   "cell_type": "code",
   "execution_count": 3,
   "metadata": {
    "collapsed": true,
    "deletable": true,
    "editable": true
   },
   "outputs": [],
   "source": [
    "def get_table(query, headers):\n",
    "    table = requests.get('https://next.obudget.org/api/query', params={'query': query}).json()\n",
    "    rows = table['rows']\n",
    "    ret = []\n",
    "    if len(rows)>0:\n",
    "        headers_ = rows[0].keys()\n",
    "        for h in headers_:\n",
    "            if h not in headers:\n",
    "                headers.append(h)\n",
    "        ret.append(headers)\n",
    "        ret.extend([[x[h] for h in headers] for x in rows][:3])\n",
    "    return ret + [['Total', table['total']]]"
   ]
  },
  {
   "cell_type": "code",
   "execution_count": 4,
   "metadata": {
    "collapsed": false,
    "deletable": true,
    "editable": true
   },
   "outputs": [],
   "source": [
    "def questions():\n",
    "    base = 'app/descriptors'\n",
    "    tgt = 'questions.json'\n",
    "    for root, dirs, fnames in os.walk(base):\n",
    "        if tgt in fnames:\n",
    "            yield root.replace(base + '/', ''), os.path.join(root, tgt)"
   ]
  },
  {
   "cell_type": "code",
   "execution_count": 5,
   "metadata": {
    "collapsed": false,
    "deletable": true,
    "editable": true
   },
   "outputs": [],
   "source": [
    "def parsed_questions():\n",
    "    for q in questions():\n",
    "        qq = json.load(open(q[1]))\n",
    "        for qqq in qq:\n",
    "            yield q[0], qqq"
   ]
  },
  {
   "cell_type": "code",
   "execution_count": 6,
   "metadata": {
    "collapsed": false,
    "deletable": true,
    "editable": true
   },
   "outputs": [],
   "source": [
    "def parameters(q):\n",
    "    p = q.get('parameters', {})\n",
    "    keys = p.keys()\n",
    "    values = [list(p[k].items()) for k in keys]\n",
    "    return (zip(keys, prod) for prod in itertools.product(*values))"
   ]
  },
  {
   "cell_type": "code",
   "execution_count": 19,
   "metadata": {
    "collapsed": true,
    "deletable": true,
    "editable": true
   },
   "outputs": [],
   "source": [
    "DOC_IDS = {\n",
    "    'budget':[\n",
    "        'budget/C1/2018',\n",
    "        'budget/C222/2018',        \n",
    "        'budget/0020/2018',\n",
    "        'budget/0000/2018',\n",
    "        'budget/002043/2018',\n",
    "        'budget/00204301/2018',\n",
    "        'budget/0020430101/2018',\n",
    "    ],\n",
    "    'supports': [\n",
    "        'supports/0020460604/2016/עירית רחובות/הקצבות'\n",
    "    ],\n",
    "    'org': [\n",
    "        'org/company/520039710'\n",
    "    ],\n",
    "    'contract-spending': [\n",
    "        'contract-spending/4501218324/0033060240',\n",
    "        'contract-spending/4501252882/0020400228',\n",
    "    ],\n",
    "    'budget-changes': [\n",
    "        'national-budget-changes/2015/26-004'\n",
    "    ],\n",
    "    'tenders/exemptions': [\n",
    "        'tenders/exemptions/31252/none'\n",
    "    ]\n",
    "}"
   ]
  },
  {
   "cell_type": "code",
   "execution_count": 20,
   "metadata": {
    "collapsed": false,
    "deletable": true,
    "editable": true,
    "scrolled": false
   },
   "outputs": [
    {
     "name": "stdout",
     "output_type": "stream",
     "text": [
      "Getting https://next.obudget.org/get/budget/C1/2018\n"
     ]
    },
    {
     "data": {
      "text/html": [
       "<h3>(budget) None - בטחון וסדר ציבורי: היסטוריה תקציבית לסעיף זה</h3>"
      ],
      "text/plain": [
       "<IPython.core.display.HTML object>"
      ]
     },
     "metadata": {},
     "output_type": "display_data"
    },
    {
     "name": "stdout",
     "output_type": "stream",
     "text": [
      "skipping parameter json\n",
      "skipping parameter json\n",
      "skipping parameter json\n"
     ]
    },
    {
     "data": {
      "text/html": [
       "<pre>SELECT d.key AS \"שנה\", (d.value::json)->>'net_allocated' AS \"תקציב מקורי\", (d.value::json)->>'net_revised' AS \"תקציב אחרי שינויים\", (d.value::json)->>'net_executed' AS \"ביצוע בפועל\"\n",
       "FROM\n",
       "  (SELECT *\n",
       "   FROM budget\n",
       "   WHERE code='C1'\n",
       "     AND YEAR=2018) AS budget_\n",
       "JOIN jsonb_each_text(budget_.history) d ON TRUE</pre>"
      ],
      "text/plain": [
       "<IPython.core.display.HTML object>"
      ]
     },
     "metadata": {},
     "output_type": "display_data"
    },
    {
     "data": {
      "text/html": [
       "<table>\n",
       "<tbody>\n",
       "<tr><td>ביצוע בפועל  </td><td>שנה </td><td>תקציב אחרי שינויים</td><td>תקציב מקורי  </td></tr>\n",
       "<tr><td>37875516939.0</td><td>1997</td><td>42229942000.0     </td><td>34950827000.0</td></tr>\n",
       "<tr><td>41255396783.0</td><td>1998</td><td>45537812000.0     </td><td>37689039000.0</td></tr>\n",
       "<tr><td>43656479170.0</td><td>1999</td><td>48339068000.0     </td><td>39973799000.0</td></tr>\n",
       "<tr><td>Total        </td><td>21  </td><td>                  </td><td>             </td></tr>\n",
       "</tbody>\n",
       "</table>"
      ],
      "text/plain": [
       "<IPython.core.display.HTML object>"
      ]
     },
     "metadata": {},
     "output_type": "display_data"
    },
    {
     "name": "stdout",
     "output_type": "stream",
     "text": [
      "Getting https://next.obudget.org/get/budget/C222/2018\n"
     ]
    },
    {
     "data": {
      "text/html": [
       "<h3>(budget) 22 - שירותים חברתיים/חינוך: היסטוריה תקציבית לסעיף זה</h3>"
      ],
      "text/plain": [
       "<IPython.core.display.HTML object>"
      ]
     },
     "metadata": {},
     "output_type": "display_data"
    },
    {
     "name": "stdout",
     "output_type": "stream",
     "text": [
      "skipping parameter json\n",
      "skipping parameter json\n",
      "skipping parameter json\n"
     ]
    },
    {
     "data": {
      "text/html": [
       "<pre>SELECT d.key AS \"שנה\", (d.value::json)->>'net_allocated' AS \"תקציב מקורי\", (d.value::json)->>'net_revised' AS \"תקציב אחרי שינויים\", (d.value::json)->>'net_executed' AS \"ביצוע בפועל\"\n",
       "FROM\n",
       "  (SELECT *\n",
       "   FROM budget\n",
       "   WHERE code='C222'\n",
       "     AND YEAR=2018) AS budget_\n",
       "JOIN jsonb_each_text(budget_.history) d ON TRUE</pre>"
      ],
      "text/plain": [
       "<IPython.core.display.HTML object>"
      ]
     },
     "metadata": {},
     "output_type": "display_data"
    },
    {
     "data": {
      "text/html": [
       "<table>\n",
       "<tbody>\n",
       "<tr><td>ביצוע בפועל  </td><td>שנה </td><td>תקציב אחרי שינויים</td><td>תקציב מקורי  </td></tr>\n",
       "<tr><td>17705614860.0</td><td>1997</td><td>18719226000.0     </td><td>18588030000.0</td></tr>\n",
       "<tr><td>18930503119.0</td><td>1998</td><td>20549089000.0     </td><td>20232520000.0</td></tr>\n",
       "<tr><td>20662263678.0</td><td>1999</td><td>21397237000.0     </td><td>20660849000.0</td></tr>\n",
       "<tr><td>Total        </td><td>21  </td><td>                  </td><td>             </td></tr>\n",
       "</tbody>\n",
       "</table>"
      ],
      "text/plain": [
       "<IPython.core.display.HTML object>"
      ]
     },
     "metadata": {},
     "output_type": "display_data"
    },
    {
     "name": "stdout",
     "output_type": "stream",
     "text": [
      "Getting https://next.obudget.org/get/budget/0020/2018\n"
     ]
    },
    {
     "data": {
      "text/html": [
       "<h3>(budget) 20 - משרד החינוך: היסטוריה תקציבית לסעיף זה</h3>"
      ],
      "text/plain": [
       "<IPython.core.display.HTML object>"
      ]
     },
     "metadata": {},
     "output_type": "display_data"
    },
    {
     "name": "stdout",
     "output_type": "stream",
     "text": [
      "skipping parameter json\n",
      "skipping parameter json\n",
      "skipping parameter json\n"
     ]
    },
    {
     "data": {
      "text/html": [
       "<pre>SELECT d.key AS \"שנה\", (d.value::json)->>'net_allocated' AS \"תקציב מקורי\", (d.value::json)->>'net_revised' AS \"תקציב אחרי שינויים\", (d.value::json)->>'net_executed' AS \"ביצוע בפועל\"\n",
       "FROM\n",
       "  (SELECT *\n",
       "   FROM budget\n",
       "   WHERE code='0020'\n",
       "     AND YEAR=2018) AS budget_\n",
       "JOIN jsonb_each_text(budget_.history) d ON TRUE</pre>"
      ],
      "text/plain": [
       "<IPython.core.display.HTML object>"
      ]
     },
     "metadata": {},
     "output_type": "display_data"
    },
    {
     "data": {
      "text/html": [
       "<table>\n",
       "<tbody>\n",
       "<tr><td>ביצוע בפועל  </td><td>שנה </td><td>תקציב אחרי שינויים</td><td>תקציב מקורי  </td></tr>\n",
       "<tr><td>17176380244.0</td><td>1997</td><td>18079238000.0     </td><td>17998587000.0</td></tr>\n",
       "<tr><td>18516602605.0</td><td>1998</td><td>19835506000.0     </td><td>19588376000.0</td></tr>\n",
       "<tr><td>20236285667.0</td><td>1999</td><td>20643414000.0     </td><td>20085909000.0</td></tr>\n",
       "<tr><td>Total        </td><td>21  </td><td>                  </td><td>             </td></tr>\n",
       "</tbody>\n",
       "</table>"
      ],
      "text/plain": [
       "<IPython.core.display.HTML object>"
      ]
     },
     "metadata": {},
     "output_type": "display_data"
    },
    {
     "name": "stdout",
     "output_type": "stream",
     "text": [
      "Getting https://next.obudget.org/get/budget/0000/2018\n"
     ]
    },
    {
     "data": {
      "text/html": [
       "<h3>(budget) 00 - הכנסות המדינה: היסטוריה תקציבית לסעיף זה</h3>"
      ],
      "text/plain": [
       "<IPython.core.display.HTML object>"
      ]
     },
     "metadata": {},
     "output_type": "display_data"
    },
    {
     "name": "stdout",
     "output_type": "stream",
     "text": [
      "skipping parameter json\n",
      "skipping parameter json\n",
      "skipping parameter json\n"
     ]
    },
    {
     "data": {
      "text/html": [
       "<pre>SELECT d.key AS \"שנה\", (d.value::json)->>'net_allocated' AS \"תקציב מקורי\", (d.value::json)->>'net_revised' AS \"תקציב אחרי שינויים\", (d.value::json)->>'net_executed' AS \"ביצוע בפועל\"\n",
       "FROM\n",
       "  (SELECT *\n",
       "   FROM budget\n",
       "   WHERE code='0000'\n",
       "     AND YEAR=2018) AS budget_\n",
       "JOIN jsonb_each_text(budget_.history) d ON TRUE</pre>"
      ],
      "text/plain": [
       "<IPython.core.display.HTML object>"
      ]
     },
     "metadata": {},
     "output_type": "display_data"
    },
    {
     "data": {
      "text/html": [
       "<table>\n",
       "<tbody>\n",
       "<tr><td>ביצוע בפועל   </td><td>שנה </td><td>תקציב אחרי שינויים</td><td>תקציב מקורי   </td></tr>\n",
       "<tr><td>180343411795.0</td><td>1997</td><td>189953447000.0    </td><td>189953447000.0</td></tr>\n",
       "<tr><td>203762197990.0</td><td>1998</td><td>207727617000.0    </td><td>207727617000.0</td></tr>\n",
       "<tr><td>205154162213.0</td><td>1999</td><td>214975294000.0    </td><td>214975294000.0</td></tr>\n",
       "<tr><td>Total         </td><td>21  </td><td>                  </td><td>              </td></tr>\n",
       "</tbody>\n",
       "</table>"
      ],
      "text/plain": [
       "<IPython.core.display.HTML object>"
      ]
     },
     "metadata": {},
     "output_type": "display_data"
    },
    {
     "name": "stdout",
     "output_type": "stream",
     "text": [
      "Getting https://next.obudget.org/get/budget/002043/2018\n"
     ]
    },
    {
     "data": {
      "text/html": [
       "<h3>(budget) 20.43 - יסודי וחטיבות-ביניים: היסטוריה תקציבית לסעיף זה</h3>"
      ],
      "text/plain": [
       "<IPython.core.display.HTML object>"
      ]
     },
     "metadata": {},
     "output_type": "display_data"
    },
    {
     "name": "stdout",
     "output_type": "stream",
     "text": [
      "skipping parameter json\n",
      "skipping parameter json\n",
      "skipping parameter json\n"
     ]
    },
    {
     "data": {
      "text/html": [
       "<pre>SELECT d.key AS \"שנה\", (d.value::json)->>'net_allocated' AS \"תקציב מקורי\", (d.value::json)->>'net_revised' AS \"תקציב אחרי שינויים\", (d.value::json)->>'net_executed' AS \"ביצוע בפועל\"\n",
       "FROM\n",
       "  (SELECT *\n",
       "   FROM budget\n",
       "   WHERE code='002043'\n",
       "     AND YEAR=2018) AS budget_\n",
       "JOIN jsonb_each_text(budget_.history) d ON TRUE</pre>"
      ],
      "text/plain": [
       "<IPython.core.display.HTML object>"
      ]
     },
     "metadata": {},
     "output_type": "display_data"
    },
    {
     "data": {
      "text/html": [
       "<table>\n",
       "<tbody>\n",
       "<tr><td>ביצוע בפועל  </td><td>שנה </td><td>תקציב אחרי שינויים</td><td>תקציב מקורי  </td></tr>\n",
       "<tr><td>14536312050.0</td><td>2015</td><td>14723330000.0     </td><td>14566516000.0</td></tr>\n",
       "<tr><td>             </td><td>2016</td><td>15302527000.0     </td><td>14298038000.0</td></tr>\n",
       "<tr><td>             </td><td>2017</td><td>14670822000.0     </td><td>14670822000.0</td></tr>\n",
       "<tr><td>Total        </td><td>3   </td><td>                  </td><td>             </td></tr>\n",
       "</tbody>\n",
       "</table>"
      ],
      "text/plain": [
       "<IPython.core.display.HTML object>"
      ]
     },
     "metadata": {},
     "output_type": "display_data"
    },
    {
     "name": "stdout",
     "output_type": "stream",
     "text": [
      "Getting https://next.obudget.org/get/budget/00204301/2018\n"
     ]
    },
    {
     "data": {
      "text/html": [
       "<h3>(budget) 20.43.01 - חינוך רשמי: היסטוריה תקציבית לסעיף זה</h3>"
      ],
      "text/plain": [
       "<IPython.core.display.HTML object>"
      ]
     },
     "metadata": {},
     "output_type": "display_data"
    },
    {
     "name": "stdout",
     "output_type": "stream",
     "text": [
      "skipping parameter json\n",
      "skipping parameter json\n",
      "skipping parameter json\n"
     ]
    },
    {
     "data": {
      "text/html": [
       "<pre>SELECT d.key AS \"שנה\", (d.value::json)->>'net_allocated' AS \"תקציב מקורי\", (d.value::json)->>'net_revised' AS \"תקציב אחרי שינויים\", (d.value::json)->>'net_executed' AS \"ביצוע בפועל\"\n",
       "FROM\n",
       "  (SELECT *\n",
       "   FROM budget\n",
       "   WHERE code='00204301'\n",
       "     AND YEAR=2018) AS budget_\n",
       "JOIN jsonb_each_text(budget_.history) d ON TRUE</pre>"
      ],
      "text/plain": [
       "<IPython.core.display.HTML object>"
      ]
     },
     "metadata": {},
     "output_type": "display_data"
    },
    {
     "data": {
      "text/html": [
       "<table>\n",
       "<tbody>\n",
       "<tr><td>ביצוע בפועל</td><td>שנה </td><td>תקציב אחרי שינויים</td><td>תקציב מקורי</td></tr>\n",
       "<tr><td>5450209.0  </td><td>1997</td><td>3872000.0         </td><td>2307000.0  </td></tr>\n",
       "<tr><td>233388.0   </td><td>1998</td><td>2252000.0         </td><td>2464000.0  </td></tr>\n",
       "<tr><td>962523.0   </td><td>1999</td><td>-1398000.0        </td><td>83000.0    </td></tr>\n",
       "<tr><td>Total      </td><td>21  </td><td>                  </td><td>           </td></tr>\n",
       "</tbody>\n",
       "</table>"
      ],
      "text/plain": [
       "<IPython.core.display.HTML object>"
      ]
     },
     "metadata": {},
     "output_type": "display_data"
    },
    {
     "name": "stdout",
     "output_type": "stream",
     "text": [
      "Getting https://next.obudget.org/get/budget/0020430101/2018\n"
     ]
    },
    {
     "data": {
      "text/html": [
       "<h3>(budget) 20.43.01.01 - שעות תקן ביסודי: היסטוריה תקציבית לסעיף זה</h3>"
      ],
      "text/plain": [
       "<IPython.core.display.HTML object>"
      ]
     },
     "metadata": {},
     "output_type": "display_data"
    },
    {
     "name": "stdout",
     "output_type": "stream",
     "text": [
      "skipping parameter json\n",
      "skipping parameter json\n",
      "skipping parameter json\n"
     ]
    },
    {
     "data": {
      "text/html": [
       "<pre>SELECT d.key AS \"שנה\", (d.value::json)->>'net_allocated' AS \"תקציב מקורי\", (d.value::json)->>'net_revised' AS \"תקציב אחרי שינויים\", (d.value::json)->>'net_executed' AS \"ביצוע בפועל\"\n",
       "FROM\n",
       "  (SELECT *\n",
       "   FROM budget\n",
       "   WHERE code='0020430101'\n",
       "     AND YEAR=2018) AS budget_\n",
       "JOIN jsonb_each_text(budget_.history) d ON TRUE</pre>"
      ],
      "text/plain": [
       "<IPython.core.display.HTML object>"
      ]
     },
     "metadata": {},
     "output_type": "display_data"
    },
    {
     "data": {
      "text/html": [
       "<table>\n",
       "<tbody>\n",
       "<tr><td>ביצוע בפועל</td><td>שנה </td><td>תקציב אחרי שינויים</td><td>תקציב מקורי</td></tr>\n",
       "<tr><td>30900000.0 </td><td>2001</td><td>30900000.0        </td><td>29100000.0 </td></tr>\n",
       "<tr><td>26824875.0 </td><td>2002</td><td>30657000.0        </td><td>30657000.0 </td></tr>\n",
       "<tr><td>31288982.0 </td><td>2003</td><td>31298000.0        </td><td>31298000.0 </td></tr>\n",
       "<tr><td>Total      </td><td>17  </td><td>                  </td><td>           </td></tr>\n",
       "</tbody>\n",
       "</table>"
      ],
      "text/plain": [
       "<IPython.core.display.HTML object>"
      ]
     },
     "metadata": {},
     "output_type": "display_data"
    },
    {
     "name": "stdout",
     "output_type": "stream",
     "text": [
      "Getting https://next.obudget.org/get/contract-spending/4501218324/0033060240\n"
     ]
    },
    {
     "data": {
      "text/html": [
       "<h3>(contract-spending) תשלומים בין משרדים:  כלל ההתקשרויות עם אותו הספק ב כל השנים</h3>"
      ],
      "text/plain": [
       "<IPython.core.display.HTML object>"
      ]
     },
     "metadata": {},
     "output_type": "display_data"
    },
    {
     "data": {
      "text/html": [
       "<pre>SELECT order_date AS \"תאריך הזמנה\",\n",
       "       purchase_method->>0 AS \"אופן התקשרות\",\n",
       "                         purchasing_unit->>0 AS \"יחידה רוכשת\",\n",
       "                                           purpose AS \"מטרה\",\n",
       "                                           start_date AS \"תאריך תחילה\",\n",
       "                                           volume AS \"היקף\",\n",
       "                                           executed AS \"ביצוע\",\n",
       "                                           currency AS \"מטבע\",\n",
       "                                           explanation->>0 AS \"תיאור\",\n",
       "                                                         end_date AS \"תאריך סיום\"\n",
       "FROM contract_spending\n",
       "WHERE entity_id='500105929'\n",
       "  AND int4range(min_year, max_year, '[]') && int4range(2000,3000, '[]')</pre>"
      ],
      "text/plain": [
       "<IPython.core.display.HTML object>"
      ]
     },
     "metadata": {},
     "output_type": "display_data"
    },
    {
     "data": {
      "text/html": [
       "<table>\n",
       "<tbody>\n",
       "<tr><td>יחידה רוכשת </td><td>מטרה                                                     </td><td>תאריך הזמנה</td><td>תאריך תחילה</td><td>תאריך סיום</td><td>היקף       </td><td>ביצוע       </td><td>אופן התקשרות             </td><td>מטבע</td><td>תיאור</td></tr>\n",
       "<tr><td>משרד החקלאות</td><td>תשלומים בין משרדים                                       </td><td>2016-05-03 </td><td>           </td><td>2016-12-31</td><td>319499500.0</td><td>141334138.96</td><td>התקשרות עם גופים ממשלתיים</td><td>ILS </td><td>     </td></tr>\n",
       "<tr><td>משרד החקלאות</td><td>תשלומים                                                  </td><td>2017-04-24 </td><td>           </td><td>2022-04-24</td><td>162247225.0</td><td>0.0         </td><td>פטור ממכרז               </td><td>    </td><td>     </td></tr>\n",
       "<tr><td>משרד החקלאות</td><td>תשלומים עפ\"י החלטת הממשלה-הסכם התקשרות עם החטיבה להתישבות</td><td>2017-08-24 </td><td>           </td><td>2017-12-31</td><td>54000000.0 </td><td>0.0         </td><td>התקשרות עם גופים ממשלתיים</td><td>    </td><td>     </td></tr>\n",
       "<tr><td>Total       </td><td>3                                                        </td><td>           </td><td>           </td><td>          </td><td>           </td><td>            </td><td>                         </td><td>    </td><td>     </td></tr>\n",
       "</tbody>\n",
       "</table>"
      ],
      "text/plain": [
       "<IPython.core.display.HTML object>"
      ]
     },
     "metadata": {},
     "output_type": "display_data"
    },
    {
     "data": {
      "text/html": [
       "<h3>(contract-spending) תשלומים בין משרדים:  כלל ההתקשרויות עם אותו הספק ב 2015</h3>"
      ],
      "text/plain": [
       "<IPython.core.display.HTML object>"
      ]
     },
     "metadata": {},
     "output_type": "display_data"
    },
    {
     "data": {
      "text/html": [
       "<pre>SELECT order_date AS \"תאריך הזמנה\",\n",
       "       purchase_method->>0 AS \"אופן התקשרות\",\n",
       "                         purchasing_unit->>0 AS \"יחידה רוכשת\",\n",
       "                                           purpose AS \"מטרה\",\n",
       "                                           start_date AS \"תאריך תחילה\",\n",
       "                                           volume AS \"היקף\",\n",
       "                                           executed AS \"ביצוע\",\n",
       "                                           currency AS \"מטבע\",\n",
       "                                           explanation->>0 AS \"תיאור\",\n",
       "                                                         end_date AS \"תאריך סיום\"\n",
       "FROM contract_spending\n",
       "WHERE entity_id='500105929'\n",
       "  AND int4range(min_year, max_year, '[]') && int4range(2015,2015, '[]')</pre>"
      ],
      "text/plain": [
       "<IPython.core.display.HTML object>"
      ]
     },
     "metadata": {},
     "output_type": "display_data"
    },
    {
     "data": {
      "text/html": [
       "<table>\n",
       "<tbody>\n",
       "<tr><td>Total</td><td style=\"text-align: right;\">0</td></tr>\n",
       "</tbody>\n",
       "</table>"
      ],
      "text/plain": [
       "<IPython.core.display.HTML object>"
      ]
     },
     "metadata": {},
     "output_type": "display_data"
    },
    {
     "data": {
      "text/html": [
       "<h3>(contract-spending) תשלומים בין משרדים:  כלל ההתקשרויות עם אותו הספק ב 2016</h3>"
      ],
      "text/plain": [
       "<IPython.core.display.HTML object>"
      ]
     },
     "metadata": {},
     "output_type": "display_data"
    },
    {
     "data": {
      "text/html": [
       "<pre>SELECT order_date AS \"תאריך הזמנה\",\n",
       "       purchase_method->>0 AS \"אופן התקשרות\",\n",
       "                         purchasing_unit->>0 AS \"יחידה רוכשת\",\n",
       "                                           purpose AS \"מטרה\",\n",
       "                                           start_date AS \"תאריך תחילה\",\n",
       "                                           volume AS \"היקף\",\n",
       "                                           executed AS \"ביצוע\",\n",
       "                                           currency AS \"מטבע\",\n",
       "                                           explanation->>0 AS \"תיאור\",\n",
       "                                                         end_date AS \"תאריך סיום\"\n",
       "FROM contract_spending\n",
       "WHERE entity_id='500105929'\n",
       "  AND int4range(min_year, max_year, '[]') && int4range(2016,2016, '[]')</pre>"
      ],
      "text/plain": [
       "<IPython.core.display.HTML object>"
      ]
     },
     "metadata": {},
     "output_type": "display_data"
    },
    {
     "data": {
      "text/html": [
       "<table>\n",
       "<tbody>\n",
       "<tr><td>יחידה רוכשת </td><td>מטרה              </td><td>תאריך הזמנה</td><td>תאריך תחילה</td><td>תאריך סיום</td><td>היקף       </td><td>ביצוע       </td><td>אופן התקשרות             </td><td>מטבע</td><td>תיאור</td></tr>\n",
       "<tr><td>משרד החקלאות</td><td>תשלומים בין משרדים</td><td>2016-05-03 </td><td>           </td><td>2016-12-31</td><td>319499500.0</td><td>141334138.96</td><td>התקשרות עם גופים ממשלתיים</td><td>ILS </td><td>     </td></tr>\n",
       "<tr><td>Total       </td><td>1                 </td><td>           </td><td>           </td><td>          </td><td>           </td><td>            </td><td>                         </td><td>    </td><td>     </td></tr>\n",
       "</tbody>\n",
       "</table>"
      ],
      "text/plain": [
       "<IPython.core.display.HTML object>"
      ]
     },
     "metadata": {},
     "output_type": "display_data"
    },
    {
     "data": {
      "text/html": [
       "<h3>(contract-spending) תשלומים בין משרדים:  כלל ההתקשרויות עם אותו הספק ב 2017</h3>"
      ],
      "text/plain": [
       "<IPython.core.display.HTML object>"
      ]
     },
     "metadata": {},
     "output_type": "display_data"
    },
    {
     "data": {
      "text/html": [
       "<pre>SELECT order_date AS \"תאריך הזמנה\",\n",
       "       purchase_method->>0 AS \"אופן התקשרות\",\n",
       "                         purchasing_unit->>0 AS \"יחידה רוכשת\",\n",
       "                                           purpose AS \"מטרה\",\n",
       "                                           start_date AS \"תאריך תחילה\",\n",
       "                                           volume AS \"היקף\",\n",
       "                                           executed AS \"ביצוע\",\n",
       "                                           currency AS \"מטבע\",\n",
       "                                           explanation->>0 AS \"תיאור\",\n",
       "                                                         end_date AS \"תאריך סיום\"\n",
       "FROM contract_spending\n",
       "WHERE entity_id='500105929'\n",
       "  AND int4range(min_year, max_year, '[]') && int4range(2017,2017, '[]')</pre>"
      ],
      "text/plain": [
       "<IPython.core.display.HTML object>"
      ]
     },
     "metadata": {},
     "output_type": "display_data"
    },
    {
     "data": {
      "text/html": [
       "<table>\n",
       "<tbody>\n",
       "<tr><td>יחידה רוכשת </td><td>מטרה                                                     </td><td>תאריך הזמנה</td><td>תאריך תחילה</td><td>תאריך סיום</td><td>היקף       </td><td>ביצוע</td><td>אופן התקשרות             </td><td>מטבע</td><td>תיאור</td></tr>\n",
       "<tr><td>משרד החקלאות</td><td>תשלומים                                                  </td><td>2017-04-24 </td><td>           </td><td>2022-04-24</td><td>162247225.0</td><td>0.0  </td><td>פטור ממכרז               </td><td>    </td><td>     </td></tr>\n",
       "<tr><td>משרד החקלאות</td><td>תשלומים עפ\"י החלטת הממשלה-הסכם התקשרות עם החטיבה להתישבות</td><td>2017-08-24 </td><td>           </td><td>2017-12-31</td><td>54000000.0 </td><td>0.0  </td><td>התקשרות עם גופים ממשלתיים</td><td>    </td><td>     </td></tr>\n",
       "<tr><td>Total       </td><td>2                                                        </td><td>           </td><td>           </td><td>          </td><td>           </td><td>     </td><td>                         </td><td>    </td><td>     </td></tr>\n",
       "</tbody>\n",
       "</table>"
      ],
      "text/plain": [
       "<IPython.core.display.HTML object>"
      ]
     },
     "metadata": {},
     "output_type": "display_data"
    },
    {
     "data": {
      "text/html": [
       "<h3>(contract-spending) תשלומים בין משרדים:  כלל ההתקשרויות עם אותו הספק ב 2018</h3>"
      ],
      "text/plain": [
       "<IPython.core.display.HTML object>"
      ]
     },
     "metadata": {},
     "output_type": "display_data"
    },
    {
     "data": {
      "text/html": [
       "<pre>SELECT order_date AS \"תאריך הזמנה\",\n",
       "       purchase_method->>0 AS \"אופן התקשרות\",\n",
       "                         purchasing_unit->>0 AS \"יחידה רוכשת\",\n",
       "                                           purpose AS \"מטרה\",\n",
       "                                           start_date AS \"תאריך תחילה\",\n",
       "                                           volume AS \"היקף\",\n",
       "                                           executed AS \"ביצוע\",\n",
       "                                           currency AS \"מטבע\",\n",
       "                                           explanation->>0 AS \"תיאור\",\n",
       "                                                         end_date AS \"תאריך סיום\"\n",
       "FROM contract_spending\n",
       "WHERE entity_id='500105929'\n",
       "  AND int4range(min_year, max_year, '[]') && int4range(2018,2018, '[]')</pre>"
      ],
      "text/plain": [
       "<IPython.core.display.HTML object>"
      ]
     },
     "metadata": {},
     "output_type": "display_data"
    },
    {
     "data": {
      "text/html": [
       "<table>\n",
       "<tbody>\n",
       "<tr><td>יחידה רוכשת </td><td>מטרה   </td><td>תאריך הזמנה</td><td>תאריך תחילה</td><td>תאריך סיום</td><td>היקף       </td><td>ביצוע</td><td>אופן התקשרות</td><td>מטבע</td><td>תיאור</td></tr>\n",
       "<tr><td>משרד החקלאות</td><td>תשלומים</td><td>2017-04-24 </td><td>           </td><td>2022-04-24</td><td>162247225.0</td><td>0.0  </td><td>פטור ממכרז  </td><td>    </td><td>     </td></tr>\n",
       "<tr><td>Total       </td><td>1      </td><td>           </td><td>           </td><td>          </td><td>           </td><td>     </td><td>            </td><td>    </td><td>     </td></tr>\n",
       "</tbody>\n",
       "</table>"
      ],
      "text/plain": [
       "<IPython.core.display.HTML object>"
      ]
     },
     "metadata": {},
     "output_type": "display_data"
    },
    {
     "name": "stdout",
     "output_type": "stream",
     "text": [
      "Getting https://next.obudget.org/get/contract-spending/4501252882/0020400228\n"
     ]
    },
    {
     "data": {
      "text/html": [
       "<h3>(contract-spending) ארגון והפעלת השלוחות האקסטרניות:  כלל ההתקשרויות עם אותו הספק ב כל השנים</h3>"
      ],
      "text/plain": [
       "<IPython.core.display.HTML object>"
      ]
     },
     "metadata": {},
     "output_type": "display_data"
    },
    {
     "data": {
      "text/html": [
       "<pre>SELECT order_date AS \"תאריך הזמנה\",\n",
       "       purchase_method->>0 AS \"אופן התקשרות\",\n",
       "                         purchasing_unit->>0 AS \"יחידה רוכשת\",\n",
       "                                           purpose AS \"מטרה\",\n",
       "                                           start_date AS \"תאריך תחילה\",\n",
       "                                           volume AS \"היקף\",\n",
       "                                           executed AS \"ביצוע\",\n",
       "                                           currency AS \"מטבע\",\n",
       "                                           explanation->>0 AS \"תיאור\",\n",
       "                                                         end_date AS \"תאריך סיום\"\n",
       "FROM contract_spending\n",
       "WHERE entity_id='520039710'\n",
       "  AND int4range(min_year, max_year, '[]') && int4range(2000,3000, '[]')</pre>"
      ],
      "text/plain": [
       "<IPython.core.display.HTML object>"
      ]
     },
     "metadata": {},
     "output_type": "display_data"
    },
    {
     "data": {
      "text/html": [
       "<table>\n",
       "<tbody>\n",
       "<tr><td>יחידה רוכשת        </td><td>מטרה                                      </td><td>תאריך הזמנה</td><td>תאריך תחילה</td><td>תאריך סיום</td><td>היקף      </td><td>ביצוע     </td><td>אופן התקשרות</td><td>מטבע</td><td>תיאור</td></tr>\n",
       "<tr><td>רשות האכיפה והגבייה</td><td>שו\"שים של כלים שלובים                     </td><td>2015-01-18 </td><td>           </td><td>2014-12-31</td><td>585000.0  </td><td>560361.24 </td><td>פטור ממכרז  </td><td>ILS </td><td>     </td></tr>\n",
       "<tr><td>רשות האכיפה והגבייה</td><td>אפיון פיתוח ובדיקות עבור מערכת כלים שלובים</td><td>2015-01-21 </td><td>           </td><td>2014-12-31</td><td>1170000.0 </td><td>1123339.8 </td><td>פטור ממכרז  </td><td>ILS </td><td>     </td></tr>\n",
       "<tr><td>מטה משרד החינוך    </td><td>ביצוע בקרה                                </td><td>2015-01-21 </td><td>           </td><td>2015-12-31</td><td>8369102.43</td><td>7990545.85</td><td>פטור ממכרז  </td><td>ILS </td><td>     </td></tr>\n",
       "<tr><td>Total              </td><td>381                                       </td><td>           </td><td>           </td><td>          </td><td>          </td><td>          </td><td>            </td><td>    </td><td>     </td></tr>\n",
       "</tbody>\n",
       "</table>"
      ],
      "text/plain": [
       "<IPython.core.display.HTML object>"
      ]
     },
     "metadata": {},
     "output_type": "display_data"
    },
    {
     "data": {
      "text/html": [
       "<h3>(contract-spending) ארגון והפעלת השלוחות האקסטרניות:  כלל ההתקשרויות עם אותו הספק ב 2015</h3>"
      ],
      "text/plain": [
       "<IPython.core.display.HTML object>"
      ]
     },
     "metadata": {},
     "output_type": "display_data"
    },
    {
     "data": {
      "text/html": [
       "<pre>SELECT order_date AS \"תאריך הזמנה\",\n",
       "       purchase_method->>0 AS \"אופן התקשרות\",\n",
       "                         purchasing_unit->>0 AS \"יחידה רוכשת\",\n",
       "                                           purpose AS \"מטרה\",\n",
       "                                           start_date AS \"תאריך תחילה\",\n",
       "                                           volume AS \"היקף\",\n",
       "                                           executed AS \"ביצוע\",\n",
       "                                           currency AS \"מטבע\",\n",
       "                                           explanation->>0 AS \"תיאור\",\n",
       "                                                         end_date AS \"תאריך סיום\"\n",
       "FROM contract_spending\n",
       "WHERE entity_id='520039710'\n",
       "  AND int4range(min_year, max_year, '[]') && int4range(2015,2015, '[]')</pre>"
      ],
      "text/plain": [
       "<IPython.core.display.HTML object>"
      ]
     },
     "metadata": {},
     "output_type": "display_data"
    },
    {
     "data": {
      "text/html": [
       "<table>\n",
       "<tbody>\n",
       "<tr><td>יחידה רוכשת    </td><td>מטרה        </td><td>תאריך הזמנה</td><td>תאריך תחילה</td><td>תאריך סיום</td><td>היקף    </td><td>ביצוע    </td><td>אופן התקשרות             </td><td>מטבע</td><td>תיאור</td></tr>\n",
       "<tr><td>מטה משרד החינוך</td><td>אמירים      </td><td>2015-10-20 </td><td>           </td><td>2016-08-31</td><td>269685.0</td><td>162860.63</td><td>תקנה 1ב - מכרז פומבי רגיל</td><td>ILS </td><td>     </td></tr>\n",
       "<tr><td>מטה משרד החינוך</td><td>מצוינות 2000</td><td>2015-10-20 </td><td>           </td><td>2016-08-31</td><td>70902.0 </td><td>59228.64 </td><td>תקנה 1ב - מכרז פומבי רגיל</td><td>ILS </td><td>     </td></tr>\n",
       "<tr><td>מטה משרד החינוך</td><td>פוירשטין    </td><td>2015-10-20 </td><td>           </td><td>2016-08-31</td><td>2866.5  </td><td>1679.45  </td><td>תקנה 1ב - מכרז פומבי רגיל</td><td>ILS </td><td>     </td></tr>\n",
       "<tr><td>Total          </td><td>161         </td><td>           </td><td>           </td><td>          </td><td>        </td><td>         </td><td>                         </td><td>    </td><td>     </td></tr>\n",
       "</tbody>\n",
       "</table>"
      ],
      "text/plain": [
       "<IPython.core.display.HTML object>"
      ]
     },
     "metadata": {},
     "output_type": "display_data"
    },
    {
     "data": {
      "text/html": [
       "<h3>(contract-spending) ארגון והפעלת השלוחות האקסטרניות:  כלל ההתקשרויות עם אותו הספק ב 2016</h3>"
      ],
      "text/plain": [
       "<IPython.core.display.HTML object>"
      ]
     },
     "metadata": {},
     "output_type": "display_data"
    },
    {
     "data": {
      "text/html": [
       "<pre>SELECT order_date AS \"תאריך הזמנה\",\n",
       "       purchase_method->>0 AS \"אופן התקשרות\",\n",
       "                         purchasing_unit->>0 AS \"יחידה רוכשת\",\n",
       "                                           purpose AS \"מטרה\",\n",
       "                                           start_date AS \"תאריך תחילה\",\n",
       "                                           volume AS \"היקף\",\n",
       "                                           executed AS \"ביצוע\",\n",
       "                                           currency AS \"מטבע\",\n",
       "                                           explanation->>0 AS \"תיאור\",\n",
       "                                                         end_date AS \"תאריך סיום\"\n",
       "FROM contract_spending\n",
       "WHERE entity_id='520039710'\n",
       "  AND int4range(min_year, max_year, '[]') && int4range(2016,2016, '[]')</pre>"
      ],
      "text/plain": [
       "<IPython.core.display.HTML object>"
      ]
     },
     "metadata": {},
     "output_type": "display_data"
    },
    {
     "data": {
      "text/html": [
       "<table>\n",
       "<tbody>\n",
       "<tr><td>יחידה רוכשת    </td><td>מטרה                    </td><td>תאריך הזמנה</td><td>תאריך תחילה</td><td>תאריך סיום</td><td>היקף     </td><td>ביצוע     </td><td>אופן התקשרות             </td><td>מטבע</td><td>תיאור</td></tr>\n",
       "<tr><td>מטה משרד החינוך</td><td>שירותי מחשוב            </td><td>2015-04-16 </td><td>           </td><td>2016-03-31</td><td>499999.75</td><td>497637.43 </td><td>פטור ממכרז               </td><td>ILS </td><td>     </td></tr>\n",
       "<tr><td>מטה משרד החינוך</td><td>בדיקת מיצ\"ב תשע\"ה       </td><td>2015-05-31 </td><td>           </td><td>2016-08-31</td><td>6731220.6</td><td>6250926.31</td><td>תקנה 1ב - מכרז פומבי רגיל</td><td>ILS </td><td>     </td></tr>\n",
       "<tr><td>מטה משרד החינוך</td><td>עברית לדוברי ערבית תשע\"ה</td><td>2015-05-31 </td><td>           </td><td>2016-08-31</td><td>375211.98</td><td>334203.83 </td><td>תקנה 1ב - מכרז פומבי רגיל</td><td>ILS </td><td>     </td></tr>\n",
       "<tr><td>Total          </td><td>247                     </td><td>           </td><td>           </td><td>          </td><td>         </td><td>          </td><td>                         </td><td>    </td><td>     </td></tr>\n",
       "</tbody>\n",
       "</table>"
      ],
      "text/plain": [
       "<IPython.core.display.HTML object>"
      ]
     },
     "metadata": {},
     "output_type": "display_data"
    },
    {
     "data": {
      "text/html": [
       "<h3>(contract-spending) ארגון והפעלת השלוחות האקסטרניות:  כלל ההתקשרויות עם אותו הספק ב 2017</h3>"
      ],
      "text/plain": [
       "<IPython.core.display.HTML object>"
      ]
     },
     "metadata": {},
     "output_type": "display_data"
    },
    {
     "data": {
      "text/html": [
       "<pre>SELECT order_date AS \"תאריך הזמנה\",\n",
       "       purchase_method->>0 AS \"אופן התקשרות\",\n",
       "                         purchasing_unit->>0 AS \"יחידה רוכשת\",\n",
       "                                           purpose AS \"מטרה\",\n",
       "                                           start_date AS \"תאריך תחילה\",\n",
       "                                           volume AS \"היקף\",\n",
       "                                           executed AS \"ביצוע\",\n",
       "                                           currency AS \"מטבע\",\n",
       "                                           explanation->>0 AS \"תיאור\",\n",
       "                                                         end_date AS \"תאריך סיום\"\n",
       "FROM contract_spending\n",
       "WHERE entity_id='520039710'\n",
       "  AND int4range(min_year, max_year, '[]') && int4range(2017,2017, '[]')</pre>"
      ],
      "text/plain": [
       "<IPython.core.display.HTML object>"
      ]
     },
     "metadata": {},
     "output_type": "display_data"
    },
    {
     "data": {
      "text/html": [
       "<table>\n",
       "<tbody>\n",
       "<tr><td>יחידה רוכשת       </td><td>מטרה                                              </td><td>תאריך הזמנה</td><td>תאריך תחילה</td><td>תאריך סיום</td><td>היקף     </td><td>ביצוע   </td><td>אופן התקשרות             </td><td>מטבע</td><td>תיאור</td></tr>\n",
       "<tr><td>משרד ראש הממשלה   </td><td>רכישת עמדות שירות חדשות להנגשת שירותים של משרדי המ</td><td>2016-04-10 </td><td>           </td><td>2017-05-31</td><td>21340.8  </td><td>0.0     </td><td>פטור ממכרז               </td><td>    </td><td>     </td></tr>\n",
       "<tr><td>מטה משרד החינוך   </td><td>בקרת ביצוע של שכר לימוד בבתי ספר בחטיבה העליונה   </td><td>2016-05-16 </td><td>           </td><td>2017-07-31</td><td>129095.46</td><td>20671.56</td><td>תקנה 1ב - מכרז פומבי רגיל</td><td>ILS </td><td>     </td></tr>\n",
       "<tr><td>המרכז למיפוי ישראל</td><td>הקמה ותפעול מרכז תמיכה מקצועית                    </td><td>2016-05-18 </td><td>           </td><td>2017-06-01</td><td>521352.0 </td><td>69088.5 </td><td>תקנה 1ב - מכרז פומבי רגיל</td><td>ILS </td><td>     </td></tr>\n",
       "<tr><td>Total             </td><td>165                                               </td><td>           </td><td>           </td><td>          </td><td>         </td><td>        </td><td>                         </td><td>    </td><td>     </td></tr>\n",
       "</tbody>\n",
       "</table>"
      ],
      "text/plain": [
       "<IPython.core.display.HTML object>"
      ]
     },
     "metadata": {},
     "output_type": "display_data"
    },
    {
     "data": {
      "text/html": [
       "<h3>(contract-spending) ארגון והפעלת השלוחות האקסטרניות:  כלל ההתקשרויות עם אותו הספק ב 2018</h3>"
      ],
      "text/plain": [
       "<IPython.core.display.HTML object>"
      ]
     },
     "metadata": {},
     "output_type": "display_data"
    },
    {
     "data": {
      "text/html": [
       "<pre>SELECT order_date AS \"תאריך הזמנה\",\n",
       "       purchase_method->>0 AS \"אופן התקשרות\",\n",
       "                         purchasing_unit->>0 AS \"יחידה רוכשת\",\n",
       "                                           purpose AS \"מטרה\",\n",
       "                                           start_date AS \"תאריך תחילה\",\n",
       "                                           volume AS \"היקף\",\n",
       "                                           executed AS \"ביצוע\",\n",
       "                                           currency AS \"מטבע\",\n",
       "                                           explanation->>0 AS \"תיאור\",\n",
       "                                                         end_date AS \"תאריך סיום\"\n",
       "FROM contract_spending\n",
       "WHERE entity_id='520039710'\n",
       "  AND int4range(min_year, max_year, '[]') && int4range(2018,2018, '[]')</pre>"
      ],
      "text/plain": [
       "<IPython.core.display.HTML object>"
      ]
     },
     "metadata": {},
     "output_type": "display_data"
    },
    {
     "data": {
      "text/html": [
       "<table>\n",
       "<tbody>\n",
       "<tr><td>יחידה רוכשת               </td><td>מטרה                                           </td><td>תאריך הזמנה</td><td>תאריך תחילה</td><td>תאריך סיום</td><td>היקף      </td><td>ביצוע  </td><td>אופן התקשרות             </td><td>מטבע</td><td>תיאור</td></tr>\n",
       "<tr><td>משרד העלייה והקליטה       </td><td>ביצוע סקרים טלפונים וסקרים בשאלונים במילוי עצמי</td><td>2017-06-04 </td><td>           </td><td>2018-05-28</td><td>1100000.07</td><td>0.0    </td><td>תקנה 1ב - מכרז פומבי רגיל</td><td>    </td><td>     </td></tr>\n",
       "<tr><td>כלכלה מטה                 </td><td>ארכה שלישית מוקד טלדור                         </td><td>2017-06-25 </td><td>           </td><td>2018-08-31</td><td>1762829.97</td><td>87620.3</td><td>פטור ממכרז               </td><td>ILS </td><td>     </td></tr>\n",
       "<tr><td>מינהל המחקר החקלאי - עיסקי</td><td>העברת מערכת TTM ושדרוג הרשאות                  </td><td>2017-07-05 </td><td>           </td><td>2018-02-02</td><td>29250.0   </td><td>9000.0 </td><td>פטור ממכרז               </td><td>ILS </td><td>     </td></tr>\n",
       "<tr><td>Total                     </td><td>25                                             </td><td>           </td><td>           </td><td>          </td><td>          </td><td>       </td><td>                         </td><td>    </td><td>     </td></tr>\n",
       "</tbody>\n",
       "</table>"
      ],
      "text/plain": [
       "<IPython.core.display.HTML object>"
      ]
     },
     "metadata": {},
     "output_type": "display_data"
    },
    {
     "name": "stdout",
     "output_type": "stream",
     "text": [
      "Getting https://next.obudget.org/get/org/company/520039710\n"
     ]
    },
    {
     "data": {
      "text/html": [
       "<h3>(org) טלדור מערכות מחשבים (1986) בע\"מ (חברה פרטית):  כלל התמיכות שהארגון קיבל ש שולמו ב כל השנים</h3>"
      ],
      "text/plain": [
       "<IPython.core.display.HTML object>"
      ]
     },
     "metadata": {},
     "output_type": "display_data"
    },
    {
     "data": {
      "text/html": [
       "<pre>SELECT year_paid AS \"שנה\",\n",
       "       supporting_ministry AS \"משרד\",\n",
       "       request_type AS \"סוג תמיכה\",\n",
       "       support_title AS \"נושא\",\n",
       "       sum(amount_paid) AS \"סה״כ שולם\"\n",
       "FROM raw_supports\n",
       "WHERE year_paid >0\n",
       "  AND entity_id='520039710'\n",
       "GROUP BY 1,\n",
       "         2,\n",
       "         3,\n",
       "         4</pre>"
      ],
      "text/plain": [
       "<IPython.core.display.HTML object>"
      ]
     },
     "metadata": {},
     "output_type": "display_data"
    },
    {
     "data": {
      "text/html": [
       "<table>\n",
       "<tbody>\n",
       "<tr><td>נושא                                  </td><td>משרד       </td><td>סוג תמיכה      </td><td>סה״כ שולם </td><td>שנה </td></tr>\n",
       "<tr><td>שילוב מוגבלים בשוק  העבודה            </td><td>משרד הכלכלה</td><td>תמיכה  דרך מוסד</td><td>2679355.8 </td><td>2012</td></tr>\n",
       "<tr><td>מימון התאמות במקום  העבודה            </td><td>משרד הכלכלה</td><td>תמיכה  דרך מוסד</td><td>4552298.81</td><td>2013</td></tr>\n",
       "<tr><td>פעולות לעידוד תעסוקת  אנשים עם מוגבלות</td><td>משרד הכלכלה</td><td>תמיכה  דרך מוסד</td><td>83560.86  </td><td>2013</td></tr>\n",
       "<tr><td>Total                                 </td><td>7          </td><td>               </td><td>          </td><td>    </td></tr>\n",
       "</tbody>\n",
       "</table>"
      ],
      "text/plain": [
       "<IPython.core.display.HTML object>"
      ]
     },
     "metadata": {},
     "output_type": "display_data"
    },
    {
     "data": {
      "text/html": [
       "<h3>(org) טלדור מערכות מחשבים (1986) בע\"מ (חברה פרטית):  כלל התמיכות שהארגון קיבל ש שולמו ב 2008</h3>"
      ],
      "text/plain": [
       "<IPython.core.display.HTML object>"
      ]
     },
     "metadata": {},
     "output_type": "display_data"
    },
    {
     "data": {
      "text/html": [
       "<pre>SELECT year_paid AS \"שנה\",\n",
       "       supporting_ministry AS \"משרד\",\n",
       "       request_type AS \"סוג תמיכה\",\n",
       "       support_title AS \"נושא\",\n",
       "       sum(amount_paid) AS \"סה״כ שולם\"\n",
       "FROM raw_supports\n",
       "WHERE year_paid =2008\n",
       "  AND entity_id='520039710'\n",
       "GROUP BY 1,\n",
       "         2,\n",
       "         3,\n",
       "         4</pre>"
      ],
      "text/plain": [
       "<IPython.core.display.HTML object>"
      ]
     },
     "metadata": {},
     "output_type": "display_data"
    },
    {
     "data": {
      "text/html": [
       "<table>\n",
       "<tbody>\n",
       "<tr><td>Total</td><td style=\"text-align: right;\">0</td></tr>\n",
       "</tbody>\n",
       "</table>"
      ],
      "text/plain": [
       "<IPython.core.display.HTML object>"
      ]
     },
     "metadata": {},
     "output_type": "display_data"
    },
    {
     "data": {
      "text/html": [
       "<h3>(org) טלדור מערכות מחשבים (1986) בע\"מ (חברה פרטית):  כלל התמיכות שהארגון קיבל ש שולמו ב 2009</h3>"
      ],
      "text/plain": [
       "<IPython.core.display.HTML object>"
      ]
     },
     "metadata": {},
     "output_type": "display_data"
    },
    {
     "data": {
      "text/html": [
       "<pre>SELECT year_paid AS \"שנה\",\n",
       "       supporting_ministry AS \"משרד\",\n",
       "       request_type AS \"סוג תמיכה\",\n",
       "       support_title AS \"נושא\",\n",
       "       sum(amount_paid) AS \"סה״כ שולם\"\n",
       "FROM raw_supports\n",
       "WHERE year_paid =2009\n",
       "  AND entity_id='520039710'\n",
       "GROUP BY 1,\n",
       "         2,\n",
       "         3,\n",
       "         4</pre>"
      ],
      "text/plain": [
       "<IPython.core.display.HTML object>"
      ]
     },
     "metadata": {},
     "output_type": "display_data"
    },
    {
     "data": {
      "text/html": [
       "<table>\n",
       "<tbody>\n",
       "<tr><td>Total</td><td style=\"text-align: right;\">0</td></tr>\n",
       "</tbody>\n",
       "</table>"
      ],
      "text/plain": [
       "<IPython.core.display.HTML object>"
      ]
     },
     "metadata": {},
     "output_type": "display_data"
    },
    {
     "data": {
      "text/html": [
       "<h3>(org) טלדור מערכות מחשבים (1986) בע\"מ (חברה פרטית):  כלל התמיכות שהארגון קיבל ש שולמו ב 2010</h3>"
      ],
      "text/plain": [
       "<IPython.core.display.HTML object>"
      ]
     },
     "metadata": {},
     "output_type": "display_data"
    },
    {
     "data": {
      "text/html": [
       "<pre>SELECT year_paid AS \"שנה\",\n",
       "       supporting_ministry AS \"משרד\",\n",
       "       request_type AS \"סוג תמיכה\",\n",
       "       support_title AS \"נושא\",\n",
       "       sum(amount_paid) AS \"סה״כ שולם\"\n",
       "FROM raw_supports\n",
       "WHERE year_paid =2010\n",
       "  AND entity_id='520039710'\n",
       "GROUP BY 1,\n",
       "         2,\n",
       "         3,\n",
       "         4</pre>"
      ],
      "text/plain": [
       "<IPython.core.display.HTML object>"
      ]
     },
     "metadata": {},
     "output_type": "display_data"
    },
    {
     "data": {
      "text/html": [
       "<table>\n",
       "<tbody>\n",
       "<tr><td>Total</td><td style=\"text-align: right;\">0</td></tr>\n",
       "</tbody>\n",
       "</table>"
      ],
      "text/plain": [
       "<IPython.core.display.HTML object>"
      ]
     },
     "metadata": {},
     "output_type": "display_data"
    },
    {
     "data": {
      "text/html": [
       "<h3>(org) טלדור מערכות מחשבים (1986) בע\"מ (חברה פרטית):  כלל התמיכות שהארגון קיבל ש שולמו ב 2011</h3>"
      ],
      "text/plain": [
       "<IPython.core.display.HTML object>"
      ]
     },
     "metadata": {},
     "output_type": "display_data"
    },
    {
     "data": {
      "text/html": [
       "<pre>SELECT year_paid AS \"שנה\",\n",
       "       supporting_ministry AS \"משרד\",\n",
       "       request_type AS \"סוג תמיכה\",\n",
       "       support_title AS \"נושא\",\n",
       "       sum(amount_paid) AS \"סה״כ שולם\"\n",
       "FROM raw_supports\n",
       "WHERE year_paid =2011\n",
       "  AND entity_id='520039710'\n",
       "GROUP BY 1,\n",
       "         2,\n",
       "         3,\n",
       "         4</pre>"
      ],
      "text/plain": [
       "<IPython.core.display.HTML object>"
      ]
     },
     "metadata": {},
     "output_type": "display_data"
    },
    {
     "data": {
      "text/html": [
       "<table>\n",
       "<tbody>\n",
       "<tr><td>Total</td><td style=\"text-align: right;\">0</td></tr>\n",
       "</tbody>\n",
       "</table>"
      ],
      "text/plain": [
       "<IPython.core.display.HTML object>"
      ]
     },
     "metadata": {},
     "output_type": "display_data"
    },
    {
     "data": {
      "text/html": [
       "<h3>(org) טלדור מערכות מחשבים (1986) בע\"מ (חברה פרטית):  כלל התמיכות שהארגון קיבל ש שולמו ב 2012</h3>"
      ],
      "text/plain": [
       "<IPython.core.display.HTML object>"
      ]
     },
     "metadata": {},
     "output_type": "display_data"
    },
    {
     "data": {
      "text/html": [
       "<pre>SELECT year_paid AS \"שנה\",\n",
       "       supporting_ministry AS \"משרד\",\n",
       "       request_type AS \"סוג תמיכה\",\n",
       "       support_title AS \"נושא\",\n",
       "       sum(amount_paid) AS \"סה״כ שולם\"\n",
       "FROM raw_supports\n",
       "WHERE year_paid =2012\n",
       "  AND entity_id='520039710'\n",
       "GROUP BY 1,\n",
       "         2,\n",
       "         3,\n",
       "         4</pre>"
      ],
      "text/plain": [
       "<IPython.core.display.HTML object>"
      ]
     },
     "metadata": {},
     "output_type": "display_data"
    },
    {
     "data": {
      "text/html": [
       "<table>\n",
       "<tbody>\n",
       "<tr><td>נושא                      </td><td>משרד       </td><td>סוג תמיכה      </td><td>סה״כ שולם</td><td>שנה </td></tr>\n",
       "<tr><td>שילוב מוגבלים בשוק  העבודה</td><td>משרד הכלכלה</td><td>תמיכה  דרך מוסד</td><td>2679355.8</td><td>2012</td></tr>\n",
       "<tr><td>Total                     </td><td>1          </td><td>               </td><td>         </td><td>    </td></tr>\n",
       "</tbody>\n",
       "</table>"
      ],
      "text/plain": [
       "<IPython.core.display.HTML object>"
      ]
     },
     "metadata": {},
     "output_type": "display_data"
    },
    {
     "data": {
      "text/html": [
       "<h3>(org) טלדור מערכות מחשבים (1986) בע\"מ (חברה פרטית):  כלל התמיכות שהארגון קיבל ש שולמו ב 2013</h3>"
      ],
      "text/plain": [
       "<IPython.core.display.HTML object>"
      ]
     },
     "metadata": {},
     "output_type": "display_data"
    },
    {
     "data": {
      "text/html": [
       "<pre>SELECT year_paid AS \"שנה\",\n",
       "       supporting_ministry AS \"משרד\",\n",
       "       request_type AS \"סוג תמיכה\",\n",
       "       support_title AS \"נושא\",\n",
       "       sum(amount_paid) AS \"סה״כ שולם\"\n",
       "FROM raw_supports\n",
       "WHERE year_paid =2013\n",
       "  AND entity_id='520039710'\n",
       "GROUP BY 1,\n",
       "         2,\n",
       "         3,\n",
       "         4</pre>"
      ],
      "text/plain": [
       "<IPython.core.display.HTML object>"
      ]
     },
     "metadata": {},
     "output_type": "display_data"
    },
    {
     "data": {
      "text/html": [
       "<table>\n",
       "<tbody>\n",
       "<tr><td>נושא                                  </td><td>משרד       </td><td>סוג תמיכה      </td><td>סה״כ שולם </td><td>שנה </td></tr>\n",
       "<tr><td>מימון התאמות במקום  העבודה            </td><td>משרד הכלכלה</td><td>תמיכה  דרך מוסד</td><td>4552298.81</td><td>2013</td></tr>\n",
       "<tr><td>פעולות לעידוד תעסוקת  אנשים עם מוגבלות</td><td>משרד הכלכלה</td><td>תמיכה  דרך מוסד</td><td>83560.86  </td><td>2013</td></tr>\n",
       "<tr><td>Total                                 </td><td>2          </td><td>               </td><td>          </td><td>    </td></tr>\n",
       "</tbody>\n",
       "</table>"
      ],
      "text/plain": [
       "<IPython.core.display.HTML object>"
      ]
     },
     "metadata": {},
     "output_type": "display_data"
    },
    {
     "data": {
      "text/html": [
       "<h3>(org) טלדור מערכות מחשבים (1986) בע\"מ (חברה פרטית):  כלל התמיכות שהארגון קיבל ש שולמו ב 2014</h3>"
      ],
      "text/plain": [
       "<IPython.core.display.HTML object>"
      ]
     },
     "metadata": {},
     "output_type": "display_data"
    },
    {
     "data": {
      "text/html": [
       "<pre>SELECT year_paid AS \"שנה\",\n",
       "       supporting_ministry AS \"משרד\",\n",
       "       request_type AS \"סוג תמיכה\",\n",
       "       support_title AS \"נושא\",\n",
       "       sum(amount_paid) AS \"סה״כ שולם\"\n",
       "FROM raw_supports\n",
       "WHERE year_paid =2014\n",
       "  AND entity_id='520039710'\n",
       "GROUP BY 1,\n",
       "         2,\n",
       "         3,\n",
       "         4</pre>"
      ],
      "text/plain": [
       "<IPython.core.display.HTML object>"
      ]
     },
     "metadata": {},
     "output_type": "display_data"
    },
    {
     "data": {
      "text/html": [
       "<table>\n",
       "<tbody>\n",
       "<tr><td>נושא                      </td><td>משרד       </td><td>סוג תמיכה      </td><td>סה״כ שולם </td><td>שנה </td></tr>\n",
       "<tr><td>מימון התאמות במקום  העבודה</td><td>משרד הכלכלה</td><td>תמיכה  דרך מוסד</td><td>4320669.92</td><td>2014</td></tr>\n",
       "<tr><td>Total                     </td><td>1          </td><td>               </td><td>          </td><td>    </td></tr>\n",
       "</tbody>\n",
       "</table>"
      ],
      "text/plain": [
       "<IPython.core.display.HTML object>"
      ]
     },
     "metadata": {},
     "output_type": "display_data"
    },
    {
     "data": {
      "text/html": [
       "<h3>(org) טלדור מערכות מחשבים (1986) בע\"מ (חברה פרטית):  כלל התמיכות שהארגון קיבל ש שולמו ב 2015</h3>"
      ],
      "text/plain": [
       "<IPython.core.display.HTML object>"
      ]
     },
     "metadata": {},
     "output_type": "display_data"
    },
    {
     "data": {
      "text/html": [
       "<pre>SELECT year_paid AS \"שנה\",\n",
       "       supporting_ministry AS \"משרד\",\n",
       "       request_type AS \"סוג תמיכה\",\n",
       "       support_title AS \"נושא\",\n",
       "       sum(amount_paid) AS \"סה״כ שולם\"\n",
       "FROM raw_supports\n",
       "WHERE year_paid =2015\n",
       "  AND entity_id='520039710'\n",
       "GROUP BY 1,\n",
       "         2,\n",
       "         3,\n",
       "         4</pre>"
      ],
      "text/plain": [
       "<IPython.core.display.HTML object>"
      ]
     },
     "metadata": {},
     "output_type": "display_data"
    },
    {
     "data": {
      "text/html": [
       "<table>\n",
       "<tbody>\n",
       "<tr><td>נושא                                    </td><td>משרד       </td><td>סוג תמיכה      </td><td>סה״כ שולם </td><td>שנה </td></tr>\n",
       "<tr><td>אנשים עם מוגבלות  -מימון התאמות במקום הע</td><td>משרד הכלכלה</td><td>תמיכה  דרך מוסד</td><td>3442852.01</td><td>2015</td></tr>\n",
       "<tr><td>Total                                   </td><td>1          </td><td>               </td><td>          </td><td>    </td></tr>\n",
       "</tbody>\n",
       "</table>"
      ],
      "text/plain": [
       "<IPython.core.display.HTML object>"
      ]
     },
     "metadata": {},
     "output_type": "display_data"
    },
    {
     "data": {
      "text/html": [
       "<h3>(org) טלדור מערכות מחשבים (1986) בע\"מ (חברה פרטית):  כלל התמיכות שהארגון קיבל ש שולמו ב 2016</h3>"
      ],
      "text/plain": [
       "<IPython.core.display.HTML object>"
      ]
     },
     "metadata": {},
     "output_type": "display_data"
    },
    {
     "data": {
      "text/html": [
       "<pre>SELECT year_paid AS \"שנה\",\n",
       "       supporting_ministry AS \"משרד\",\n",
       "       request_type AS \"סוג תמיכה\",\n",
       "       support_title AS \"נושא\",\n",
       "       sum(amount_paid) AS \"סה״כ שולם\"\n",
       "FROM raw_supports\n",
       "WHERE year_paid =2016\n",
       "  AND entity_id='520039710'\n",
       "GROUP BY 1,\n",
       "         2,\n",
       "         3,\n",
       "         4</pre>"
      ],
      "text/plain": [
       "<IPython.core.display.HTML object>"
      ]
     },
     "metadata": {},
     "output_type": "display_data"
    },
    {
     "data": {
      "text/html": [
       "<table>\n",
       "<tbody>\n",
       "<tr><td>נושא                                    </td><td>משרד       </td><td>סוג תמיכה      </td><td>סה״כ שולם </td><td>שנה </td></tr>\n",
       "<tr><td>אנשים עם מוגבלות  -מימון התאמות במקום הע</td><td>משרד הכלכלה</td><td>תמיכה  דרך מוסד</td><td>2597820.74</td><td>2016</td></tr>\n",
       "<tr><td>Total                                   </td><td>1          </td><td>               </td><td>          </td><td>    </td></tr>\n",
       "</tbody>\n",
       "</table>"
      ],
      "text/plain": [
       "<IPython.core.display.HTML object>"
      ]
     },
     "metadata": {},
     "output_type": "display_data"
    },
    {
     "data": {
      "text/html": [
       "<h3>(org) טלדור מערכות מחשבים (1986) בע\"מ (חברה פרטית):  כלל התמיכות שהארגון קיבל ש שולמו ב 2017</h3>"
      ],
      "text/plain": [
       "<IPython.core.display.HTML object>"
      ]
     },
     "metadata": {},
     "output_type": "display_data"
    },
    {
     "data": {
      "text/html": [
       "<pre>SELECT year_paid AS \"שנה\",\n",
       "       supporting_ministry AS \"משרד\",\n",
       "       request_type AS \"סוג תמיכה\",\n",
       "       support_title AS \"נושא\",\n",
       "       sum(amount_paid) AS \"סה״כ שולם\"\n",
       "FROM raw_supports\n",
       "WHERE year_paid =2017\n",
       "  AND entity_id='520039710'\n",
       "GROUP BY 1,\n",
       "         2,\n",
       "         3,\n",
       "         4</pre>"
      ],
      "text/plain": [
       "<IPython.core.display.HTML object>"
      ]
     },
     "metadata": {},
     "output_type": "display_data"
    },
    {
     "data": {
      "text/html": [
       "<table>\n",
       "<tbody>\n",
       "<tr><td>נושא                                    </td><td>משרד       </td><td>סוג תמיכה      </td><td>סה״כ שולם</td><td>שנה </td></tr>\n",
       "<tr><td>אנשים עם מוגבלות  -מימון התאמות במקום הע</td><td>משרד הכלכלה</td><td>תמיכה  דרך מוסד</td><td>2540820.5</td><td>2017</td></tr>\n",
       "<tr><td>Total                                   </td><td>1          </td><td>               </td><td>         </td><td>    </td></tr>\n",
       "</tbody>\n",
       "</table>"
      ],
      "text/plain": [
       "<IPython.core.display.HTML object>"
      ]
     },
     "metadata": {},
     "output_type": "display_data"
    },
    {
     "data": {
      "text/html": [
       "<h3>(org) טלדור מערכות מחשבים (1986) בע\"מ (חברה פרטית):  כלל התמיכות שהארגון קיבל ש שולמו ב 2018</h3>"
      ],
      "text/plain": [
       "<IPython.core.display.HTML object>"
      ]
     },
     "metadata": {},
     "output_type": "display_data"
    },
    {
     "data": {
      "text/html": [
       "<pre>SELECT year_paid AS \"שנה\",\n",
       "       supporting_ministry AS \"משרד\",\n",
       "       request_type AS \"סוג תמיכה\",\n",
       "       support_title AS \"נושא\",\n",
       "       sum(amount_paid) AS \"סה״כ שולם\"\n",
       "FROM raw_supports\n",
       "WHERE year_paid =2018\n",
       "  AND entity_id='520039710'\n",
       "GROUP BY 1,\n",
       "         2,\n",
       "         3,\n",
       "         4</pre>"
      ],
      "text/plain": [
       "<IPython.core.display.HTML object>"
      ]
     },
     "metadata": {},
     "output_type": "display_data"
    },
    {
     "data": {
      "text/html": [
       "<table>\n",
       "<tbody>\n",
       "<tr><td>Total</td><td style=\"text-align: right;\">0</td></tr>\n",
       "</tbody>\n",
       "</table>"
      ],
      "text/plain": [
       "<IPython.core.display.HTML object>"
      ]
     },
     "metadata": {},
     "output_type": "display_data"
    },
    {
     "data": {
      "text/html": [
       "<h3>(org) טלדור מערכות מחשבים (1986) בע\"מ (חברה פרטית):  כלל התמיכות שהארגון קיבל ש אושרו ב כל השנים</h3>"
      ],
      "text/plain": [
       "<IPython.core.display.HTML object>"
      ]
     },
     "metadata": {},
     "output_type": "display_data"
    },
    {
     "data": {
      "text/html": [
       "<pre>SELECT year_requested AS \"שנה\",\n",
       "       supporting_ministry AS \"משרד\",\n",
       "       request_type AS \"סוג תמיכה\",\n",
       "       support_title AS \"נושא\",\n",
       "       sum(amount_paid) AS \"סה״כ שולם\"\n",
       "FROM raw_supports\n",
       "WHERE year_requested >0\n",
       "  AND entity_id='520039710'\n",
       "GROUP BY 1,\n",
       "         2,\n",
       "         3,\n",
       "         4</pre>"
      ],
      "text/plain": [
       "<IPython.core.display.HTML object>"
      ]
     },
     "metadata": {},
     "output_type": "display_data"
    },
    {
     "data": {
      "text/html": [
       "<table>\n",
       "<tbody>\n",
       "<tr><td>נושא                                  </td><td>משרד       </td><td>סוג תמיכה      </td><td>סה״כ שולם </td><td>שנה </td></tr>\n",
       "<tr><td>פעולות לעידוד תעסוקת  אנשים עם מוגבלות</td><td>משרד הכלכלה</td><td>תמיכה  דרך מוסד</td><td>83560.86  </td><td>2012</td></tr>\n",
       "<tr><td>שילוב מוגבלים בשוק  העבודה            </td><td>משרד הכלכלה</td><td>תמיכה  דרך מוסד</td><td>2679355.8 </td><td>2012</td></tr>\n",
       "<tr><td>מימון התאמות במקום  העבודה            </td><td>משרד הכלכלה</td><td>תמיכה  דרך מוסד</td><td>6672498.11</td><td>2013</td></tr>\n",
       "<tr><td>Total                                 </td><td>7          </td><td>               </td><td>          </td><td>    </td></tr>\n",
       "</tbody>\n",
       "</table>"
      ],
      "text/plain": [
       "<IPython.core.display.HTML object>"
      ]
     },
     "metadata": {},
     "output_type": "display_data"
    },
    {
     "data": {
      "text/html": [
       "<h3>(org) טלדור מערכות מחשבים (1986) בע\"מ (חברה פרטית):  כלל התמיכות שהארגון קיבל ש אושרו ב 2008</h3>"
      ],
      "text/plain": [
       "<IPython.core.display.HTML object>"
      ]
     },
     "metadata": {},
     "output_type": "display_data"
    },
    {
     "data": {
      "text/html": [
       "<pre>SELECT year_requested AS \"שנה\",\n",
       "       supporting_ministry AS \"משרד\",\n",
       "       request_type AS \"סוג תמיכה\",\n",
       "       support_title AS \"נושא\",\n",
       "       sum(amount_paid) AS \"סה״כ שולם\"\n",
       "FROM raw_supports\n",
       "WHERE year_requested =2008\n",
       "  AND entity_id='520039710'\n",
       "GROUP BY 1,\n",
       "         2,\n",
       "         3,\n",
       "         4</pre>"
      ],
      "text/plain": [
       "<IPython.core.display.HTML object>"
      ]
     },
     "metadata": {},
     "output_type": "display_data"
    },
    {
     "data": {
      "text/html": [
       "<table>\n",
       "<tbody>\n",
       "<tr><td>Total</td><td style=\"text-align: right;\">0</td></tr>\n",
       "</tbody>\n",
       "</table>"
      ],
      "text/plain": [
       "<IPython.core.display.HTML object>"
      ]
     },
     "metadata": {},
     "output_type": "display_data"
    },
    {
     "data": {
      "text/html": [
       "<h3>(org) טלדור מערכות מחשבים (1986) בע\"מ (חברה פרטית):  כלל התמיכות שהארגון קיבל ש אושרו ב 2009</h3>"
      ],
      "text/plain": [
       "<IPython.core.display.HTML object>"
      ]
     },
     "metadata": {},
     "output_type": "display_data"
    },
    {
     "data": {
      "text/html": [
       "<pre>SELECT year_requested AS \"שנה\",\n",
       "       supporting_ministry AS \"משרד\",\n",
       "       request_type AS \"סוג תמיכה\",\n",
       "       support_title AS \"נושא\",\n",
       "       sum(amount_paid) AS \"סה״כ שולם\"\n",
       "FROM raw_supports\n",
       "WHERE year_requested =2009\n",
       "  AND entity_id='520039710'\n",
       "GROUP BY 1,\n",
       "         2,\n",
       "         3,\n",
       "         4</pre>"
      ],
      "text/plain": [
       "<IPython.core.display.HTML object>"
      ]
     },
     "metadata": {},
     "output_type": "display_data"
    },
    {
     "data": {
      "text/html": [
       "<table>\n",
       "<tbody>\n",
       "<tr><td>Total</td><td style=\"text-align: right;\">0</td></tr>\n",
       "</tbody>\n",
       "</table>"
      ],
      "text/plain": [
       "<IPython.core.display.HTML object>"
      ]
     },
     "metadata": {},
     "output_type": "display_data"
    },
    {
     "data": {
      "text/html": [
       "<h3>(org) טלדור מערכות מחשבים (1986) בע\"מ (חברה פרטית):  כלל התמיכות שהארגון קיבל ש אושרו ב 2010</h3>"
      ],
      "text/plain": [
       "<IPython.core.display.HTML object>"
      ]
     },
     "metadata": {},
     "output_type": "display_data"
    },
    {
     "data": {
      "text/html": [
       "<pre>SELECT year_requested AS \"שנה\",\n",
       "       supporting_ministry AS \"משרד\",\n",
       "       request_type AS \"סוג תמיכה\",\n",
       "       support_title AS \"נושא\",\n",
       "       sum(amount_paid) AS \"סה״כ שולם\"\n",
       "FROM raw_supports\n",
       "WHERE year_requested =2010\n",
       "  AND entity_id='520039710'\n",
       "GROUP BY 1,\n",
       "         2,\n",
       "         3,\n",
       "         4</pre>"
      ],
      "text/plain": [
       "<IPython.core.display.HTML object>"
      ]
     },
     "metadata": {},
     "output_type": "display_data"
    },
    {
     "data": {
      "text/html": [
       "<table>\n",
       "<tbody>\n",
       "<tr><td>Total</td><td style=\"text-align: right;\">0</td></tr>\n",
       "</tbody>\n",
       "</table>"
      ],
      "text/plain": [
       "<IPython.core.display.HTML object>"
      ]
     },
     "metadata": {},
     "output_type": "display_data"
    },
    {
     "data": {
      "text/html": [
       "<h3>(org) טלדור מערכות מחשבים (1986) בע\"מ (חברה פרטית):  כלל התמיכות שהארגון קיבל ש אושרו ב 2011</h3>"
      ],
      "text/plain": [
       "<IPython.core.display.HTML object>"
      ]
     },
     "metadata": {},
     "output_type": "display_data"
    },
    {
     "data": {
      "text/html": [
       "<pre>SELECT year_requested AS \"שנה\",\n",
       "       supporting_ministry AS \"משרד\",\n",
       "       request_type AS \"סוג תמיכה\",\n",
       "       support_title AS \"נושא\",\n",
       "       sum(amount_paid) AS \"סה״כ שולם\"\n",
       "FROM raw_supports\n",
       "WHERE year_requested =2011\n",
       "  AND entity_id='520039710'\n",
       "GROUP BY 1,\n",
       "         2,\n",
       "         3,\n",
       "         4</pre>"
      ],
      "text/plain": [
       "<IPython.core.display.HTML object>"
      ]
     },
     "metadata": {},
     "output_type": "display_data"
    },
    {
     "data": {
      "text/html": [
       "<table>\n",
       "<tbody>\n",
       "<tr><td>Total</td><td style=\"text-align: right;\">0</td></tr>\n",
       "</tbody>\n",
       "</table>"
      ],
      "text/plain": [
       "<IPython.core.display.HTML object>"
      ]
     },
     "metadata": {},
     "output_type": "display_data"
    },
    {
     "data": {
      "text/html": [
       "<h3>(org) טלדור מערכות מחשבים (1986) בע\"מ (חברה פרטית):  כלל התמיכות שהארגון קיבל ש אושרו ב 2012</h3>"
      ],
      "text/plain": [
       "<IPython.core.display.HTML object>"
      ]
     },
     "metadata": {},
     "output_type": "display_data"
    },
    {
     "data": {
      "text/html": [
       "<pre>SELECT year_requested AS \"שנה\",\n",
       "       supporting_ministry AS \"משרד\",\n",
       "       request_type AS \"סוג תמיכה\",\n",
       "       support_title AS \"נושא\",\n",
       "       sum(amount_paid) AS \"סה״כ שולם\"\n",
       "FROM raw_supports\n",
       "WHERE year_requested =2012\n",
       "  AND entity_id='520039710'\n",
       "GROUP BY 1,\n",
       "         2,\n",
       "         3,\n",
       "         4</pre>"
      ],
      "text/plain": [
       "<IPython.core.display.HTML object>"
      ]
     },
     "metadata": {},
     "output_type": "display_data"
    },
    {
     "data": {
      "text/html": [
       "<table>\n",
       "<tbody>\n",
       "<tr><td>נושא                                  </td><td>משרד       </td><td>סוג תמיכה      </td><td>סה״כ שולם</td><td>שנה </td></tr>\n",
       "<tr><td>פעולות לעידוד תעסוקת  אנשים עם מוגבלות</td><td>משרד הכלכלה</td><td>תמיכה  דרך מוסד</td><td>83560.86 </td><td>2012</td></tr>\n",
       "<tr><td>שילוב מוגבלים בשוק  העבודה            </td><td>משרד הכלכלה</td><td>תמיכה  דרך מוסד</td><td>2679355.8</td><td>2012</td></tr>\n",
       "<tr><td>Total                                 </td><td>2          </td><td>               </td><td>         </td><td>    </td></tr>\n",
       "</tbody>\n",
       "</table>"
      ],
      "text/plain": [
       "<IPython.core.display.HTML object>"
      ]
     },
     "metadata": {},
     "output_type": "display_data"
    },
    {
     "data": {
      "text/html": [
       "<h3>(org) טלדור מערכות מחשבים (1986) בע\"מ (חברה פרטית):  כלל התמיכות שהארגון קיבל ש אושרו ב 2013</h3>"
      ],
      "text/plain": [
       "<IPython.core.display.HTML object>"
      ]
     },
     "metadata": {},
     "output_type": "display_data"
    },
    {
     "data": {
      "text/html": [
       "<pre>SELECT year_requested AS \"שנה\",\n",
       "       supporting_ministry AS \"משרד\",\n",
       "       request_type AS \"סוג תמיכה\",\n",
       "       support_title AS \"נושא\",\n",
       "       sum(amount_paid) AS \"סה״כ שולם\"\n",
       "FROM raw_supports\n",
       "WHERE year_requested =2013\n",
       "  AND entity_id='520039710'\n",
       "GROUP BY 1,\n",
       "         2,\n",
       "         3,\n",
       "         4</pre>"
      ],
      "text/plain": [
       "<IPython.core.display.HTML object>"
      ]
     },
     "metadata": {},
     "output_type": "display_data"
    },
    {
     "data": {
      "text/html": [
       "<table>\n",
       "<tbody>\n",
       "<tr><td>נושא                      </td><td>משרד       </td><td>סוג תמיכה      </td><td>סה״כ שולם </td><td>שנה </td></tr>\n",
       "<tr><td>מימון התאמות במקום  העבודה</td><td>משרד הכלכלה</td><td>תמיכה  דרך מוסד</td><td>6672498.11</td><td>2013</td></tr>\n",
       "<tr><td>תפעול המשרד               </td><td>משרד הכלכלה</td><td>תמיכה  דרך מוסד</td><td>          </td><td>2013</td></tr>\n",
       "<tr><td>Total                     </td><td>2          </td><td>               </td><td>          </td><td>    </td></tr>\n",
       "</tbody>\n",
       "</table>"
      ],
      "text/plain": [
       "<IPython.core.display.HTML object>"
      ]
     },
     "metadata": {},
     "output_type": "display_data"
    },
    {
     "data": {
      "text/html": [
       "<h3>(org) טלדור מערכות מחשבים (1986) בע\"מ (חברה פרטית):  כלל התמיכות שהארגון קיבל ש אושרו ב 2014</h3>"
      ],
      "text/plain": [
       "<IPython.core.display.HTML object>"
      ]
     },
     "metadata": {},
     "output_type": "display_data"
    },
    {
     "data": {
      "text/html": [
       "<pre>SELECT year_requested AS \"שנה\",\n",
       "       supporting_ministry AS \"משרד\",\n",
       "       request_type AS \"סוג תמיכה\",\n",
       "       support_title AS \"נושא\",\n",
       "       sum(amount_paid) AS \"סה״כ שולם\"\n",
       "FROM raw_supports\n",
       "WHERE year_requested =2014\n",
       "  AND entity_id='520039710'\n",
       "GROUP BY 1,\n",
       "         2,\n",
       "         3,\n",
       "         4</pre>"
      ],
      "text/plain": [
       "<IPython.core.display.HTML object>"
      ]
     },
     "metadata": {},
     "output_type": "display_data"
    },
    {
     "data": {
      "text/html": [
       "<table>\n",
       "<tbody>\n",
       "<tr><td>נושא                                    </td><td>משרד       </td><td>סוג תמיכה      </td><td>סה״כ שולם </td><td>שנה </td></tr>\n",
       "<tr><td>אינו מוקצה                              </td><td>משרד הכלכלה</td><td>תמיכה  דרך מוסד</td><td>          </td><td>2014</td></tr>\n",
       "<tr><td>אנשים עם מוגבלות  -מימון התאמות במקום הע</td><td>משרד הכלכלה</td><td>תמיכה  דרך מוסד</td><td>8581493.25</td><td>2014</td></tr>\n",
       "<tr><td>מימון התאמות במקום  העבודה              </td><td>משרד הכלכלה</td><td>תמיכה  דרך מוסד</td><td>2200470.62</td><td>2014</td></tr>\n",
       "<tr><td>Total                                   </td><td>3          </td><td>               </td><td>          </td><td>    </td></tr>\n",
       "</tbody>\n",
       "</table>"
      ],
      "text/plain": [
       "<IPython.core.display.HTML object>"
      ]
     },
     "metadata": {},
     "output_type": "display_data"
    },
    {
     "data": {
      "text/html": [
       "<h3>(org) טלדור מערכות מחשבים (1986) בע\"מ (חברה פרטית):  כלל התמיכות שהארגון קיבל ש אושרו ב 2015</h3>"
      ],
      "text/plain": [
       "<IPython.core.display.HTML object>"
      ]
     },
     "metadata": {},
     "output_type": "display_data"
    },
    {
     "data": {
      "text/html": [
       "<pre>SELECT year_requested AS \"שנה\",\n",
       "       supporting_ministry AS \"משרד\",\n",
       "       request_type AS \"סוג תמיכה\",\n",
       "       support_title AS \"נושא\",\n",
       "       sum(amount_paid) AS \"סה״כ שולם\"\n",
       "FROM raw_supports\n",
       "WHERE year_requested =2015\n",
       "  AND entity_id='520039710'\n",
       "GROUP BY 1,\n",
       "         2,\n",
       "         3,\n",
       "         4</pre>"
      ],
      "text/plain": [
       "<IPython.core.display.HTML object>"
      ]
     },
     "metadata": {},
     "output_type": "display_data"
    },
    {
     "data": {
      "text/html": [
       "<table>\n",
       "<tbody>\n",
       "<tr><td>Total</td><td style=\"text-align: right;\">0</td></tr>\n",
       "</tbody>\n",
       "</table>"
      ],
      "text/plain": [
       "<IPython.core.display.HTML object>"
      ]
     },
     "metadata": {},
     "output_type": "display_data"
    },
    {
     "data": {
      "text/html": [
       "<h3>(org) טלדור מערכות מחשבים (1986) בע\"מ (חברה פרטית):  כלל התמיכות שהארגון קיבל ש אושרו ב 2016</h3>"
      ],
      "text/plain": [
       "<IPython.core.display.HTML object>"
      ]
     },
     "metadata": {},
     "output_type": "display_data"
    },
    {
     "data": {
      "text/html": [
       "<pre>SELECT year_requested AS \"שנה\",\n",
       "       supporting_ministry AS \"משרד\",\n",
       "       request_type AS \"סוג תמיכה\",\n",
       "       support_title AS \"נושא\",\n",
       "       sum(amount_paid) AS \"סה״כ שולם\"\n",
       "FROM raw_supports\n",
       "WHERE year_requested =2016\n",
       "  AND entity_id='520039710'\n",
       "GROUP BY 1,\n",
       "         2,\n",
       "         3,\n",
       "         4</pre>"
      ],
      "text/plain": [
       "<IPython.core.display.HTML object>"
      ]
     },
     "metadata": {},
     "output_type": "display_data"
    },
    {
     "data": {
      "text/html": [
       "<table>\n",
       "<tbody>\n",
       "<tr><td>Total</td><td style=\"text-align: right;\">0</td></tr>\n",
       "</tbody>\n",
       "</table>"
      ],
      "text/plain": [
       "<IPython.core.display.HTML object>"
      ]
     },
     "metadata": {},
     "output_type": "display_data"
    },
    {
     "data": {
      "text/html": [
       "<h3>(org) טלדור מערכות מחשבים (1986) בע\"מ (חברה פרטית):  כלל התמיכות שהארגון קיבל ש אושרו ב 2017</h3>"
      ],
      "text/plain": [
       "<IPython.core.display.HTML object>"
      ]
     },
     "metadata": {},
     "output_type": "display_data"
    },
    {
     "data": {
      "text/html": [
       "<pre>SELECT year_requested AS \"שנה\",\n",
       "       supporting_ministry AS \"משרד\",\n",
       "       request_type AS \"סוג תמיכה\",\n",
       "       support_title AS \"נושא\",\n",
       "       sum(amount_paid) AS \"סה״כ שולם\"\n",
       "FROM raw_supports\n",
       "WHERE year_requested =2017\n",
       "  AND entity_id='520039710'\n",
       "GROUP BY 1,\n",
       "         2,\n",
       "         3,\n",
       "         4</pre>"
      ],
      "text/plain": [
       "<IPython.core.display.HTML object>"
      ]
     },
     "metadata": {},
     "output_type": "display_data"
    },
    {
     "data": {
      "text/html": [
       "<table>\n",
       "<tbody>\n",
       "<tr><td>Total</td><td style=\"text-align: right;\">0</td></tr>\n",
       "</tbody>\n",
       "</table>"
      ],
      "text/plain": [
       "<IPython.core.display.HTML object>"
      ]
     },
     "metadata": {},
     "output_type": "display_data"
    },
    {
     "data": {
      "text/html": [
       "<h3>(org) טלדור מערכות מחשבים (1986) בע\"מ (חברה פרטית):  כלל התמיכות שהארגון קיבל ש אושרו ב 2018</h3>"
      ],
      "text/plain": [
       "<IPython.core.display.HTML object>"
      ]
     },
     "metadata": {},
     "output_type": "display_data"
    },
    {
     "data": {
      "text/html": [
       "<pre>SELECT year_requested AS \"שנה\",\n",
       "       supporting_ministry AS \"משרד\",\n",
       "       request_type AS \"סוג תמיכה\",\n",
       "       support_title AS \"נושא\",\n",
       "       sum(amount_paid) AS \"סה״כ שולם\"\n",
       "FROM raw_supports\n",
       "WHERE year_requested =2018\n",
       "  AND entity_id='520039710'\n",
       "GROUP BY 1,\n",
       "         2,\n",
       "         3,\n",
       "         4</pre>"
      ],
      "text/plain": [
       "<IPython.core.display.HTML object>"
      ]
     },
     "metadata": {},
     "output_type": "display_data"
    },
    {
     "data": {
      "text/html": [
       "<table>\n",
       "<tbody>\n",
       "<tr><td>Total</td><td style=\"text-align: right;\">0</td></tr>\n",
       "</tbody>\n",
       "</table>"
      ],
      "text/plain": [
       "<IPython.core.display.HTML object>"
      ]
     },
     "metadata": {},
     "output_type": "display_data"
    },
    {
     "name": "stdout",
     "output_type": "stream",
     "text": [
      "Getting https://next.obudget.org/get/org/company/520039710\n"
     ]
    },
    {
     "data": {
      "text/html": [
       "<h3>(org) טלדור מערכות מחשבים (1986) בע\"מ (חברה פרטית): התקנות מהן הארגון קיבל תמיכות, לפי סה״כ כספים ששולמו עבור בקשות מ כל השנים</h3>"
      ],
      "text/plain": [
       "<IPython.core.display.HTML object>"
      ]
     },
     "metadata": {},
     "output_type": "display_data"
    },
    {
     "data": {
      "text/html": [
       "<pre>SELECT SUPPORT_TITLE AS \"נושא\",\n",
       "       budget_code AS \"מספר תקנה\",\n",
       "       sum(amount_paid) AS \"סה״כ\",\n",
       "       min(year_requested) || '-' || max(year_requested) AS \"תקופה\"\n",
       "FROM raw_supports\n",
       "WHERE year_requested >0\n",
       "  AND entity_id='520039710'\n",
       "GROUP BY 1,\n",
       "         2\n",
       "ORDER BY 3 DESC nulls LAST</pre>"
      ],
      "text/plain": [
       "<IPython.core.display.HTML object>"
      ]
     },
     "metadata": {},
     "output_type": "display_data"
    },
    {
     "data": {
      "text/html": [
       "<table>\n",
       "<tbody>\n",
       "<tr><td>מספר תקנה </td><td>נושא                                    </td><td>סה״כ      </td><td>תקופה    </td></tr>\n",
       "<tr><td>0036420103</td><td>מימון התאמות במקום  העבודה              </td><td>8872968.73</td><td>2013-2014</td></tr>\n",
       "<tr><td>0036420103</td><td>אנשים עם מוגבלות  -מימון התאמות במקום הע</td><td>8581493.25</td><td>2014-2014</td></tr>\n",
       "<tr><td>0036140125</td><td>שילוב מוגבלים בשוק  העבודה              </td><td>2679355.8 </td><td>2012-2012</td></tr>\n",
       "<tr><td>Total     </td><td>6                                       </td><td>          </td><td>         </td></tr>\n",
       "</tbody>\n",
       "</table>"
      ],
      "text/plain": [
       "<IPython.core.display.HTML object>"
      ]
     },
     "metadata": {},
     "output_type": "display_data"
    },
    {
     "data": {
      "text/html": [
       "<h3>(org) טלדור מערכות מחשבים (1986) בע\"מ (חברה פרטית): התקנות מהן הארגון קיבל תמיכות, לפי סה״כ כספים ששולמו עבור בקשות מ 2008</h3>"
      ],
      "text/plain": [
       "<IPython.core.display.HTML object>"
      ]
     },
     "metadata": {},
     "output_type": "display_data"
    },
    {
     "data": {
      "text/html": [
       "<pre>SELECT SUPPORT_TITLE AS \"נושא\",\n",
       "       budget_code AS \"מספר תקנה\",\n",
       "       sum(amount_paid) AS \"סה״כ\",\n",
       "       min(year_requested) || '-' || max(year_requested) AS \"תקופה\"\n",
       "FROM raw_supports\n",
       "WHERE year_requested =2008\n",
       "  AND entity_id='520039710'\n",
       "GROUP BY 1,\n",
       "         2\n",
       "ORDER BY 3 DESC nulls LAST</pre>"
      ],
      "text/plain": [
       "<IPython.core.display.HTML object>"
      ]
     },
     "metadata": {},
     "output_type": "display_data"
    },
    {
     "data": {
      "text/html": [
       "<table>\n",
       "<tbody>\n",
       "<tr><td>Total</td><td style=\"text-align: right;\">0</td></tr>\n",
       "</tbody>\n",
       "</table>"
      ],
      "text/plain": [
       "<IPython.core.display.HTML object>"
      ]
     },
     "metadata": {},
     "output_type": "display_data"
    },
    {
     "data": {
      "text/html": [
       "<h3>(org) טלדור מערכות מחשבים (1986) בע\"מ (חברה פרטית): התקנות מהן הארגון קיבל תמיכות, לפי סה״כ כספים ששולמו עבור בקשות מ 2009</h3>"
      ],
      "text/plain": [
       "<IPython.core.display.HTML object>"
      ]
     },
     "metadata": {},
     "output_type": "display_data"
    },
    {
     "data": {
      "text/html": [
       "<pre>SELECT SUPPORT_TITLE AS \"נושא\",\n",
       "       budget_code AS \"מספר תקנה\",\n",
       "       sum(amount_paid) AS \"סה״כ\",\n",
       "       min(year_requested) || '-' || max(year_requested) AS \"תקופה\"\n",
       "FROM raw_supports\n",
       "WHERE year_requested =2009\n",
       "  AND entity_id='520039710'\n",
       "GROUP BY 1,\n",
       "         2\n",
       "ORDER BY 3 DESC nulls LAST</pre>"
      ],
      "text/plain": [
       "<IPython.core.display.HTML object>"
      ]
     },
     "metadata": {},
     "output_type": "display_data"
    },
    {
     "data": {
      "text/html": [
       "<table>\n",
       "<tbody>\n",
       "<tr><td>Total</td><td style=\"text-align: right;\">0</td></tr>\n",
       "</tbody>\n",
       "</table>"
      ],
      "text/plain": [
       "<IPython.core.display.HTML object>"
      ]
     },
     "metadata": {},
     "output_type": "display_data"
    },
    {
     "data": {
      "text/html": [
       "<h3>(org) טלדור מערכות מחשבים (1986) בע\"מ (חברה פרטית): התקנות מהן הארגון קיבל תמיכות, לפי סה״כ כספים ששולמו עבור בקשות מ 2010</h3>"
      ],
      "text/plain": [
       "<IPython.core.display.HTML object>"
      ]
     },
     "metadata": {},
     "output_type": "display_data"
    },
    {
     "data": {
      "text/html": [
       "<pre>SELECT SUPPORT_TITLE AS \"נושא\",\n",
       "       budget_code AS \"מספר תקנה\",\n",
       "       sum(amount_paid) AS \"סה״כ\",\n",
       "       min(year_requested) || '-' || max(year_requested) AS \"תקופה\"\n",
       "FROM raw_supports\n",
       "WHERE year_requested =2010\n",
       "  AND entity_id='520039710'\n",
       "GROUP BY 1,\n",
       "         2\n",
       "ORDER BY 3 DESC nulls LAST</pre>"
      ],
      "text/plain": [
       "<IPython.core.display.HTML object>"
      ]
     },
     "metadata": {},
     "output_type": "display_data"
    },
    {
     "data": {
      "text/html": [
       "<table>\n",
       "<tbody>\n",
       "<tr><td>Total</td><td style=\"text-align: right;\">0</td></tr>\n",
       "</tbody>\n",
       "</table>"
      ],
      "text/plain": [
       "<IPython.core.display.HTML object>"
      ]
     },
     "metadata": {},
     "output_type": "display_data"
    },
    {
     "data": {
      "text/html": [
       "<h3>(org) טלדור מערכות מחשבים (1986) בע\"מ (חברה פרטית): התקנות מהן הארגון קיבל תמיכות, לפי סה״כ כספים ששולמו עבור בקשות מ 2011</h3>"
      ],
      "text/plain": [
       "<IPython.core.display.HTML object>"
      ]
     },
     "metadata": {},
     "output_type": "display_data"
    },
    {
     "data": {
      "text/html": [
       "<pre>SELECT SUPPORT_TITLE AS \"נושא\",\n",
       "       budget_code AS \"מספר תקנה\",\n",
       "       sum(amount_paid) AS \"סה״כ\",\n",
       "       min(year_requested) || '-' || max(year_requested) AS \"תקופה\"\n",
       "FROM raw_supports\n",
       "WHERE year_requested =2011\n",
       "  AND entity_id='520039710'\n",
       "GROUP BY 1,\n",
       "         2\n",
       "ORDER BY 3 DESC nulls LAST</pre>"
      ],
      "text/plain": [
       "<IPython.core.display.HTML object>"
      ]
     },
     "metadata": {},
     "output_type": "display_data"
    },
    {
     "data": {
      "text/html": [
       "<table>\n",
       "<tbody>\n",
       "<tr><td>Total</td><td style=\"text-align: right;\">0</td></tr>\n",
       "</tbody>\n",
       "</table>"
      ],
      "text/plain": [
       "<IPython.core.display.HTML object>"
      ]
     },
     "metadata": {},
     "output_type": "display_data"
    },
    {
     "data": {
      "text/html": [
       "<h3>(org) טלדור מערכות מחשבים (1986) בע\"מ (חברה פרטית): התקנות מהן הארגון קיבל תמיכות, לפי סה״כ כספים ששולמו עבור בקשות מ 2012</h3>"
      ],
      "text/plain": [
       "<IPython.core.display.HTML object>"
      ]
     },
     "metadata": {},
     "output_type": "display_data"
    },
    {
     "data": {
      "text/html": [
       "<pre>SELECT SUPPORT_TITLE AS \"נושא\",\n",
       "       budget_code AS \"מספר תקנה\",\n",
       "       sum(amount_paid) AS \"סה״כ\",\n",
       "       min(year_requested) || '-' || max(year_requested) AS \"תקופה\"\n",
       "FROM raw_supports\n",
       "WHERE year_requested =2012\n",
       "  AND entity_id='520039710'\n",
       "GROUP BY 1,\n",
       "         2\n",
       "ORDER BY 3 DESC nulls LAST</pre>"
      ],
      "text/plain": [
       "<IPython.core.display.HTML object>"
      ]
     },
     "metadata": {},
     "output_type": "display_data"
    },
    {
     "data": {
      "text/html": [
       "<table>\n",
       "<tbody>\n",
       "<tr><td>מספר תקנה </td><td>נושא                                  </td><td>סה״כ     </td><td>תקופה    </td></tr>\n",
       "<tr><td>0036140125</td><td>שילוב מוגבלים בשוק  העבודה            </td><td>2679355.8</td><td>2012-2012</td></tr>\n",
       "<tr><td>0036420101</td><td>פעולות לעידוד תעסוקת  אנשים עם מוגבלות</td><td>83560.86 </td><td>2012-2012</td></tr>\n",
       "<tr><td>Total     </td><td>2                                     </td><td>         </td><td>         </td></tr>\n",
       "</tbody>\n",
       "</table>"
      ],
      "text/plain": [
       "<IPython.core.display.HTML object>"
      ]
     },
     "metadata": {},
     "output_type": "display_data"
    },
    {
     "data": {
      "text/html": [
       "<h3>(org) טלדור מערכות מחשבים (1986) בע\"מ (חברה פרטית): התקנות מהן הארגון קיבל תמיכות, לפי סה״כ כספים ששולמו עבור בקשות מ 2013</h3>"
      ],
      "text/plain": [
       "<IPython.core.display.HTML object>"
      ]
     },
     "metadata": {},
     "output_type": "display_data"
    },
    {
     "data": {
      "text/html": [
       "<pre>SELECT SUPPORT_TITLE AS \"נושא\",\n",
       "       budget_code AS \"מספר תקנה\",\n",
       "       sum(amount_paid) AS \"סה״כ\",\n",
       "       min(year_requested) || '-' || max(year_requested) AS \"תקופה\"\n",
       "FROM raw_supports\n",
       "WHERE year_requested =2013\n",
       "  AND entity_id='520039710'\n",
       "GROUP BY 1,\n",
       "         2\n",
       "ORDER BY 3 DESC nulls LAST</pre>"
      ],
      "text/plain": [
       "<IPython.core.display.HTML object>"
      ]
     },
     "metadata": {},
     "output_type": "display_data"
    },
    {
     "data": {
      "text/html": [
       "<table>\n",
       "<tbody>\n",
       "<tr><td>מספר תקנה </td><td>נושא                      </td><td>סה״כ      </td><td>תקופה    </td></tr>\n",
       "<tr><td>0036420103</td><td>מימון התאמות במקום  העבודה</td><td>6672498.11</td><td>2013-2013</td></tr>\n",
       "<tr><td>0036300201</td><td>תפעול המשרד               </td><td>          </td><td>2013-2013</td></tr>\n",
       "<tr><td>Total     </td><td>2                         </td><td>          </td><td>         </td></tr>\n",
       "</tbody>\n",
       "</table>"
      ],
      "text/plain": [
       "<IPython.core.display.HTML object>"
      ]
     },
     "metadata": {},
     "output_type": "display_data"
    },
    {
     "data": {
      "text/html": [
       "<h3>(org) טלדור מערכות מחשבים (1986) בע\"מ (חברה פרטית): התקנות מהן הארגון קיבל תמיכות, לפי סה״כ כספים ששולמו עבור בקשות מ 2014</h3>"
      ],
      "text/plain": [
       "<IPython.core.display.HTML object>"
      ]
     },
     "metadata": {},
     "output_type": "display_data"
    },
    {
     "data": {
      "text/html": [
       "<pre>SELECT SUPPORT_TITLE AS \"נושא\",\n",
       "       budget_code AS \"מספר תקנה\",\n",
       "       sum(amount_paid) AS \"סה״כ\",\n",
       "       min(year_requested) || '-' || max(year_requested) AS \"תקופה\"\n",
       "FROM raw_supports\n",
       "WHERE year_requested =2014\n",
       "  AND entity_id='520039710'\n",
       "GROUP BY 1,\n",
       "         2\n",
       "ORDER BY 3 DESC nulls LAST</pre>"
      ],
      "text/plain": [
       "<IPython.core.display.HTML object>"
      ]
     },
     "metadata": {},
     "output_type": "display_data"
    },
    {
     "data": {
      "text/html": [
       "<table>\n",
       "<tbody>\n",
       "<tr><td>מספר תקנה </td><td>נושא                                    </td><td>סה״כ      </td><td>תקופה    </td></tr>\n",
       "<tr><td>0036420103</td><td>אנשים עם מוגבלות  -מימון התאמות במקום הע</td><td>8581493.25</td><td>2014-2014</td></tr>\n",
       "<tr><td>0036420103</td><td>מימון התאמות במקום  העבודה              </td><td>2200470.62</td><td>2014-2014</td></tr>\n",
       "<tr><td>0036420103</td><td>אינו מוקצה                              </td><td>          </td><td>2014-2014</td></tr>\n",
       "<tr><td>Total     </td><td>3                                       </td><td>          </td><td>         </td></tr>\n",
       "</tbody>\n",
       "</table>"
      ],
      "text/plain": [
       "<IPython.core.display.HTML object>"
      ]
     },
     "metadata": {},
     "output_type": "display_data"
    },
    {
     "data": {
      "text/html": [
       "<h3>(org) טלדור מערכות מחשבים (1986) בע\"מ (חברה פרטית): התקנות מהן הארגון קיבל תמיכות, לפי סה״כ כספים ששולמו עבור בקשות מ 2015</h3>"
      ],
      "text/plain": [
       "<IPython.core.display.HTML object>"
      ]
     },
     "metadata": {},
     "output_type": "display_data"
    },
    {
     "data": {
      "text/html": [
       "<pre>SELECT SUPPORT_TITLE AS \"נושא\",\n",
       "       budget_code AS \"מספר תקנה\",\n",
       "       sum(amount_paid) AS \"סה״כ\",\n",
       "       min(year_requested) || '-' || max(year_requested) AS \"תקופה\"\n",
       "FROM raw_supports\n",
       "WHERE year_requested =2015\n",
       "  AND entity_id='520039710'\n",
       "GROUP BY 1,\n",
       "         2\n",
       "ORDER BY 3 DESC nulls LAST</pre>"
      ],
      "text/plain": [
       "<IPython.core.display.HTML object>"
      ]
     },
     "metadata": {},
     "output_type": "display_data"
    },
    {
     "data": {
      "text/html": [
       "<table>\n",
       "<tbody>\n",
       "<tr><td>Total</td><td style=\"text-align: right;\">0</td></tr>\n",
       "</tbody>\n",
       "</table>"
      ],
      "text/plain": [
       "<IPython.core.display.HTML object>"
      ]
     },
     "metadata": {},
     "output_type": "display_data"
    },
    {
     "data": {
      "text/html": [
       "<h3>(org) טלדור מערכות מחשבים (1986) בע\"מ (חברה פרטית): התקנות מהן הארגון קיבל תמיכות, לפי סה״כ כספים ששולמו עבור בקשות מ 2016</h3>"
      ],
      "text/plain": [
       "<IPython.core.display.HTML object>"
      ]
     },
     "metadata": {},
     "output_type": "display_data"
    },
    {
     "data": {
      "text/html": [
       "<pre>SELECT SUPPORT_TITLE AS \"נושא\",\n",
       "       budget_code AS \"מספר תקנה\",\n",
       "       sum(amount_paid) AS \"סה״כ\",\n",
       "       min(year_requested) || '-' || max(year_requested) AS \"תקופה\"\n",
       "FROM raw_supports\n",
       "WHERE year_requested =2016\n",
       "  AND entity_id='520039710'\n",
       "GROUP BY 1,\n",
       "         2\n",
       "ORDER BY 3 DESC nulls LAST</pre>"
      ],
      "text/plain": [
       "<IPython.core.display.HTML object>"
      ]
     },
     "metadata": {},
     "output_type": "display_data"
    },
    {
     "data": {
      "text/html": [
       "<table>\n",
       "<tbody>\n",
       "<tr><td>Total</td><td style=\"text-align: right;\">0</td></tr>\n",
       "</tbody>\n",
       "</table>"
      ],
      "text/plain": [
       "<IPython.core.display.HTML object>"
      ]
     },
     "metadata": {},
     "output_type": "display_data"
    },
    {
     "data": {
      "text/html": [
       "<h3>(org) טלדור מערכות מחשבים (1986) בע\"מ (חברה פרטית): התקנות מהן הארגון קיבל תמיכות, לפי סה״כ כספים ששולמו עבור בקשות מ 2017</h3>"
      ],
      "text/plain": [
       "<IPython.core.display.HTML object>"
      ]
     },
     "metadata": {},
     "output_type": "display_data"
    },
    {
     "data": {
      "text/html": [
       "<pre>SELECT SUPPORT_TITLE AS \"נושא\",\n",
       "       budget_code AS \"מספר תקנה\",\n",
       "       sum(amount_paid) AS \"סה״כ\",\n",
       "       min(year_requested) || '-' || max(year_requested) AS \"תקופה\"\n",
       "FROM raw_supports\n",
       "WHERE year_requested =2017\n",
       "  AND entity_id='520039710'\n",
       "GROUP BY 1,\n",
       "         2\n",
       "ORDER BY 3 DESC nulls LAST</pre>"
      ],
      "text/plain": [
       "<IPython.core.display.HTML object>"
      ]
     },
     "metadata": {},
     "output_type": "display_data"
    },
    {
     "data": {
      "text/html": [
       "<table>\n",
       "<tbody>\n",
       "<tr><td>Total</td><td style=\"text-align: right;\">0</td></tr>\n",
       "</tbody>\n",
       "</table>"
      ],
      "text/plain": [
       "<IPython.core.display.HTML object>"
      ]
     },
     "metadata": {},
     "output_type": "display_data"
    },
    {
     "data": {
      "text/html": [
       "<h3>(org) טלדור מערכות מחשבים (1986) בע\"מ (חברה פרטית): התקנות מהן הארגון קיבל תמיכות, לפי סה״כ כספים ששולמו עבור בקשות מ 2018</h3>"
      ],
      "text/plain": [
       "<IPython.core.display.HTML object>"
      ]
     },
     "metadata": {},
     "output_type": "display_data"
    },
    {
     "data": {
      "text/html": [
       "<pre>SELECT SUPPORT_TITLE AS \"נושא\",\n",
       "       budget_code AS \"מספר תקנה\",\n",
       "       sum(amount_paid) AS \"סה״כ\",\n",
       "       min(year_requested) || '-' || max(year_requested) AS \"תקופה\"\n",
       "FROM raw_supports\n",
       "WHERE year_requested =2018\n",
       "  AND entity_id='520039710'\n",
       "GROUP BY 1,\n",
       "         2\n",
       "ORDER BY 3 DESC nulls LAST</pre>"
      ],
      "text/plain": [
       "<IPython.core.display.HTML object>"
      ]
     },
     "metadata": {},
     "output_type": "display_data"
    },
    {
     "data": {
      "text/html": [
       "<table>\n",
       "<tbody>\n",
       "<tr><td>Total</td><td style=\"text-align: right;\">0</td></tr>\n",
       "</tbody>\n",
       "</table>"
      ],
      "text/plain": [
       "<IPython.core.display.HTML object>"
      ]
     },
     "metadata": {},
     "output_type": "display_data"
    },
    {
     "data": {
      "text/html": [
       "<h3>(org) טלדור מערכות מחשבים (1986) בע\"מ (חברה פרטית): התקנות מהן הארגון קיבל תמיכות, לפי סה״כ כספים שאושרו עבור בקשות מ כל השנים</h3>"
      ],
      "text/plain": [
       "<IPython.core.display.HTML object>"
      ]
     },
     "metadata": {},
     "output_type": "display_data"
    },
    {
     "data": {
      "text/html": [
       "<pre>SELECT SUPPORT_TITLE AS \"נושא\",\n",
       "       budget_code AS \"מספר תקנה\",\n",
       "       sum(amount_approved) AS \"סה״כ\",\n",
       "       min(year_requested) || '-' || max(year_requested) AS \"תקופה\"\n",
       "FROM raw_supports\n",
       "WHERE year_requested >0\n",
       "  AND entity_id='520039710'\n",
       "GROUP BY 1,\n",
       "         2\n",
       "ORDER BY 3 DESC nulls LAST</pre>"
      ],
      "text/plain": [
       "<IPython.core.display.HTML object>"
      ]
     },
     "metadata": {},
     "output_type": "display_data"
    },
    {
     "data": {
      "text/html": [
       "<table>\n",
       "<tbody>\n",
       "<tr><td>מספר תקנה </td><td>נושא                                  </td><td>סה״כ      </td><td>תקופה    </td></tr>\n",
       "<tr><td>0036420103</td><td>מימון התאמות במקום  העבודה            </td><td>23253140.0</td><td>2013-2014</td></tr>\n",
       "<tr><td>0036420101</td><td>פעולות לעידוד תעסוקת  אנשים עם מוגבלות</td><td>3102881.05</td><td>2012-2012</td></tr>\n",
       "<tr><td>0036300201</td><td>תפעול המשרד                           </td><td>330000.0  </td><td>2013-2013</td></tr>\n",
       "<tr><td>Total     </td><td>6                                     </td><td>          </td><td>         </td></tr>\n",
       "</tbody>\n",
       "</table>"
      ],
      "text/plain": [
       "<IPython.core.display.HTML object>"
      ]
     },
     "metadata": {},
     "output_type": "display_data"
    },
    {
     "data": {
      "text/html": [
       "<h3>(org) טלדור מערכות מחשבים (1986) בע\"מ (חברה פרטית): התקנות מהן הארגון קיבל תמיכות, לפי סה״כ כספים שאושרו עבור בקשות מ 2008</h3>"
      ],
      "text/plain": [
       "<IPython.core.display.HTML object>"
      ]
     },
     "metadata": {},
     "output_type": "display_data"
    },
    {
     "data": {
      "text/html": [
       "<pre>SELECT SUPPORT_TITLE AS \"נושא\",\n",
       "       budget_code AS \"מספר תקנה\",\n",
       "       sum(amount_approved) AS \"סה״כ\",\n",
       "       min(year_requested) || '-' || max(year_requested) AS \"תקופה\"\n",
       "FROM raw_supports\n",
       "WHERE year_requested =2008\n",
       "  AND entity_id='520039710'\n",
       "GROUP BY 1,\n",
       "         2\n",
       "ORDER BY 3 DESC nulls LAST</pre>"
      ],
      "text/plain": [
       "<IPython.core.display.HTML object>"
      ]
     },
     "metadata": {},
     "output_type": "display_data"
    },
    {
     "data": {
      "text/html": [
       "<table>\n",
       "<tbody>\n",
       "<tr><td>Total</td><td style=\"text-align: right;\">0</td></tr>\n",
       "</tbody>\n",
       "</table>"
      ],
      "text/plain": [
       "<IPython.core.display.HTML object>"
      ]
     },
     "metadata": {},
     "output_type": "display_data"
    },
    {
     "data": {
      "text/html": [
       "<h3>(org) טלדור מערכות מחשבים (1986) בע\"מ (חברה פרטית): התקנות מהן הארגון קיבל תמיכות, לפי סה״כ כספים שאושרו עבור בקשות מ 2009</h3>"
      ],
      "text/plain": [
       "<IPython.core.display.HTML object>"
      ]
     },
     "metadata": {},
     "output_type": "display_data"
    },
    {
     "data": {
      "text/html": [
       "<pre>SELECT SUPPORT_TITLE AS \"נושא\",\n",
       "       budget_code AS \"מספר תקנה\",\n",
       "       sum(amount_approved) AS \"סה״כ\",\n",
       "       min(year_requested) || '-' || max(year_requested) AS \"תקופה\"\n",
       "FROM raw_supports\n",
       "WHERE year_requested =2009\n",
       "  AND entity_id='520039710'\n",
       "GROUP BY 1,\n",
       "         2\n",
       "ORDER BY 3 DESC nulls LAST</pre>"
      ],
      "text/plain": [
       "<IPython.core.display.HTML object>"
      ]
     },
     "metadata": {},
     "output_type": "display_data"
    },
    {
     "data": {
      "text/html": [
       "<table>\n",
       "<tbody>\n",
       "<tr><td>Total</td><td style=\"text-align: right;\">0</td></tr>\n",
       "</tbody>\n",
       "</table>"
      ],
      "text/plain": [
       "<IPython.core.display.HTML object>"
      ]
     },
     "metadata": {},
     "output_type": "display_data"
    },
    {
     "data": {
      "text/html": [
       "<h3>(org) טלדור מערכות מחשבים (1986) בע\"מ (חברה פרטית): התקנות מהן הארגון קיבל תמיכות, לפי סה״כ כספים שאושרו עבור בקשות מ 2010</h3>"
      ],
      "text/plain": [
       "<IPython.core.display.HTML object>"
      ]
     },
     "metadata": {},
     "output_type": "display_data"
    },
    {
     "data": {
      "text/html": [
       "<pre>SELECT SUPPORT_TITLE AS \"נושא\",\n",
       "       budget_code AS \"מספר תקנה\",\n",
       "       sum(amount_approved) AS \"סה״כ\",\n",
       "       min(year_requested) || '-' || max(year_requested) AS \"תקופה\"\n",
       "FROM raw_supports\n",
       "WHERE year_requested =2010\n",
       "  AND entity_id='520039710'\n",
       "GROUP BY 1,\n",
       "         2\n",
       "ORDER BY 3 DESC nulls LAST</pre>"
      ],
      "text/plain": [
       "<IPython.core.display.HTML object>"
      ]
     },
     "metadata": {},
     "output_type": "display_data"
    },
    {
     "data": {
      "text/html": [
       "<table>\n",
       "<tbody>\n",
       "<tr><td>Total</td><td style=\"text-align: right;\">0</td></tr>\n",
       "</tbody>\n",
       "</table>"
      ],
      "text/plain": [
       "<IPython.core.display.HTML object>"
      ]
     },
     "metadata": {},
     "output_type": "display_data"
    },
    {
     "data": {
      "text/html": [
       "<h3>(org) טלדור מערכות מחשבים (1986) בע\"מ (חברה פרטית): התקנות מהן הארגון קיבל תמיכות, לפי סה״כ כספים שאושרו עבור בקשות מ 2011</h3>"
      ],
      "text/plain": [
       "<IPython.core.display.HTML object>"
      ]
     },
     "metadata": {},
     "output_type": "display_data"
    },
    {
     "data": {
      "text/html": [
       "<pre>SELECT SUPPORT_TITLE AS \"נושא\",\n",
       "       budget_code AS \"מספר תקנה\",\n",
       "       sum(amount_approved) AS \"סה״כ\",\n",
       "       min(year_requested) || '-' || max(year_requested) AS \"תקופה\"\n",
       "FROM raw_supports\n",
       "WHERE year_requested =2011\n",
       "  AND entity_id='520039710'\n",
       "GROUP BY 1,\n",
       "         2\n",
       "ORDER BY 3 DESC nulls LAST</pre>"
      ],
      "text/plain": [
       "<IPython.core.display.HTML object>"
      ]
     },
     "metadata": {},
     "output_type": "display_data"
    },
    {
     "data": {
      "text/html": [
       "<table>\n",
       "<tbody>\n",
       "<tr><td>Total</td><td style=\"text-align: right;\">0</td></tr>\n",
       "</tbody>\n",
       "</table>"
      ],
      "text/plain": [
       "<IPython.core.display.HTML object>"
      ]
     },
     "metadata": {},
     "output_type": "display_data"
    },
    {
     "data": {
      "text/html": [
       "<h3>(org) טלדור מערכות מחשבים (1986) בע\"מ (חברה פרטית): התקנות מהן הארגון קיבל תמיכות, לפי סה״כ כספים שאושרו עבור בקשות מ 2012</h3>"
      ],
      "text/plain": [
       "<IPython.core.display.HTML object>"
      ]
     },
     "metadata": {},
     "output_type": "display_data"
    },
    {
     "data": {
      "text/html": [
       "<pre>SELECT SUPPORT_TITLE AS \"נושא\",\n",
       "       budget_code AS \"מספר תקנה\",\n",
       "       sum(amount_approved) AS \"סה״כ\",\n",
       "       min(year_requested) || '-' || max(year_requested) AS \"תקופה\"\n",
       "FROM raw_supports\n",
       "WHERE year_requested =2012\n",
       "  AND entity_id='520039710'\n",
       "GROUP BY 1,\n",
       "         2\n",
       "ORDER BY 3 DESC nulls LAST</pre>"
      ],
      "text/plain": [
       "<IPython.core.display.HTML object>"
      ]
     },
     "metadata": {},
     "output_type": "display_data"
    },
    {
     "data": {
      "text/html": [
       "<table>\n",
       "<tbody>\n",
       "<tr><td>מספר תקנה </td><td>נושא                                  </td><td>סה״כ      </td><td>תקופה    </td></tr>\n",
       "<tr><td>0036420101</td><td>פעולות לעידוד תעסוקת  אנשים עם מוגבלות</td><td>3102881.05</td><td>2012-2012</td></tr>\n",
       "<tr><td>0036140125</td><td>שילוב מוגבלים בשוק  העבודה            </td><td>0.0       </td><td>2012-2012</td></tr>\n",
       "<tr><td>Total     </td><td>2                                     </td><td>          </td><td>         </td></tr>\n",
       "</tbody>\n",
       "</table>"
      ],
      "text/plain": [
       "<IPython.core.display.HTML object>"
      ]
     },
     "metadata": {},
     "output_type": "display_data"
    },
    {
     "data": {
      "text/html": [
       "<h3>(org) טלדור מערכות מחשבים (1986) בע\"מ (חברה פרטית): התקנות מהן הארגון קיבל תמיכות, לפי סה״כ כספים שאושרו עבור בקשות מ 2013</h3>"
      ],
      "text/plain": [
       "<IPython.core.display.HTML object>"
      ]
     },
     "metadata": {},
     "output_type": "display_data"
    },
    {
     "data": {
      "text/html": [
       "<pre>SELECT SUPPORT_TITLE AS \"נושא\",\n",
       "       budget_code AS \"מספר תקנה\",\n",
       "       sum(amount_approved) AS \"סה״כ\",\n",
       "       min(year_requested) || '-' || max(year_requested) AS \"תקופה\"\n",
       "FROM raw_supports\n",
       "WHERE year_requested =2013\n",
       "  AND entity_id='520039710'\n",
       "GROUP BY 1,\n",
       "         2\n",
       "ORDER BY 3 DESC nulls LAST</pre>"
      ],
      "text/plain": [
       "<IPython.core.display.HTML object>"
      ]
     },
     "metadata": {},
     "output_type": "display_data"
    },
    {
     "data": {
      "text/html": [
       "<table>\n",
       "<tbody>\n",
       "<tr><td>מספר תקנה </td><td>נושא                      </td><td>סה״כ     </td><td>תקופה    </td></tr>\n",
       "<tr><td>0036420103</td><td>מימון התאמות במקום  העבודה</td><td>9200000.0</td><td>2013-2013</td></tr>\n",
       "<tr><td>0036300201</td><td>תפעול המשרד               </td><td>330000.0 </td><td>2013-2013</td></tr>\n",
       "<tr><td>Total     </td><td>2                         </td><td>         </td><td>         </td></tr>\n",
       "</tbody>\n",
       "</table>"
      ],
      "text/plain": [
       "<IPython.core.display.HTML object>"
      ]
     },
     "metadata": {},
     "output_type": "display_data"
    },
    {
     "data": {
      "text/html": [
       "<h3>(org) טלדור מערכות מחשבים (1986) בע\"מ (חברה פרטית): התקנות מהן הארגון קיבל תמיכות, לפי סה״כ כספים שאושרו עבור בקשות מ 2014</h3>"
      ],
      "text/plain": [
       "<IPython.core.display.HTML object>"
      ]
     },
     "metadata": {},
     "output_type": "display_data"
    },
    {
     "data": {
      "text/html": [
       "<pre>SELECT SUPPORT_TITLE AS \"נושא\",\n",
       "       budget_code AS \"מספר תקנה\",\n",
       "       sum(amount_approved) AS \"סה״כ\",\n",
       "       min(year_requested) || '-' || max(year_requested) AS \"תקופה\"\n",
       "FROM raw_supports\n",
       "WHERE year_requested =2014\n",
       "  AND entity_id='520039710'\n",
       "GROUP BY 1,\n",
       "         2\n",
       "ORDER BY 3 DESC nulls LAST</pre>"
      ],
      "text/plain": [
       "<IPython.core.display.HTML object>"
      ]
     },
     "metadata": {},
     "output_type": "display_data"
    },
    {
     "data": {
      "text/html": [
       "<table>\n",
       "<tbody>\n",
       "<tr><td>מספר תקנה </td><td>נושא                                    </td><td>סה״כ      </td><td>תקופה    </td></tr>\n",
       "<tr><td>0036420103</td><td>מימון התאמות במקום  העבודה              </td><td>14053140.0</td><td>2014-2014</td></tr>\n",
       "<tr><td>0036420103</td><td>אינו מוקצה                              </td><td>0.0       </td><td>2014-2014</td></tr>\n",
       "<tr><td>0036420103</td><td>אנשים עם מוגבלות  -מימון התאמות במקום הע</td><td>0.0       </td><td>2014-2014</td></tr>\n",
       "<tr><td>Total     </td><td>3                                       </td><td>          </td><td>         </td></tr>\n",
       "</tbody>\n",
       "</table>"
      ],
      "text/plain": [
       "<IPython.core.display.HTML object>"
      ]
     },
     "metadata": {},
     "output_type": "display_data"
    },
    {
     "data": {
      "text/html": [
       "<h3>(org) טלדור מערכות מחשבים (1986) בע\"מ (חברה פרטית): התקנות מהן הארגון קיבל תמיכות, לפי סה״כ כספים שאושרו עבור בקשות מ 2015</h3>"
      ],
      "text/plain": [
       "<IPython.core.display.HTML object>"
      ]
     },
     "metadata": {},
     "output_type": "display_data"
    },
    {
     "data": {
      "text/html": [
       "<pre>SELECT SUPPORT_TITLE AS \"נושא\",\n",
       "       budget_code AS \"מספר תקנה\",\n",
       "       sum(amount_approved) AS \"סה״כ\",\n",
       "       min(year_requested) || '-' || max(year_requested) AS \"תקופה\"\n",
       "FROM raw_supports\n",
       "WHERE year_requested =2015\n",
       "  AND entity_id='520039710'\n",
       "GROUP BY 1,\n",
       "         2\n",
       "ORDER BY 3 DESC nulls LAST</pre>"
      ],
      "text/plain": [
       "<IPython.core.display.HTML object>"
      ]
     },
     "metadata": {},
     "output_type": "display_data"
    },
    {
     "data": {
      "text/html": [
       "<table>\n",
       "<tbody>\n",
       "<tr><td>Total</td><td style=\"text-align: right;\">0</td></tr>\n",
       "</tbody>\n",
       "</table>"
      ],
      "text/plain": [
       "<IPython.core.display.HTML object>"
      ]
     },
     "metadata": {},
     "output_type": "display_data"
    },
    {
     "data": {
      "text/html": [
       "<h3>(org) טלדור מערכות מחשבים (1986) בע\"מ (חברה פרטית): התקנות מהן הארגון קיבל תמיכות, לפי סה״כ כספים שאושרו עבור בקשות מ 2016</h3>"
      ],
      "text/plain": [
       "<IPython.core.display.HTML object>"
      ]
     },
     "metadata": {},
     "output_type": "display_data"
    },
    {
     "data": {
      "text/html": [
       "<pre>SELECT SUPPORT_TITLE AS \"נושא\",\n",
       "       budget_code AS \"מספר תקנה\",\n",
       "       sum(amount_approved) AS \"סה״כ\",\n",
       "       min(year_requested) || '-' || max(year_requested) AS \"תקופה\"\n",
       "FROM raw_supports\n",
       "WHERE year_requested =2016\n",
       "  AND entity_id='520039710'\n",
       "GROUP BY 1,\n",
       "         2\n",
       "ORDER BY 3 DESC nulls LAST</pre>"
      ],
      "text/plain": [
       "<IPython.core.display.HTML object>"
      ]
     },
     "metadata": {},
     "output_type": "display_data"
    },
    {
     "data": {
      "text/html": [
       "<table>\n",
       "<tbody>\n",
       "<tr><td>Total</td><td style=\"text-align: right;\">0</td></tr>\n",
       "</tbody>\n",
       "</table>"
      ],
      "text/plain": [
       "<IPython.core.display.HTML object>"
      ]
     },
     "metadata": {},
     "output_type": "display_data"
    },
    {
     "data": {
      "text/html": [
       "<h3>(org) טלדור מערכות מחשבים (1986) בע\"מ (חברה פרטית): התקנות מהן הארגון קיבל תמיכות, לפי סה״כ כספים שאושרו עבור בקשות מ 2017</h3>"
      ],
      "text/plain": [
       "<IPython.core.display.HTML object>"
      ]
     },
     "metadata": {},
     "output_type": "display_data"
    },
    {
     "data": {
      "text/html": [
       "<pre>SELECT SUPPORT_TITLE AS \"נושא\",\n",
       "       budget_code AS \"מספר תקנה\",\n",
       "       sum(amount_approved) AS \"סה״כ\",\n",
       "       min(year_requested) || '-' || max(year_requested) AS \"תקופה\"\n",
       "FROM raw_supports\n",
       "WHERE year_requested =2017\n",
       "  AND entity_id='520039710'\n",
       "GROUP BY 1,\n",
       "         2\n",
       "ORDER BY 3 DESC nulls LAST</pre>"
      ],
      "text/plain": [
       "<IPython.core.display.HTML object>"
      ]
     },
     "metadata": {},
     "output_type": "display_data"
    },
    {
     "data": {
      "text/html": [
       "<table>\n",
       "<tbody>\n",
       "<tr><td>Total</td><td style=\"text-align: right;\">0</td></tr>\n",
       "</tbody>\n",
       "</table>"
      ],
      "text/plain": [
       "<IPython.core.display.HTML object>"
      ]
     },
     "metadata": {},
     "output_type": "display_data"
    },
    {
     "data": {
      "text/html": [
       "<h3>(org) טלדור מערכות מחשבים (1986) בע\"מ (חברה פרטית): התקנות מהן הארגון קיבל תמיכות, לפי סה״כ כספים שאושרו עבור בקשות מ 2018</h3>"
      ],
      "text/plain": [
       "<IPython.core.display.HTML object>"
      ]
     },
     "metadata": {},
     "output_type": "display_data"
    },
    {
     "data": {
      "text/html": [
       "<pre>SELECT SUPPORT_TITLE AS \"נושא\",\n",
       "       budget_code AS \"מספר תקנה\",\n",
       "       sum(amount_approved) AS \"סה״כ\",\n",
       "       min(year_requested) || '-' || max(year_requested) AS \"תקופה\"\n",
       "FROM raw_supports\n",
       "WHERE year_requested =2018\n",
       "  AND entity_id='520039710'\n",
       "GROUP BY 1,\n",
       "         2\n",
       "ORDER BY 3 DESC nulls LAST</pre>"
      ],
      "text/plain": [
       "<IPython.core.display.HTML object>"
      ]
     },
     "metadata": {},
     "output_type": "display_data"
    },
    {
     "data": {
      "text/html": [
       "<table>\n",
       "<tbody>\n",
       "<tr><td>Total</td><td style=\"text-align: right;\">0</td></tr>\n",
       "</tbody>\n",
       "</table>"
      ],
      "text/plain": [
       "<IPython.core.display.HTML object>"
      ]
     },
     "metadata": {},
     "output_type": "display_data"
    },
    {
     "name": "stdout",
     "output_type": "stream",
     "text": [
      "Getting https://next.obudget.org/get/org/company/520039710\n"
     ]
    },
    {
     "data": {
      "text/html": [
       "<h3>(org) טלדור מערכות מחשבים (1986) בע\"מ (חברה פרטית):  כלל ההתקשרויות עם הארגון ב כל השנים</h3>"
      ],
      "text/plain": [
       "<IPython.core.display.HTML object>"
      ]
     },
     "metadata": {},
     "output_type": "display_data"
    },
    {
     "data": {
      "text/html": [
       "<pre>SELECT volume AS \"היקף\",\n",
       "       executed AS \"ביצוע\",\n",
       "       currency AS \"מטבע\",\n",
       "       min_year||'-'||max_year AS \"תקופה\",\n",
       "       purpose AS \"תיאור\",\n",
       "       purchase_method->>0 AS \"אופן רכישה\",\n",
       "                         ((publisher->>0) || '/' || (purchasing_unit->>0)) AS \"היחידה הרוכשת\",\n",
       "                         order_date AS \"תאריך הזמנה\",\n",
       "                         start_date AS \"תאריך התחלה\",\n",
       "                         end_date AS \"תאריך סיום\"\n",
       "FROM contract_spending\n",
       "WHERE entity_id='520039710'\n",
       "  AND ((NULL BETWEEN min_year AND max_year)\n",
       "       OR (min_year IS NULL\n",
       "           AND NULL <= max_year)\n",
       "       OR (max_year IS NULL\n",
       "           AND NULL >= min_year)\n",
       "       OR (NULL IS NULL))</pre>"
      ],
      "text/plain": [
       "<IPython.core.display.HTML object>"
      ]
     },
     "metadata": {},
     "output_type": "display_data"
    },
    {
     "data": {
      "text/html": [
       "<table>\n",
       "<tbody>\n",
       "<tr><td>אופן רכישה               </td><td>ביצוע</td><td>היחידה הרוכשת                            </td><td>היקף      </td><td>מטבע</td><td>תאריך הזמנה</td><td>תאריך התחלה</td><td>תאריך סיום</td><td>תיאור                                          </td><td>תקופה    </td></tr>\n",
       "<tr><td>תקנה 14ב - מכרז מרכזי    </td><td>0.0  </td><td>משרד התקשורת/משרד התקשורת                </td><td>6002.32   </td><td>    </td><td>2017-05-24 </td><td>           </td><td>2017-12-31</td><td>תחזוקת שרתים                                   </td><td>2017-2017</td></tr>\n",
       "<tr><td>תקנה 1ב - מכרז פומבי רגיל</td><td>0.0  </td><td>משרד העלייה והקליטה/משרד העלייה והקליטה  </td><td>1100000.07</td><td>    </td><td>2017-06-04 </td><td>           </td><td>2018-05-28</td><td>ביצוע סקרים טלפונים וסקרים בשאלונים במילוי עצמי</td><td>2017-2018</td></tr>\n",
       "<tr><td>תקנה 14ב - מכרז מרכזי    </td><td>0.0  </td><td>משרד התחבורה/משרד התחבורה והבטיחות בדרכים</td><td>17161.56  </td><td>    </td><td>2017-06-06 </td><td>           </td><td>2017-12-31</td><td>תחזוקת ציוד קצה 2017 השמ\"ט                     </td><td>2017-2017</td></tr>\n",
       "<tr><td>Total                    </td><td>381  </td><td>                                         </td><td>          </td><td>    </td><td>           </td><td>           </td><td>          </td><td>                                               </td><td>         </td></tr>\n",
       "</tbody>\n",
       "</table>"
      ],
      "text/plain": [
       "<IPython.core.display.HTML object>"
      ]
     },
     "metadata": {},
     "output_type": "display_data"
    },
    {
     "data": {
      "text/html": [
       "<h3>(org) טלדור מערכות מחשבים (1986) בע\"מ (חברה פרטית):  כלל ההתקשרויות עם הארגון ב 2014</h3>"
      ],
      "text/plain": [
       "<IPython.core.display.HTML object>"
      ]
     },
     "metadata": {},
     "output_type": "display_data"
    },
    {
     "data": {
      "text/html": [
       "<pre>SELECT volume AS \"היקף\",\n",
       "       executed AS \"ביצוע\",\n",
       "       currency AS \"מטבע\",\n",
       "       min_year||'-'||max_year AS \"תקופה\",\n",
       "       purpose AS \"תיאור\",\n",
       "       purchase_method->>0 AS \"אופן רכישה\",\n",
       "                         ((publisher->>0) || '/' || (purchasing_unit->>0)) AS \"היחידה הרוכשת\",\n",
       "                         order_date AS \"תאריך הזמנה\",\n",
       "                         start_date AS \"תאריך התחלה\",\n",
       "                         end_date AS \"תאריך סיום\"\n",
       "FROM contract_spending\n",
       "WHERE entity_id='520039710'\n",
       "  AND ((2014 BETWEEN min_year AND max_year)\n",
       "       OR (min_year IS NULL\n",
       "           AND 2014 <= max_year)\n",
       "       OR (max_year IS NULL\n",
       "           AND 2014 >= min_year)\n",
       "       OR (2014 IS NULL))</pre>"
      ],
      "text/plain": [
       "<IPython.core.display.HTML object>"
      ]
     },
     "metadata": {},
     "output_type": "display_data"
    },
    {
     "data": {
      "text/html": [
       "<table>\n",
       "<tbody>\n",
       "<tr><td>אופן רכישה</td><td>ביצוע     </td><td>היחידה הרוכשת                          </td><td>היקף      </td><td>מטבע</td><td>תאריך הזמנה</td><td>תאריך התחלה</td><td>תאריך סיום</td><td>תיאור                       </td><td>תקופה    </td></tr>\n",
       "<tr><td>פטור ממכרז</td><td>3110040.46</td><td>רשות האכיפה והגבייה/רשות האכיפה והגבייה</td><td>3100000.41</td><td>ILS </td><td>2015-11-08 </td><td>           </td><td>2014-12-31</td><td>עבור שושים מערכת כלים שלובים</td><td>2014-2015</td></tr>\n",
       "<tr><td>פטור ממכרז</td><td>510072.03 </td><td>רשות האכיפה והגבייה/רשות האכיפה והגבייה</td><td>510072.03 </td><td>ILS </td><td>2016-04-17 </td><td>           </td><td>2014-12-31</td><td>תשלום עבור עמידה ב SLA לחוזב</td><td>2014-2016</td></tr>\n",
       "<tr><td>פטור ממכרז</td><td>35663.94  </td><td>רשות האכיפה והגבייה/רשות האכיפה והגבייה</td><td>35663.94  </td><td>ILS </td><td>2016-07-06 </td><td>           </td><td>2014-12-31</td><td>עבור שושים                  </td><td>2014-2016</td></tr>\n",
       "<tr><td>Total     </td><td>9         </td><td>                                       </td><td>          </td><td>    </td><td>           </td><td>           </td><td>          </td><td>                            </td><td>         </td></tr>\n",
       "</tbody>\n",
       "</table>"
      ],
      "text/plain": [
       "<IPython.core.display.HTML object>"
      ]
     },
     "metadata": {},
     "output_type": "display_data"
    },
    {
     "data": {
      "text/html": [
       "<h3>(org) טלדור מערכות מחשבים (1986) בע\"מ (חברה פרטית):  כלל ההתקשרויות עם הארגון ב 2015</h3>"
      ],
      "text/plain": [
       "<IPython.core.display.HTML object>"
      ]
     },
     "metadata": {},
     "output_type": "display_data"
    },
    {
     "data": {
      "text/html": [
       "<pre>SELECT volume AS \"היקף\",\n",
       "       executed AS \"ביצוע\",\n",
       "       currency AS \"מטבע\",\n",
       "       min_year||'-'||max_year AS \"תקופה\",\n",
       "       purpose AS \"תיאור\",\n",
       "       purchase_method->>0 AS \"אופן רכישה\",\n",
       "                         ((publisher->>0) || '/' || (purchasing_unit->>0)) AS \"היחידה הרוכשת\",\n",
       "                         order_date AS \"תאריך הזמנה\",\n",
       "                         start_date AS \"תאריך התחלה\",\n",
       "                         end_date AS \"תאריך סיום\"\n",
       "FROM contract_spending\n",
       "WHERE entity_id='520039710'\n",
       "  AND ((2015 BETWEEN min_year AND max_year)\n",
       "       OR (min_year IS NULL\n",
       "           AND 2015 <= max_year)\n",
       "       OR (max_year IS NULL\n",
       "           AND 2015 >= min_year)\n",
       "       OR (2015 IS NULL))</pre>"
      ],
      "text/plain": [
       "<IPython.core.display.HTML object>"
      ]
     },
     "metadata": {},
     "output_type": "display_data"
    },
    {
     "data": {
      "text/html": [
       "<table>\n",
       "<tbody>\n",
       "<tr><td>אופן רכישה               </td><td>ביצוע    </td><td>היחידה הרוכשת                                   </td><td>היקף     </td><td>מטבע</td><td>תאריך הזמנה</td><td>תאריך התחלה</td><td>תאריך סיום</td><td>תיאור                 </td><td>תקופה    </td></tr>\n",
       "<tr><td>פטור ממכרז               </td><td>1008.07  </td><td>מב\"ר - גזברות איזורית ת\"א/מב\"ר-גזברות אזורית ת\"א</td><td>1008.07  </td><td>ILS </td><td>2015-10-14 </td><td>           </td><td>          </td><td>מחשוב                 </td><td>2015-2015</td></tr>\n",
       "<tr><td>תקנה 1ב - מכרז פומבי רגיל</td><td>982800.0 </td><td>משרד החינוך/מטה משרד החינוך                     </td><td>3445767.0</td><td>ILS </td><td>2015-10-15 </td><td>           </td><td>2018-08-31</td><td>מערכת למבחנים מתוקשבים</td><td>2015-2018</td></tr>\n",
       "<tr><td>תקנה 1ב - מכרז פומבי רגיל</td><td>572295.67</td><td>משרד החינוך/מטה משרד החינוך                     </td><td>678600.0 </td><td>ILS </td><td>2015-10-15 </td><td>           </td><td>2016-08-31</td><td>מבדק עמית             </td><td>2015-2016</td></tr>\n",
       "<tr><td>Total                    </td><td>161      </td><td>                                                </td><td>         </td><td>    </td><td>           </td><td>           </td><td>          </td><td>                      </td><td>         </td></tr>\n",
       "</tbody>\n",
       "</table>"
      ],
      "text/plain": [
       "<IPython.core.display.HTML object>"
      ]
     },
     "metadata": {},
     "output_type": "display_data"
    },
    {
     "data": {
      "text/html": [
       "<h3>(org) טלדור מערכות מחשבים (1986) בע\"מ (חברה פרטית):  כלל ההתקשרויות עם הארגון ב 2016</h3>"
      ],
      "text/plain": [
       "<IPython.core.display.HTML object>"
      ]
     },
     "metadata": {},
     "output_type": "display_data"
    },
    {
     "data": {
      "text/html": [
       "<pre>SELECT volume AS \"היקף\",\n",
       "       executed AS \"ביצוע\",\n",
       "       currency AS \"מטבע\",\n",
       "       min_year||'-'||max_year AS \"תקופה\",\n",
       "       purpose AS \"תיאור\",\n",
       "       purchase_method->>0 AS \"אופן רכישה\",\n",
       "                         ((publisher->>0) || '/' || (purchasing_unit->>0)) AS \"היחידה הרוכשת\",\n",
       "                         order_date AS \"תאריך הזמנה\",\n",
       "                         start_date AS \"תאריך התחלה\",\n",
       "                         end_date AS \"תאריך סיום\"\n",
       "FROM contract_spending\n",
       "WHERE entity_id='520039710'\n",
       "  AND ((2016 BETWEEN min_year AND max_year)\n",
       "       OR (min_year IS NULL\n",
       "           AND 2016 <= max_year)\n",
       "       OR (max_year IS NULL\n",
       "           AND 2016 >= min_year)\n",
       "       OR (2016 IS NULL))</pre>"
      ],
      "text/plain": [
       "<IPython.core.display.HTML object>"
      ]
     },
     "metadata": {},
     "output_type": "display_data"
    },
    {
     "data": {
      "text/html": [
       "<table>\n",
       "<tbody>\n",
       "<tr><td>אופן רכישה           </td><td>ביצוע    </td><td>היחידה הרוכשת                        </td><td>היקף     </td><td>מטבע</td><td>תאריך הזמנה</td><td>תאריך התחלה</td><td>תאריך סיום</td><td>תיאור                    </td><td>תקופה    </td></tr>\n",
       "<tr><td>תקנה 14ב - מכרז מרכזי</td><td>18904.28 </td><td>משרד האנרגיה והמים/משרד האנרגיה והמים</td><td>39248.82 </td><td>ILS </td><td>2015-04-13 </td><td>           </td><td>2017-12-31</td><td>אחזקה לציוד מיחשוב ושירות</td><td>2015-2017</td></tr>\n",
       "<tr><td>פטור ממכרז           </td><td>17300.05 </td><td>המשרד לבטחון פנים/המשרד לבטחון פנים  </td><td>17153.44 </td><td>ILS </td><td>2015-04-13 </td><td>           </td><td>2017-01-01</td><td>סקר עמדות הציבור         </td><td>2015-2017</td></tr>\n",
       "<tr><td>פטור ממכרז           </td><td>497637.43</td><td>משרד החינוך/מטה משרד החינוך          </td><td>499999.75</td><td>ILS </td><td>2015-04-16 </td><td>           </td><td>2016-03-31</td><td>שירותי מחשוב             </td><td>2015-2016</td></tr>\n",
       "<tr><td>Total                </td><td>247      </td><td>                                     </td><td>         </td><td>    </td><td>           </td><td>           </td><td>          </td><td>                         </td><td>         </td></tr>\n",
       "</tbody>\n",
       "</table>"
      ],
      "text/plain": [
       "<IPython.core.display.HTML object>"
      ]
     },
     "metadata": {},
     "output_type": "display_data"
    },
    {
     "data": {
      "text/html": [
       "<h3>(org) טלדור מערכות מחשבים (1986) בע\"מ (חברה פרטית):  כלל ההתקשרויות עם הארגון ב 2017</h3>"
      ],
      "text/plain": [
       "<IPython.core.display.HTML object>"
      ]
     },
     "metadata": {},
     "output_type": "display_data"
    },
    {
     "data": {
      "text/html": [
       "<pre>SELECT volume AS \"היקף\",\n",
       "       executed AS \"ביצוע\",\n",
       "       currency AS \"מטבע\",\n",
       "       min_year||'-'||max_year AS \"תקופה\",\n",
       "       purpose AS \"תיאור\",\n",
       "       purchase_method->>0 AS \"אופן רכישה\",\n",
       "                         ((publisher->>0) || '/' || (purchasing_unit->>0)) AS \"היחידה הרוכשת\",\n",
       "                         order_date AS \"תאריך הזמנה\",\n",
       "                         start_date AS \"תאריך התחלה\",\n",
       "                         end_date AS \"תאריך סיום\"\n",
       "FROM contract_spending\n",
       "WHERE entity_id='520039710'\n",
       "  AND ((2017 BETWEEN min_year AND max_year)\n",
       "       OR (min_year IS NULL\n",
       "           AND 2017 <= max_year)\n",
       "       OR (max_year IS NULL\n",
       "           AND 2017 >= min_year)\n",
       "       OR (2017 IS NULL))</pre>"
      ],
      "text/plain": [
       "<IPython.core.display.HTML object>"
      ]
     },
     "metadata": {},
     "output_type": "display_data"
    },
    {
     "data": {
      "text/html": [
       "<table>\n",
       "<tbody>\n",
       "<tr><td>אופן רכישה           </td><td>ביצוע   </td><td>היחידה הרוכשת                                </td><td>היקף     </td><td>מטבע</td><td>תאריך הזמנה</td><td>תאריך התחלה</td><td>תאריך סיום</td><td>תיאור                              </td><td>תקופה    </td></tr>\n",
       "<tr><td>תקנה 14ב - מכרז מרכזי</td><td>2319.38 </td><td>רשות האוכלוסין וההגירה/רשות האוכלוסין וההגירה</td><td>6909.04  </td><td>ILS </td><td>2016-02-02 </td><td>           </td><td>2017-12-31</td><td>עבור שירות תחזוקה ואחריות לשנת 2016</td><td>2016-2017</td></tr>\n",
       "<tr><td>תקנה 14ב - מכרז מרכזי</td><td>33548.16</td><td>רשות האוכלוסין וההגירה/רשות האוכלוסין וההגירה</td><td>113172.11</td><td>ILS </td><td>2016-02-02 </td><td>           </td><td>2017-12-31</td><td>עבור שירות תחזוקה ואחריות לשנת 2016</td><td>2016-2017</td></tr>\n",
       "<tr><td>תקנה 14ב - מכרז מרכזי</td><td>1435.8  </td><td>רשות האוכלוסין וההגירה/רשות האוכלוסין וההגירה</td><td>4145.43  </td><td>ILS </td><td>2016-02-02 </td><td>           </td><td>2017-12-31</td><td>עבור שירות תחזוקה ואחריות לשנת 2016</td><td>2016-2017</td></tr>\n",
       "<tr><td>Total                </td><td>165     </td><td>                                             </td><td>         </td><td>    </td><td>           </td><td>           </td><td>          </td><td>                                   </td><td>         </td></tr>\n",
       "</tbody>\n",
       "</table>"
      ],
      "text/plain": [
       "<IPython.core.display.HTML object>"
      ]
     },
     "metadata": {},
     "output_type": "display_data"
    },
    {
     "data": {
      "text/html": [
       "<h3>(org) טלדור מערכות מחשבים (1986) בע\"מ (חברה פרטית):  כלל ההתקשרויות עם הארגון ב 2018</h3>"
      ],
      "text/plain": [
       "<IPython.core.display.HTML object>"
      ]
     },
     "metadata": {},
     "output_type": "display_data"
    },
    {
     "data": {
      "text/html": [
       "<pre>SELECT volume AS \"היקף\",\n",
       "       executed AS \"ביצוע\",\n",
       "       currency AS \"מטבע\",\n",
       "       min_year||'-'||max_year AS \"תקופה\",\n",
       "       purpose AS \"תיאור\",\n",
       "       purchase_method->>0 AS \"אופן רכישה\",\n",
       "                         ((publisher->>0) || '/' || (purchasing_unit->>0)) AS \"היחידה הרוכשת\",\n",
       "                         order_date AS \"תאריך הזמנה\",\n",
       "                         start_date AS \"תאריך התחלה\",\n",
       "                         end_date AS \"תאריך סיום\"\n",
       "FROM contract_spending\n",
       "WHERE entity_id='520039710'\n",
       "  AND ((2018 BETWEEN min_year AND max_year)\n",
       "       OR (min_year IS NULL\n",
       "           AND 2018 <= max_year)\n",
       "       OR (max_year IS NULL\n",
       "           AND 2018 >= min_year)\n",
       "       OR (2018 IS NULL))</pre>"
      ],
      "text/plain": [
       "<IPython.core.display.HTML object>"
      ]
     },
     "metadata": {},
     "output_type": "display_data"
    },
    {
     "data": {
      "text/html": [
       "<table>\n",
       "<tbody>\n",
       "<tr><td>אופן רכישה               </td><td>ביצוע    </td><td>היחידה הרוכשת                                   </td><td>היקף      </td><td>מטבע</td><td>תאריך הזמנה</td><td>תאריך התחלה</td><td>תאריך סיום</td><td>תיאור                                          </td><td>תקופה    </td></tr>\n",
       "<tr><td>פטור ממכרז               </td><td>0.0      </td><td>המשרד לבטחון פנים/המשרד לבטחון פנים-הרשות הארצית</td><td>526797.18 </td><td>ILS </td><td>2017-04-19 </td><td>           </td><td>2019-12-31</td><td>שירותי תחזוקה ויעוץ תוכנה                      </td><td>2017-2019</td></tr>\n",
       "<tr><td>פטור ממכרז               </td><td>992340.36</td><td>המשרד לבטחון פנים/המשרד לבטחון פנים-הרשות הארצית</td><td>4309866.11</td><td>ILS </td><td>2017-04-19 </td><td>           </td><td>2019-12-31</td><td>שירותי תחזוקה ויעוץ תוכנה                      </td><td>2017-2019</td></tr>\n",
       "<tr><td>תקנה 1ב - מכרז פומבי רגיל</td><td>0.0      </td><td>משרד העלייה והקליטה/משרד העלייה והקליטה         </td><td>1100000.07</td><td>    </td><td>2017-06-04 </td><td>           </td><td>2018-05-28</td><td>ביצוע סקרים טלפונים וסקרים בשאלונים במילוי עצמי</td><td>2017-2018</td></tr>\n",
       "<tr><td>Total                    </td><td>25       </td><td>                                                </td><td>          </td><td>    </td><td>           </td><td>           </td><td>          </td><td>                                               </td><td>         </td></tr>\n",
       "</tbody>\n",
       "</table>"
      ],
      "text/plain": [
       "<IPython.core.display.HTML object>"
      ]
     },
     "metadata": {},
     "output_type": "display_data"
    },
    {
     "name": "stdout",
     "output_type": "stream",
     "text": [
      "Getting https://next.obudget.org/get/org/company/520039710\n"
     ]
    },
    {
     "data": {
      "text/html": [
       "<h3>(org) טלדור מערכות מחשבים (1986) בע\"מ (חברה פרטית): הגופים מהם בוצעו התקשרויות עם הארגון</h3>"
      ],
      "text/plain": [
       "<IPython.core.display.HTML object>"
      ]
     },
     "metadata": {},
     "output_type": "display_data"
    },
    {
     "data": {
      "text/html": [
       "<pre>SELECT ((publisher->>0) || '/' || (purchasing_unit->>0)) AS \"היחידה הרוכשת\",\n",
       "       currency AS \"מטבע\",\n",
       "       sum(volume) AS \"סך היקף\",\n",
       "       sum(executed) AS \"סך ביצוע\",\n",
       "       min(min_year)||'-'||max(max_year) AS \"תקופה\"\n",
       "FROM contract_spending\n",
       "WHERE entity_id='520039710'\n",
       "GROUP BY 1,\n",
       "         2\n",
       "ORDER BY 3 DESC</pre>"
      ],
      "text/plain": [
       "<IPython.core.display.HTML object>"
      ]
     },
     "metadata": {},
     "output_type": "display_data"
    },
    {
     "data": {
      "text/html": [
       "<table>\n",
       "<tbody>\n",
       "<tr><td>היחידה הרוכשת                          </td><td>מטבע</td><td>סך ביצוע   </td><td>סך היקף     </td><td>תקופה    </td></tr>\n",
       "<tr><td>משרד החינוך/מטה משרד החינוך            </td><td>ILS </td><td>94047719.85</td><td>155522708.54</td><td>2015-2018</td></tr>\n",
       "<tr><td>רשות האכיפה והגבייה/רשות האכיפה והגבייה</td><td>ILS </td><td>65840788.53</td><td>66292671.54 </td><td>2010-2017</td></tr>\n",
       "<tr><td>מנהל מקרקעי ישראל/רשות למקרקעי ישראל   </td><td>ILS </td><td>8433592.75 </td><td>21669000.47 </td><td>2015-2018</td></tr>\n",
       "<tr><td>Total                                  </td><td>55  </td><td>           </td><td>            </td><td>         </td></tr>\n",
       "</tbody>\n",
       "</table>"
      ],
      "text/plain": [
       "<IPython.core.display.HTML object>"
      ]
     },
     "metadata": {},
     "output_type": "display_data"
    },
    {
     "name": "stdout",
     "output_type": "stream",
     "text": [
      "Getting https://next.obudget.org/get/supports/0020460604/2016/%D7%A2%D7%99%D7%A8%D7%99%D7%AA%20%D7%A8%D7%97%D7%95%D7%91%D7%95%D7%AA/%D7%94%D7%A7%D7%A6%D7%91%D7%95%D7%AA\n"
     ]
    },
    {
     "data": {
      "text/html": [
       "<h3>(supports) תמיכה תקציבית בעירית רחובות:  כלל התמיכות שאותו הארגון קיבל ש שולמו ב כל השנים</h3>"
      ],
      "text/plain": [
       "<IPython.core.display.HTML object>"
      ]
     },
     "metadata": {},
     "output_type": "display_data"
    },
    {
     "data": {
      "text/html": [
       "<pre>SELECT year_paid AS \"שנה\",\n",
       "       supporting_ministry AS \"משרד\",\n",
       "       request_type AS \"סוג תמיכה\",\n",
       "       support_title AS \"נושא\",\n",
       "       sum(amount_paid) AS \"סה״כ שולם\"\n",
       "FROM raw_supports\n",
       "WHERE year_paid >0\n",
       "  AND entity_id='500284005'\n",
       "GROUP BY 1,\n",
       "         2,\n",
       "         3,\n",
       "         4</pre>"
      ],
      "text/plain": [
       "<IPython.core.display.HTML object>"
      ]
     },
     "metadata": {},
     "output_type": "display_data"
    },
    {
     "data": {
      "text/html": [
       "<table>\n",
       "<tbody>\n",
       "<tr><td>שנה  </td><td>משרד                     </td><td>נושא                                    </td><td>סה״כ שולם</td><td>סוג תמיכה         </td></tr>\n",
       "<tr><td>2008 </td><td>המשרד לבטחון פנים        </td><td>מצילה - תפעול והוצאותשוטפות             </td><td>146175.0 </td><td>תמיכה לרשות מקומית</td></tr>\n",
       "<tr><td>2008 </td><td>מ. החינוך-חינוך התיישבותי</td><td>הקצבות להוראת החקלאותבבתי ספר יסודייםובח</td><td>14615.82 </td><td>הקצבות            </td></tr>\n",
       "<tr><td>2008 </td><td>מב\"ר - מחוז בריאות מרכז  </td><td>הפעלה שיקום שכונות                      </td><td>30580.0  </td><td>תמיכה לרשות מקומית</td></tr>\n",
       "<tr><td>Total</td><td>512                      </td><td>                                        </td><td>         </td><td>                  </td></tr>\n",
       "</tbody>\n",
       "</table>"
      ],
      "text/plain": [
       "<IPython.core.display.HTML object>"
      ]
     },
     "metadata": {},
     "output_type": "display_data"
    },
    {
     "data": {
      "text/html": [
       "<h3>(supports) תמיכה תקציבית בעירית רחובות:  כלל התמיכות שאותו הארגון קיבל ש שולמו ב 2008</h3>"
      ],
      "text/plain": [
       "<IPython.core.display.HTML object>"
      ]
     },
     "metadata": {},
     "output_type": "display_data"
    },
    {
     "data": {
      "text/html": [
       "<pre>SELECT year_paid AS \"שנה\",\n",
       "       supporting_ministry AS \"משרד\",\n",
       "       request_type AS \"סוג תמיכה\",\n",
       "       support_title AS \"נושא\",\n",
       "       sum(amount_paid) AS \"סה״כ שולם\"\n",
       "FROM raw_supports\n",
       "WHERE year_paid =2008\n",
       "  AND entity_id='500284005'\n",
       "GROUP BY 1,\n",
       "         2,\n",
       "         3,\n",
       "         4</pre>"
      ],
      "text/plain": [
       "<IPython.core.display.HTML object>"
      ]
     },
     "metadata": {},
     "output_type": "display_data"
    },
    {
     "data": {
      "text/html": [
       "<table>\n",
       "<tbody>\n",
       "<tr><td>שנה  </td><td>משרד                     </td><td>נושא                                    </td><td>סה״כ שולם</td><td>סוג תמיכה         </td></tr>\n",
       "<tr><td>2008 </td><td>המשרד לבטחון פנים        </td><td>מצילה - תפעול והוצאותשוטפות             </td><td>146175.0 </td><td>תמיכה לרשות מקומית</td></tr>\n",
       "<tr><td>2008 </td><td>מ. החינוך-חינוך התיישבותי</td><td>הקצבות להוראת החקלאותבבתי ספר יסודייםובח</td><td>14615.82 </td><td>הקצבות            </td></tr>\n",
       "<tr><td>2008 </td><td>מב\"ר - מחוז בריאות מרכז  </td><td>הפעלה שיקום שכונות                      </td><td>30580.0  </td><td>תמיכה לרשות מקומית</td></tr>\n",
       "<tr><td>Total</td><td>35                       </td><td>                                        </td><td>         </td><td>                  </td></tr>\n",
       "</tbody>\n",
       "</table>"
      ],
      "text/plain": [
       "<IPython.core.display.HTML object>"
      ]
     },
     "metadata": {},
     "output_type": "display_data"
    },
    {
     "data": {
      "text/html": [
       "<h3>(supports) תמיכה תקציבית בעירית רחובות:  כלל התמיכות שאותו הארגון קיבל ש שולמו ב 2009</h3>"
      ],
      "text/plain": [
       "<IPython.core.display.HTML object>"
      ]
     },
     "metadata": {},
     "output_type": "display_data"
    },
    {
     "data": {
      "text/html": [
       "<pre>SELECT year_paid AS \"שנה\",\n",
       "       supporting_ministry AS \"משרד\",\n",
       "       request_type AS \"סוג תמיכה\",\n",
       "       support_title AS \"נושא\",\n",
       "       sum(amount_paid) AS \"סה״כ שולם\"\n",
       "FROM raw_supports\n",
       "WHERE year_paid =2009\n",
       "  AND entity_id='500284005'\n",
       "GROUP BY 1,\n",
       "         2,\n",
       "         3,\n",
       "         4</pre>"
      ],
      "text/plain": [
       "<IPython.core.display.HTML object>"
      ]
     },
     "metadata": {},
     "output_type": "display_data"
    },
    {
     "data": {
      "text/html": [
       "<table>\n",
       "<tbody>\n",
       "<tr><td>שנה  </td><td>משרד                     </td><td>נושא                                    </td><td>סה״כ שולם</td><td>סוג תמיכה         </td></tr>\n",
       "<tr><td>2009 </td><td>המשרד לבטחון פנים        </td><td>מצילה - תפעול והוצאותשוטפות             </td><td>125000.0 </td><td>תמיכה לרשות מקומית</td></tr>\n",
       "<tr><td>2009 </td><td>המשרד לשירותי דת         </td><td>פיתוח מבני דת בהתאםלהסכם קואליציוני עםסי</td><td>46400.0  </td><td>תמיכה לרשות מקומית</td></tr>\n",
       "<tr><td>2009 </td><td>מ. החינוך-חינוך התיישבותי</td><td>הקצבות להוראת החקלאותבבתי ספר יסודייםובח</td><td>6527.0   </td><td>הקצבות            </td></tr>\n",
       "<tr><td>Total</td><td>44                       </td><td>                                        </td><td>         </td><td>                  </td></tr>\n",
       "</tbody>\n",
       "</table>"
      ],
      "text/plain": [
       "<IPython.core.display.HTML object>"
      ]
     },
     "metadata": {},
     "output_type": "display_data"
    },
    {
     "data": {
      "text/html": [
       "<h3>(supports) תמיכה תקציבית בעירית רחובות:  כלל התמיכות שאותו הארגון קיבל ש שולמו ב 2010</h3>"
      ],
      "text/plain": [
       "<IPython.core.display.HTML object>"
      ]
     },
     "metadata": {},
     "output_type": "display_data"
    },
    {
     "data": {
      "text/html": [
       "<pre>SELECT year_paid AS \"שנה\",\n",
       "       supporting_ministry AS \"משרד\",\n",
       "       request_type AS \"סוג תמיכה\",\n",
       "       support_title AS \"נושא\",\n",
       "       sum(amount_paid) AS \"סה״כ שולם\"\n",
       "FROM raw_supports\n",
       "WHERE year_paid =2010\n",
       "  AND entity_id='500284005'\n",
       "GROUP BY 1,\n",
       "         2,\n",
       "         3,\n",
       "         4</pre>"
      ],
      "text/plain": [
       "<IPython.core.display.HTML object>"
      ]
     },
     "metadata": {},
     "output_type": "display_data"
    },
    {
     "data": {
      "text/html": [
       "<table>\n",
       "<tbody>\n",
       "<tr><td>שנה  </td><td>משרד                     </td><td>נושא                                   </td><td>סה״כ שולם</td><td>סוג תמיכה         </td></tr>\n",
       "<tr><td>2010 </td><td>המשרד לבטחון פנים        </td><td>מצילה - תפעול והוצאות  שוטפות          </td><td>124000.0 </td><td>תמיכה לרשות מקומית</td></tr>\n",
       "<tr><td>2010 </td><td>מ. החינוך-חינוך התיישבותי</td><td>הקצבות להוראת החקלאות  בבתי ספר יסודיים</td><td>5031.0   </td><td>הקצבות            </td></tr>\n",
       "<tr><td>2010 </td><td>משרד הבריאות             </td><td>סייעות לילדים                          </td><td>22000.0  </td><td>בקשת תמיכה לפרט   </td></tr>\n",
       "<tr><td>Total</td><td>41                       </td><td>                                       </td><td>         </td><td>                  </td></tr>\n",
       "</tbody>\n",
       "</table>"
      ],
      "text/plain": [
       "<IPython.core.display.HTML object>"
      ]
     },
     "metadata": {},
     "output_type": "display_data"
    },
    {
     "data": {
      "text/html": [
       "<h3>(supports) תמיכה תקציבית בעירית רחובות:  כלל התמיכות שאותו הארגון קיבל ש שולמו ב 2011</h3>"
      ],
      "text/plain": [
       "<IPython.core.display.HTML object>"
      ]
     },
     "metadata": {},
     "output_type": "display_data"
    },
    {
     "data": {
      "text/html": [
       "<pre>SELECT year_paid AS \"שנה\",\n",
       "       supporting_ministry AS \"משרד\",\n",
       "       request_type AS \"סוג תמיכה\",\n",
       "       support_title AS \"נושא\",\n",
       "       sum(amount_paid) AS \"סה״כ שולם\"\n",
       "FROM raw_supports\n",
       "WHERE year_paid =2011\n",
       "  AND entity_id='500284005'\n",
       "GROUP BY 1,\n",
       "         2,\n",
       "         3,\n",
       "         4</pre>"
      ],
      "text/plain": [
       "<IPython.core.display.HTML object>"
      ]
     },
     "metadata": {},
     "output_type": "display_data"
    },
    {
     "data": {
      "text/html": [
       "<table>\n",
       "<tbody>\n",
       "<tr><td>שנה  </td><td>משרד                     </td><td>נושא                                   </td><td>סה״כ שולם</td><td>סוג תמיכה         </td></tr>\n",
       "<tr><td>2011 </td><td>המשרד לבטחון פנים        </td><td>מצילה - תפעול והוצאות  שוטפות          </td><td>95907.5  </td><td>תמיכה לרשות מקומית</td></tr>\n",
       "<tr><td>2011 </td><td>מ. החינוך-חינוך התיישבותי</td><td>הקצבות להוראת החקלאות  בבתי ספר יסודיים</td><td>9999.0   </td><td>הקצבות            </td></tr>\n",
       "<tr><td>2011 </td><td>משרד החינוך              </td><td>הכשרה ותגמול של רכזים  למלחמה בסמים    </td><td>14715.9  </td><td>הקצבות            </td></tr>\n",
       "<tr><td>Total</td><td>44                       </td><td>                                       </td><td>         </td><td>                  </td></tr>\n",
       "</tbody>\n",
       "</table>"
      ],
      "text/plain": [
       "<IPython.core.display.HTML object>"
      ]
     },
     "metadata": {},
     "output_type": "display_data"
    },
    {
     "data": {
      "text/html": [
       "<h3>(supports) תמיכה תקציבית בעירית רחובות:  כלל התמיכות שאותו הארגון קיבל ש שולמו ב 2012</h3>"
      ],
      "text/plain": [
       "<IPython.core.display.HTML object>"
      ]
     },
     "metadata": {},
     "output_type": "display_data"
    },
    {
     "data": {
      "text/html": [
       "<pre>SELECT year_paid AS \"שנה\",\n",
       "       supporting_ministry AS \"משרד\",\n",
       "       request_type AS \"סוג תמיכה\",\n",
       "       support_title AS \"נושא\",\n",
       "       sum(amount_paid) AS \"סה״כ שולם\"\n",
       "FROM raw_supports\n",
       "WHERE year_paid =2012\n",
       "  AND entity_id='500284005'\n",
       "GROUP BY 1,\n",
       "         2,\n",
       "         3,\n",
       "         4</pre>"
      ],
      "text/plain": [
       "<IPython.core.display.HTML object>"
      ]
     },
     "metadata": {},
     "output_type": "display_data"
    },
    {
     "data": {
      "text/html": [
       "<table>\n",
       "<tbody>\n",
       "<tr><td>שנה  </td><td>משרד                     </td><td>נושא                                   </td><td>סה״כ שולם</td><td>סוג תמיכה         </td></tr>\n",
       "<tr><td>2012 </td><td>המשרד לבטחון פנים        </td><td>מצילה - תפעול והוצאות  שוטפות          </td><td>92020.0  </td><td>תמיכה לרשות מקומית</td></tr>\n",
       "<tr><td>2012 </td><td>מ. החינוך-חינוך התיישבותי</td><td>הקצבות להוראת החקלאות  בבתי ספר יסודיים</td><td>12132.0  </td><td>הקצבות            </td></tr>\n",
       "<tr><td>2012 </td><td>משרד החינוך              </td><td>הכשרה ותגמול של רכזים  למלחמה בסמים    </td><td>20000.0  </td><td>הקצבות            </td></tr>\n",
       "<tr><td>Total</td><td>58                       </td><td>                                       </td><td>         </td><td>                  </td></tr>\n",
       "</tbody>\n",
       "</table>"
      ],
      "text/plain": [
       "<IPython.core.display.HTML object>"
      ]
     },
     "metadata": {},
     "output_type": "display_data"
    },
    {
     "data": {
      "text/html": [
       "<h3>(supports) תמיכה תקציבית בעירית רחובות:  כלל התמיכות שאותו הארגון קיבל ש שולמו ב 2013</h3>"
      ],
      "text/plain": [
       "<IPython.core.display.HTML object>"
      ]
     },
     "metadata": {},
     "output_type": "display_data"
    },
    {
     "data": {
      "text/html": [
       "<pre>SELECT year_paid AS \"שנה\",\n",
       "       supporting_ministry AS \"משרד\",\n",
       "       request_type AS \"סוג תמיכה\",\n",
       "       support_title AS \"נושא\",\n",
       "       sum(amount_paid) AS \"סה״כ שולם\"\n",
       "FROM raw_supports\n",
       "WHERE year_paid =2013\n",
       "  AND entity_id='500284005'\n",
       "GROUP BY 1,\n",
       "         2,\n",
       "         3,\n",
       "         4</pre>"
      ],
      "text/plain": [
       "<IPython.core.display.HTML object>"
      ]
     },
     "metadata": {},
     "output_type": "display_data"
    },
    {
     "data": {
      "text/html": [
       "<table>\n",
       "<tbody>\n",
       "<tr><td>שנה  </td><td>משרד                     </td><td>נושא                                   </td><td>סה״כ שולם</td><td>סוג תמיכה         </td></tr>\n",
       "<tr><td>2013 </td><td>המשרד לבטחון פנים        </td><td>מצילה - תפעול והוצאות                  </td><td>65250.0  </td><td>תמיכה לרשות מקומית</td></tr>\n",
       "<tr><td>2013 </td><td>מ. החינוך-חינוך התיישבותי</td><td>הקצבות להוראת החקלאות  בבתי ספר יסודיים</td><td>20885.76 </td><td>הקצבות            </td></tr>\n",
       "<tr><td>2013 </td><td>משרד החינוך              </td><td>השאלת ספרי לימוד                       </td><td>49366.08 </td><td>הקצבות            </td></tr>\n",
       "<tr><td>Total</td><td>56                       </td><td>                                       </td><td>         </td><td>                  </td></tr>\n",
       "</tbody>\n",
       "</table>"
      ],
      "text/plain": [
       "<IPython.core.display.HTML object>"
      ]
     },
     "metadata": {},
     "output_type": "display_data"
    },
    {
     "data": {
      "text/html": [
       "<h3>(supports) תמיכה תקציבית בעירית רחובות:  כלל התמיכות שאותו הארגון קיבל ש שולמו ב 2014</h3>"
      ],
      "text/plain": [
       "<IPython.core.display.HTML object>"
      ]
     },
     "metadata": {},
     "output_type": "display_data"
    },
    {
     "data": {
      "text/html": [
       "<pre>SELECT year_paid AS \"שנה\",\n",
       "       supporting_ministry AS \"משרד\",\n",
       "       request_type AS \"סוג תמיכה\",\n",
       "       support_title AS \"נושא\",\n",
       "       sum(amount_paid) AS \"סה״כ שולם\"\n",
       "FROM raw_supports\n",
       "WHERE year_paid =2014\n",
       "  AND entity_id='500284005'\n",
       "GROUP BY 1,\n",
       "         2,\n",
       "         3,\n",
       "         4</pre>"
      ],
      "text/plain": [
       "<IPython.core.display.HTML object>"
      ]
     },
     "metadata": {},
     "output_type": "display_data"
    },
    {
     "data": {
      "text/html": [
       "<table>\n",
       "<tbody>\n",
       "<tr><td>שנה  </td><td>משרד                     </td><td>נושא                                 </td><td>סה״כ שולם</td><td>סוג תמיכה         </td></tr>\n",
       "<tr><td>2014 </td><td>המשרד לבטחון פנים        </td><td>פרוייקט עיר ללא אלימות               </td><td>762334.0 </td><td>תמיכה לרשות מקומית</td></tr>\n",
       "<tr><td>2014 </td><td>המשרד להגנת הסביבה       </td><td>תמיכות                               </td><td>43413.6  </td><td>תמיכה לרשות מקומית</td></tr>\n",
       "<tr><td>2014 </td><td>מ. החינוך-חינוך התיישבותי</td><td>חממות, חקלאות בבתי ספר  וחוות חקלאיות</td><td>29885.7  </td><td>הקצבות            </td></tr>\n",
       "<tr><td>Total</td><td>57                       </td><td>                                     </td><td>         </td><td>                  </td></tr>\n",
       "</tbody>\n",
       "</table>"
      ],
      "text/plain": [
       "<IPython.core.display.HTML object>"
      ]
     },
     "metadata": {},
     "output_type": "display_data"
    },
    {
     "data": {
      "text/html": [
       "<h3>(supports) תמיכה תקציבית בעירית רחובות:  כלל התמיכות שאותו הארגון קיבל ש שולמו ב 2015</h3>"
      ],
      "text/plain": [
       "<IPython.core.display.HTML object>"
      ]
     },
     "metadata": {},
     "output_type": "display_data"
    },
    {
     "data": {
      "text/html": [
       "<pre>SELECT year_paid AS \"שנה\",\n",
       "       supporting_ministry AS \"משרד\",\n",
       "       request_type AS \"סוג תמיכה\",\n",
       "       support_title AS \"נושא\",\n",
       "       sum(amount_paid) AS \"סה״כ שולם\"\n",
       "FROM raw_supports\n",
       "WHERE year_paid =2015\n",
       "  AND entity_id='500284005'\n",
       "GROUP BY 1,\n",
       "         2,\n",
       "         3,\n",
       "         4</pre>"
      ],
      "text/plain": [
       "<IPython.core.display.HTML object>"
      ]
     },
     "metadata": {},
     "output_type": "display_data"
    },
    {
     "data": {
      "text/html": [
       "<table>\n",
       "<tbody>\n",
       "<tr><td>שנה  </td><td>משרד                     </td><td>נושא                                   </td><td>סה״כ שולם</td><td>סוג תמיכה         </td></tr>\n",
       "<tr><td>2015 </td><td>המשרד לבטחון פנים        </td><td>פרוייקט עיר ללא אלימות                 </td><td>864991.0 </td><td>תמיכה לרשות מקומית</td></tr>\n",
       "<tr><td>2015 </td><td>מ. החינוך-חינוך התיישבותי</td><td>חממות, חקלאות בבתי ספר  וחוות חקלאיות  </td><td>24977.9  </td><td>הקצבות            </td></tr>\n",
       "<tr><td>2015 </td><td>משרד החינוך              </td><td>הצטיידות מדעים - העברה  לרשויות ועמותות</td><td>20000.0  </td><td>הקצבות            </td></tr>\n",
       "<tr><td>Total</td><td>57                       </td><td>                                       </td><td>         </td><td>                  </td></tr>\n",
       "</tbody>\n",
       "</table>"
      ],
      "text/plain": [
       "<IPython.core.display.HTML object>"
      ]
     },
     "metadata": {},
     "output_type": "display_data"
    },
    {
     "data": {
      "text/html": [
       "<h3>(supports) תמיכה תקציבית בעירית רחובות:  כלל התמיכות שאותו הארגון קיבל ש שולמו ב 2016</h3>"
      ],
      "text/plain": [
       "<IPython.core.display.HTML object>"
      ]
     },
     "metadata": {},
     "output_type": "display_data"
    },
    {
     "data": {
      "text/html": [
       "<pre>SELECT year_paid AS \"שנה\",\n",
       "       supporting_ministry AS \"משרד\",\n",
       "       request_type AS \"סוג תמיכה\",\n",
       "       support_title AS \"נושא\",\n",
       "       sum(amount_paid) AS \"סה״כ שולם\"\n",
       "FROM raw_supports\n",
       "WHERE year_paid =2016\n",
       "  AND entity_id='500284005'\n",
       "GROUP BY 1,\n",
       "         2,\n",
       "         3,\n",
       "         4</pre>"
      ],
      "text/plain": [
       "<IPython.core.display.HTML object>"
      ]
     },
     "metadata": {},
     "output_type": "display_data"
    },
    {
     "data": {
      "text/html": [
       "<table>\n",
       "<tbody>\n",
       "<tr><td>שנה  </td><td>משרד                     </td><td>נושא                                 </td><td>סה״כ שולם</td><td>סוג תמיכה         </td></tr>\n",
       "<tr><td>2016 </td><td>המשרד לבטחון פנים        </td><td>פרוייקט עיר ללא אלימות               </td><td>878797.0 </td><td>תמיכה לרשות מקומית</td></tr>\n",
       "<tr><td>2016 </td><td>המשרד להגנת הסביבה       </td><td>תמיכות                               </td><td>15538.0  </td><td>תמיכה לרשות מקומית</td></tr>\n",
       "<tr><td>2016 </td><td>מ. החינוך-חינוך התיישבותי</td><td>חממות, חקלאות בבתי ספר  וחוות חקלאיות</td><td>124235.3 </td><td>הקצבות            </td></tr>\n",
       "<tr><td>Total</td><td>58                       </td><td>                                     </td><td>         </td><td>                  </td></tr>\n",
       "</tbody>\n",
       "</table>"
      ],
      "text/plain": [
       "<IPython.core.display.HTML object>"
      ]
     },
     "metadata": {},
     "output_type": "display_data"
    },
    {
     "data": {
      "text/html": [
       "<h3>(supports) תמיכה תקציבית בעירית רחובות:  כלל התמיכות שאותו הארגון קיבל ש שולמו ב 2017</h3>"
      ],
      "text/plain": [
       "<IPython.core.display.HTML object>"
      ]
     },
     "metadata": {},
     "output_type": "display_data"
    },
    {
     "data": {
      "text/html": [
       "<pre>SELECT year_paid AS \"שנה\",\n",
       "       supporting_ministry AS \"משרד\",\n",
       "       request_type AS \"סוג תמיכה\",\n",
       "       support_title AS \"נושא\",\n",
       "       sum(amount_paid) AS \"סה״כ שולם\"\n",
       "FROM raw_supports\n",
       "WHERE year_paid =2017\n",
       "  AND entity_id='500284005'\n",
       "GROUP BY 1,\n",
       "         2,\n",
       "         3,\n",
       "         4</pre>"
      ],
      "text/plain": [
       "<IPython.core.display.HTML object>"
      ]
     },
     "metadata": {},
     "output_type": "display_data"
    },
    {
     "data": {
      "text/html": [
       "<table>\n",
       "<tbody>\n",
       "<tr><td>שנה  </td><td>משרד                     </td><td>נושא                                 </td><td>סה״כ שולם</td><td>סוג תמיכה         </td></tr>\n",
       "<tr><td>2017 </td><td>המשרד לבטחון פנים        </td><td>פרוייקט עיר ללא אלימות               </td><td>751598.0 </td><td>תמיכה לרשות מקומית</td></tr>\n",
       "<tr><td>2017 </td><td>המשרד לשירותי דת         </td><td>הקמת מוסדות דת שוטף                  </td><td>550000.0 </td><td>תמיכה לרשות מקומית</td></tr>\n",
       "<tr><td>2017 </td><td>מ. החינוך-חינוך התיישבותי</td><td>חממות, חקלאות בבתי ספר  וחוות חקלאיות</td><td>89786.0  </td><td>הקצבות            </td></tr>\n",
       "<tr><td>Total</td><td>62                       </td><td>                                     </td><td>         </td><td>                  </td></tr>\n",
       "</tbody>\n",
       "</table>"
      ],
      "text/plain": [
       "<IPython.core.display.HTML object>"
      ]
     },
     "metadata": {},
     "output_type": "display_data"
    },
    {
     "data": {
      "text/html": [
       "<h3>(supports) תמיכה תקציבית בעירית רחובות:  כלל התמיכות שאותו הארגון קיבל ש שולמו ב 2018</h3>"
      ],
      "text/plain": [
       "<IPython.core.display.HTML object>"
      ]
     },
     "metadata": {},
     "output_type": "display_data"
    },
    {
     "data": {
      "text/html": [
       "<pre>SELECT year_paid AS \"שנה\",\n",
       "       supporting_ministry AS \"משרד\",\n",
       "       request_type AS \"סוג תמיכה\",\n",
       "       support_title AS \"נושא\",\n",
       "       sum(amount_paid) AS \"סה״כ שולם\"\n",
       "FROM raw_supports\n",
       "WHERE year_paid =2018\n",
       "  AND entity_id='500284005'\n",
       "GROUP BY 1,\n",
       "         2,\n",
       "         3,\n",
       "         4</pre>"
      ],
      "text/plain": [
       "<IPython.core.display.HTML object>"
      ]
     },
     "metadata": {},
     "output_type": "display_data"
    },
    {
     "data": {
      "text/html": [
       "<table>\n",
       "<tbody>\n",
       "<tr><td>Total</td><td style=\"text-align: right;\">0</td></tr>\n",
       "</tbody>\n",
       "</table>"
      ],
      "text/plain": [
       "<IPython.core.display.HTML object>"
      ]
     },
     "metadata": {},
     "output_type": "display_data"
    },
    {
     "data": {
      "text/html": [
       "<h3>(supports) תמיכה תקציבית בעירית רחובות:  כלל התמיכות שאותו הארגון קיבל ש אושרו ב כל השנים</h3>"
      ],
      "text/plain": [
       "<IPython.core.display.HTML object>"
      ]
     },
     "metadata": {},
     "output_type": "display_data"
    },
    {
     "data": {
      "text/html": [
       "<pre>SELECT year_requested AS \"שנה\",\n",
       "       supporting_ministry AS \"משרד\",\n",
       "       request_type AS \"סוג תמיכה\",\n",
       "       support_title AS \"נושא\",\n",
       "       sum(amount_paid) AS \"סה״כ שולם\"\n",
       "FROM raw_supports\n",
       "WHERE year_requested >0\n",
       "  AND entity_id='500284005'\n",
       "GROUP BY 1,\n",
       "         2,\n",
       "         3,\n",
       "         4</pre>"
      ],
      "text/plain": [
       "<IPython.core.display.HTML object>"
      ]
     },
     "metadata": {},
     "output_type": "display_data"
    },
    {
     "data": {
      "text/html": [
       "<table>\n",
       "<tbody>\n",
       "<tr><td>שנה  </td><td>משרד                     </td><td>נושא                                    </td><td>סה״כ שולם</td><td>סוג תמיכה         </td></tr>\n",
       "<tr><td>2008 </td><td>המשרד לבטחון פנים        </td><td>מצילה - תפעול והוצאותשוטפות             </td><td>146175.0 </td><td>תמיכה לרשות מקומית</td></tr>\n",
       "<tr><td>2008 </td><td>מ. החינוך-חינוך התיישבותי</td><td>הקצבות להוראת החקלאותבבתי ספר יסודייםובח</td><td>14615.82 </td><td>הקצבות            </td></tr>\n",
       "<tr><td>2008 </td><td>מב\"ר - מחוז בריאות מרכז  </td><td>הפעלה שיקום שכונות                      </td><td>30580.0  </td><td>תמיכה לרשות מקומית</td></tr>\n",
       "<tr><td>Total</td><td>628                      </td><td>                                        </td><td>         </td><td>                  </td></tr>\n",
       "</tbody>\n",
       "</table>"
      ],
      "text/plain": [
       "<IPython.core.display.HTML object>"
      ]
     },
     "metadata": {},
     "output_type": "display_data"
    },
    {
     "data": {
      "text/html": [
       "<h3>(supports) תמיכה תקציבית בעירית רחובות:  כלל התמיכות שאותו הארגון קיבל ש אושרו ב 2008</h3>"
      ],
      "text/plain": [
       "<IPython.core.display.HTML object>"
      ]
     },
     "metadata": {},
     "output_type": "display_data"
    },
    {
     "data": {
      "text/html": [
       "<pre>SELECT year_requested AS \"שנה\",\n",
       "       supporting_ministry AS \"משרד\",\n",
       "       request_type AS \"סוג תמיכה\",\n",
       "       support_title AS \"נושא\",\n",
       "       sum(amount_paid) AS \"סה״כ שולם\"\n",
       "FROM raw_supports\n",
       "WHERE year_requested =2008\n",
       "  AND entity_id='500284005'\n",
       "GROUP BY 1,\n",
       "         2,\n",
       "         3,\n",
       "         4</pre>"
      ],
      "text/plain": [
       "<IPython.core.display.HTML object>"
      ]
     },
     "metadata": {},
     "output_type": "display_data"
    },
    {
     "data": {
      "text/html": [
       "<table>\n",
       "<tbody>\n",
       "<tr><td>שנה  </td><td>משרד                     </td><td>נושא                                    </td><td>סה״כ שולם</td><td>סוג תמיכה         </td></tr>\n",
       "<tr><td>2008 </td><td>המשרד לבטחון פנים        </td><td>מצילה - תפעול והוצאותשוטפות             </td><td>146175.0 </td><td>תמיכה לרשות מקומית</td></tr>\n",
       "<tr><td>2008 </td><td>מ. החינוך-חינוך התיישבותי</td><td>הקצבות להוראת החקלאותבבתי ספר יסודייםובח</td><td>14615.82 </td><td>הקצבות            </td></tr>\n",
       "<tr><td>2008 </td><td>מב\"ר - מחוז בריאות מרכז  </td><td>הפעלה שיקום שכונות                      </td><td>30580.0  </td><td>תמיכה לרשות מקומית</td></tr>\n",
       "<tr><td>Total</td><td>51                       </td><td>                                        </td><td>         </td><td>                  </td></tr>\n",
       "</tbody>\n",
       "</table>"
      ],
      "text/plain": [
       "<IPython.core.display.HTML object>"
      ]
     },
     "metadata": {},
     "output_type": "display_data"
    },
    {
     "data": {
      "text/html": [
       "<h3>(supports) תמיכה תקציבית בעירית רחובות:  כלל התמיכות שאותו הארגון קיבל ש אושרו ב 2009</h3>"
      ],
      "text/plain": [
       "<IPython.core.display.HTML object>"
      ]
     },
     "metadata": {},
     "output_type": "display_data"
    },
    {
     "data": {
      "text/html": [
       "<pre>SELECT year_requested AS \"שנה\",\n",
       "       supporting_ministry AS \"משרד\",\n",
       "       request_type AS \"סוג תמיכה\",\n",
       "       support_title AS \"נושא\",\n",
       "       sum(amount_paid) AS \"סה״כ שולם\"\n",
       "FROM raw_supports\n",
       "WHERE year_requested =2009\n",
       "  AND entity_id='500284005'\n",
       "GROUP BY 1,\n",
       "         2,\n",
       "         3,\n",
       "         4</pre>"
      ],
      "text/plain": [
       "<IPython.core.display.HTML object>"
      ]
     },
     "metadata": {},
     "output_type": "display_data"
    },
    {
     "data": {
      "text/html": [
       "<table>\n",
       "<tbody>\n",
       "<tr><td>שנה  </td><td>משרד              </td><td>נושא                                    </td><td>סה״כ שולם</td><td>סוג תמיכה         </td></tr>\n",
       "<tr><td>2009 </td><td>המשרד לבטחון פנים </td><td>מצילה - תפעול והוצאותשוטפות             </td><td>125000.0 </td><td>תמיכה לרשות מקומית</td></tr>\n",
       "<tr><td>2009 </td><td>המשרד להגנת הסביבה</td><td>תמיכה ברשויות המקומיות- היטל ההטמנה במסג</td><td>         </td><td>תמיכה לרשות מקומית</td></tr>\n",
       "<tr><td>2009 </td><td>המשרד לשירותי דת  </td><td>פיתוח מבני דת בהתאםלהסכם קואליציוני עםסי</td><td>46400.0  </td><td>תמיכה לרשות מקומית</td></tr>\n",
       "<tr><td>Total</td><td>55                </td><td>                                        </td><td>         </td><td>                  </td></tr>\n",
       "</tbody>\n",
       "</table>"
      ],
      "text/plain": [
       "<IPython.core.display.HTML object>"
      ]
     },
     "metadata": {},
     "output_type": "display_data"
    },
    {
     "data": {
      "text/html": [
       "<h3>(supports) תמיכה תקציבית בעירית רחובות:  כלל התמיכות שאותו הארגון קיבל ש אושרו ב 2010</h3>"
      ],
      "text/plain": [
       "<IPython.core.display.HTML object>"
      ]
     },
     "metadata": {},
     "output_type": "display_data"
    },
    {
     "data": {
      "text/html": [
       "<pre>SELECT year_requested AS \"שנה\",\n",
       "       supporting_ministry AS \"משרד\",\n",
       "       request_type AS \"סוג תמיכה\",\n",
       "       support_title AS \"נושא\",\n",
       "       sum(amount_paid) AS \"סה״כ שולם\"\n",
       "FROM raw_supports\n",
       "WHERE year_requested =2010\n",
       "  AND entity_id='500284005'\n",
       "GROUP BY 1,\n",
       "         2,\n",
       "         3,\n",
       "         4</pre>"
      ],
      "text/plain": [
       "<IPython.core.display.HTML object>"
      ]
     },
     "metadata": {},
     "output_type": "display_data"
    },
    {
     "data": {
      "text/html": [
       "<table>\n",
       "<tbody>\n",
       "<tr><td>שנה  </td><td>משרד              </td><td>נושא                         </td><td>סה״כ שולם</td><td>סוג תמיכה         </td></tr>\n",
       "<tr><td>2010 </td><td>המשרד לבטחון פנים </td><td>מצילה - תפעול והוצאות  שוטפות</td><td>124000.0 </td><td>תמיכה לרשות מקומית</td></tr>\n",
       "<tr><td>2010 </td><td>המשרד להגנת הסביבה</td><td>תמיכות                       </td><td>         </td><td>תמיכה לרשות מקומית</td></tr>\n",
       "<tr><td>2010 </td><td>המשרד לשירותי דת  </td><td>תמיכה בהקמת מוסדות דת  המשכי </td><td>         </td><td>תמיכה לרשות מקומית</td></tr>\n",
       "<tr><td>Total</td><td>55                </td><td>                             </td><td>         </td><td>                  </td></tr>\n",
       "</tbody>\n",
       "</table>"
      ],
      "text/plain": [
       "<IPython.core.display.HTML object>"
      ]
     },
     "metadata": {},
     "output_type": "display_data"
    },
    {
     "data": {
      "text/html": [
       "<h3>(supports) תמיכה תקציבית בעירית רחובות:  כלל התמיכות שאותו הארגון קיבל ש אושרו ב 2011</h3>"
      ],
      "text/plain": [
       "<IPython.core.display.HTML object>"
      ]
     },
     "metadata": {},
     "output_type": "display_data"
    },
    {
     "data": {
      "text/html": [
       "<pre>SELECT year_requested AS \"שנה\",\n",
       "       supporting_ministry AS \"משרד\",\n",
       "       request_type AS \"סוג תמיכה\",\n",
       "       support_title AS \"נושא\",\n",
       "       sum(amount_paid) AS \"סה״כ שולם\"\n",
       "FROM raw_supports\n",
       "WHERE year_requested =2011\n",
       "  AND entity_id='500284005'\n",
       "GROUP BY 1,\n",
       "         2,\n",
       "         3,\n",
       "         4</pre>"
      ],
      "text/plain": [
       "<IPython.core.display.HTML object>"
      ]
     },
     "metadata": {},
     "output_type": "display_data"
    },
    {
     "data": {
      "text/html": [
       "<table>\n",
       "<tbody>\n",
       "<tr><td>שנה  </td><td>משרד                     </td><td>נושא                                   </td><td>סה״כ שולם</td><td>סוג תמיכה         </td></tr>\n",
       "<tr><td>2011 </td><td>המשרד לבטחון פנים        </td><td>מצילה - תפעול והוצאות  שוטפות          </td><td>113177.5 </td><td>תמיכה לרשות מקומית</td></tr>\n",
       "<tr><td>2011 </td><td>מ. החינוך-חינוך התיישבותי</td><td>הקצבות להוראת החקלאות  בבתי ספר יסודיים</td><td>12132.0  </td><td>הקצבות            </td></tr>\n",
       "<tr><td>2011 </td><td>משרד הבריאות             </td><td>בריאות השן ברשויות  מקומיות            </td><td>         </td><td>תמיכה לרשות מקומית</td></tr>\n",
       "<tr><td>Total</td><td>67                       </td><td>                                       </td><td>         </td><td>                  </td></tr>\n",
       "</tbody>\n",
       "</table>"
      ],
      "text/plain": [
       "<IPython.core.display.HTML object>"
      ]
     },
     "metadata": {},
     "output_type": "display_data"
    },
    {
     "data": {
      "text/html": [
       "<h3>(supports) תמיכה תקציבית בעירית רחובות:  כלל התמיכות שאותו הארגון קיבל ש אושרו ב 2012</h3>"
      ],
      "text/plain": [
       "<IPython.core.display.HTML object>"
      ]
     },
     "metadata": {},
     "output_type": "display_data"
    },
    {
     "data": {
      "text/html": [
       "<pre>SELECT year_requested AS \"שנה\",\n",
       "       supporting_ministry AS \"משרד\",\n",
       "       request_type AS \"סוג תמיכה\",\n",
       "       support_title AS \"נושא\",\n",
       "       sum(amount_paid) AS \"סה״כ שולם\"\n",
       "FROM raw_supports\n",
       "WHERE year_requested =2012\n",
       "  AND entity_id='500284005'\n",
       "GROUP BY 1,\n",
       "         2,\n",
       "         3,\n",
       "         4</pre>"
      ],
      "text/plain": [
       "<IPython.core.display.HTML object>"
      ]
     },
     "metadata": {},
     "output_type": "display_data"
    },
    {
     "data": {
      "text/html": [
       "<table>\n",
       "<tbody>\n",
       "<tr><td>שנה  </td><td>משרד             </td><td>נושא                         </td><td>סה״כ שולם</td><td>סוג תמיכה         </td></tr>\n",
       "<tr><td>2012 </td><td>המשרד לבטחון פנים</td><td>מצילה - תפעול והוצאות        </td><td>65250.0  </td><td>תמיכה לרשות מקומית</td></tr>\n",
       "<tr><td>2012 </td><td>המשרד לבטחון פנים</td><td>מצילה - תפעול והוצאות  שוטפות</td><td>74750.0  </td><td>תמיכה לרשות מקומית</td></tr>\n",
       "<tr><td>2012 </td><td>המשרד לשירותי דת </td><td>תמיכה בהקמת מוסדות דת  המשכי </td><td>         </td><td>תמיכה לרשות מקומית</td></tr>\n",
       "<tr><td>Total</td><td>73               </td><td>                             </td><td>         </td><td>                  </td></tr>\n",
       "</tbody>\n",
       "</table>"
      ],
      "text/plain": [
       "<IPython.core.display.HTML object>"
      ]
     },
     "metadata": {},
     "output_type": "display_data"
    },
    {
     "data": {
      "text/html": [
       "<h3>(supports) תמיכה תקציבית בעירית רחובות:  כלל התמיכות שאותו הארגון קיבל ש אושרו ב 2013</h3>"
      ],
      "text/plain": [
       "<IPython.core.display.HTML object>"
      ]
     },
     "metadata": {},
     "output_type": "display_data"
    },
    {
     "data": {
      "text/html": [
       "<pre>SELECT year_requested AS \"שנה\",\n",
       "       supporting_ministry AS \"משרד\",\n",
       "       request_type AS \"סוג תמיכה\",\n",
       "       support_title AS \"נושא\",\n",
       "       sum(amount_paid) AS \"סה״כ שולם\"\n",
       "FROM raw_supports\n",
       "WHERE year_requested =2013\n",
       "  AND entity_id='500284005'\n",
       "GROUP BY 1,\n",
       "         2,\n",
       "         3,\n",
       "         4</pre>"
      ],
      "text/plain": [
       "<IPython.core.display.HTML object>"
      ]
     },
     "metadata": {},
     "output_type": "display_data"
    },
    {
     "data": {
      "text/html": [
       "<table>\n",
       "<tbody>\n",
       "<tr><td>שנה  </td><td>משרד                     </td><td>נושא                                   </td><td>סה״כ שולם</td><td>סוג תמיכה         </td></tr>\n",
       "<tr><td>2013 </td><td>המשרד לבטחון פנים        </td><td>פרוייקט עיר ללא אלימות                 </td><td>232913.0 </td><td>תמיכה לרשות מקומית</td></tr>\n",
       "<tr><td>2013 </td><td>המשרד להגנת הסביבה       </td><td>תמיכות                                 </td><td>58951.6  </td><td>תמיכה לרשות מקומית</td></tr>\n",
       "<tr><td>2013 </td><td>מ. החינוך-חינוך התיישבותי</td><td>הקצבות להוראת החקלאות  בבתי ספר יסודיים</td><td>         </td><td>הקצבות            </td></tr>\n",
       "<tr><td>Total</td><td>58                       </td><td>                                       </td><td>         </td><td>                  </td></tr>\n",
       "</tbody>\n",
       "</table>"
      ],
      "text/plain": [
       "<IPython.core.display.HTML object>"
      ]
     },
     "metadata": {},
     "output_type": "display_data"
    },
    {
     "data": {
      "text/html": [
       "<h3>(supports) תמיכה תקציבית בעירית רחובות:  כלל התמיכות שאותו הארגון קיבל ש אושרו ב 2014</h3>"
      ],
      "text/plain": [
       "<IPython.core.display.HTML object>"
      ]
     },
     "metadata": {},
     "output_type": "display_data"
    },
    {
     "data": {
      "text/html": [
       "<pre>SELECT year_requested AS \"שנה\",\n",
       "       supporting_ministry AS \"משרד\",\n",
       "       request_type AS \"סוג תמיכה\",\n",
       "       support_title AS \"נושא\",\n",
       "       sum(amount_paid) AS \"סה״כ שולם\"\n",
       "FROM raw_supports\n",
       "WHERE year_requested =2014\n",
       "  AND entity_id='500284005'\n",
       "GROUP BY 1,\n",
       "         2,\n",
       "         3,\n",
       "         4</pre>"
      ],
      "text/plain": [
       "<IPython.core.display.HTML object>"
      ]
     },
     "metadata": {},
     "output_type": "display_data"
    },
    {
     "data": {
      "text/html": [
       "<table>\n",
       "<tbody>\n",
       "<tr><td>שנה  </td><td>משרד                     </td><td>נושא                                 </td><td>סה״כ שולם</td><td>סוג תמיכה         </td></tr>\n",
       "<tr><td>2014 </td><td>המשרד לבטחון פנים        </td><td>פרוייקט עיר ללא אלימות               </td><td>814544.0 </td><td>תמיכה לרשות מקומית</td></tr>\n",
       "<tr><td>2014 </td><td>המשרד לשירותי דת         </td><td>הקמת מוסדות דת שוטף                  </td><td>         </td><td>תמיכה לרשות מקומית</td></tr>\n",
       "<tr><td>2014 </td><td>מ. החינוך-חינוך התיישבותי</td><td>חממות, חקלאות בבתי ספר  וחוות חקלאיות</td><td>24977.9  </td><td>הקצבות            </td></tr>\n",
       "<tr><td>Total</td><td>68                       </td><td>                                     </td><td>         </td><td>                  </td></tr>\n",
       "</tbody>\n",
       "</table>"
      ],
      "text/plain": [
       "<IPython.core.display.HTML object>"
      ]
     },
     "metadata": {},
     "output_type": "display_data"
    },
    {
     "data": {
      "text/html": [
       "<h3>(supports) תמיכה תקציבית בעירית רחובות:  כלל התמיכות שאותו הארגון קיבל ש אושרו ב 2015</h3>"
      ],
      "text/plain": [
       "<IPython.core.display.HTML object>"
      ]
     },
     "metadata": {},
     "output_type": "display_data"
    },
    {
     "data": {
      "text/html": [
       "<pre>SELECT year_requested AS \"שנה\",\n",
       "       supporting_ministry AS \"משרד\",\n",
       "       request_type AS \"סוג תמיכה\",\n",
       "       support_title AS \"נושא\",\n",
       "       sum(amount_paid) AS \"סה״כ שולם\"\n",
       "FROM raw_supports\n",
       "WHERE year_requested =2015\n",
       "  AND entity_id='500284005'\n",
       "GROUP BY 1,\n",
       "         2,\n",
       "         3,\n",
       "         4</pre>"
      ],
      "text/plain": [
       "<IPython.core.display.HTML object>"
      ]
     },
     "metadata": {},
     "output_type": "display_data"
    },
    {
     "data": {
      "text/html": [
       "<table>\n",
       "<tbody>\n",
       "<tr><td>שנה  </td><td>משרד              </td><td>נושא                  </td><td>סה״כ שולם</td><td>סוג תמיכה         </td></tr>\n",
       "<tr><td>2015 </td><td>המשרד לבטחון פנים </td><td>פרוייקט עיר ללא אלימות</td><td>976463.0 </td><td>תמיכה לרשות מקומית</td></tr>\n",
       "<tr><td>2015 </td><td>המשרד להגנת הסביבה</td><td>תמיכות                </td><td>         </td><td>תמיכה לרשות מקומית</td></tr>\n",
       "<tr><td>2015 </td><td>המשרד לשירותי דת  </td><td>הקמת מוסדות דת שוטף   </td><td>550000.0 </td><td>תמיכה לרשות מקומית</td></tr>\n",
       "<tr><td>Total</td><td>66                </td><td>                      </td><td>         </td><td>                  </td></tr>\n",
       "</tbody>\n",
       "</table>"
      ],
      "text/plain": [
       "<IPython.core.display.HTML object>"
      ]
     },
     "metadata": {},
     "output_type": "display_data"
    },
    {
     "data": {
      "text/html": [
       "<h3>(supports) תמיכה תקציבית בעירית רחובות:  כלל התמיכות שאותו הארגון קיבל ש אושרו ב 2016</h3>"
      ],
      "text/plain": [
       "<IPython.core.display.HTML object>"
      ]
     },
     "metadata": {},
     "output_type": "display_data"
    },
    {
     "data": {
      "text/html": [
       "<pre>SELECT year_requested AS \"שנה\",\n",
       "       supporting_ministry AS \"משרד\",\n",
       "       request_type AS \"סוג תמיכה\",\n",
       "       support_title AS \"נושא\",\n",
       "       sum(amount_paid) AS \"סה״כ שולם\"\n",
       "FROM raw_supports\n",
       "WHERE year_requested =2016\n",
       "  AND entity_id='500284005'\n",
       "GROUP BY 1,\n",
       "         2,\n",
       "         3,\n",
       "         4</pre>"
      ],
      "text/plain": [
       "<IPython.core.display.HTML object>"
      ]
     },
     "metadata": {},
     "output_type": "display_data"
    },
    {
     "data": {
      "text/html": [
       "<table>\n",
       "<tbody>\n",
       "<tr><td>שנה  </td><td>משרד                     </td><td>נושא                                 </td><td>סה״כ שולם</td><td>סוג תמיכה         </td></tr>\n",
       "<tr><td>2016 </td><td>המשרד לבטחון פנים        </td><td>פרוייקט עיר ללא אלימות               </td><td>834614.0 </td><td>תמיכה לרשות מקומית</td></tr>\n",
       "<tr><td>2016 </td><td>המשרד להגנת הסביבה       </td><td>תמיכות                               </td><td>         </td><td>תמיכה לרשות מקומית</td></tr>\n",
       "<tr><td>2016 </td><td>מ. החינוך-חינוך התיישבותי</td><td>חממות, חקלאות בבתי ספר  וחוות חקלאיות</td><td>40000.0  </td><td>הקצבות            </td></tr>\n",
       "<tr><td>Total</td><td>68                       </td><td>                                     </td><td>         </td><td>                  </td></tr>\n",
       "</tbody>\n",
       "</table>"
      ],
      "text/plain": [
       "<IPython.core.display.HTML object>"
      ]
     },
     "metadata": {},
     "output_type": "display_data"
    },
    {
     "data": {
      "text/html": [
       "<h3>(supports) תמיכה תקציבית בעירית רחובות:  כלל התמיכות שאותו הארגון קיבל ש אושרו ב 2017</h3>"
      ],
      "text/plain": [
       "<IPython.core.display.HTML object>"
      ]
     },
     "metadata": {},
     "output_type": "display_data"
    },
    {
     "data": {
      "text/html": [
       "<pre>SELECT year_requested AS \"שנה\",\n",
       "       supporting_ministry AS \"משרד\",\n",
       "       request_type AS \"סוג תמיכה\",\n",
       "       support_title AS \"נושא\",\n",
       "       sum(amount_paid) AS \"סה״כ שולם\"\n",
       "FROM raw_supports\n",
       "WHERE year_requested =2017\n",
       "  AND entity_id='500284005'\n",
       "GROUP BY 1,\n",
       "         2,\n",
       "         3,\n",
       "         4</pre>"
      ],
      "text/plain": [
       "<IPython.core.display.HTML object>"
      ]
     },
     "metadata": {},
     "output_type": "display_data"
    },
    {
     "data": {
      "text/html": [
       "<table>\n",
       "<tbody>\n",
       "<tr><td>שנה  </td><td>משרד                     </td><td>נושא                                 </td><td>סה״כ שולם</td><td>סוג תמיכה         </td></tr>\n",
       "<tr><td>2017 </td><td>המשרד לבטחון פנים        </td><td>פרוייקט עיר ללא אלימות               </td><td>399186.0 </td><td>תמיכה לרשות מקומית</td></tr>\n",
       "<tr><td>2017 </td><td>המשרד לשירותי דת         </td><td>הקמת מוסדות דת שוטף                  </td><td>         </td><td>תמיכה לרשות מקומית</td></tr>\n",
       "<tr><td>2017 </td><td>מ. החינוך-חינוך התיישבותי</td><td>חממות, חקלאות בבתי ספר  וחוות חקלאיות</td><td>         </td><td>הקצבות            </td></tr>\n",
       "<tr><td>Total</td><td>67                       </td><td>                                     </td><td>         </td><td>                  </td></tr>\n",
       "</tbody>\n",
       "</table>"
      ],
      "text/plain": [
       "<IPython.core.display.HTML object>"
      ]
     },
     "metadata": {},
     "output_type": "display_data"
    },
    {
     "data": {
      "text/html": [
       "<h3>(supports) תמיכה תקציבית בעירית רחובות:  כלל התמיכות שאותו הארגון קיבל ש אושרו ב 2018</h3>"
      ],
      "text/plain": [
       "<IPython.core.display.HTML object>"
      ]
     },
     "metadata": {},
     "output_type": "display_data"
    },
    {
     "data": {
      "text/html": [
       "<pre>SELECT year_requested AS \"שנה\",\n",
       "       supporting_ministry AS \"משרד\",\n",
       "       request_type AS \"סוג תמיכה\",\n",
       "       support_title AS \"נושא\",\n",
       "       sum(amount_paid) AS \"סה״כ שולם\"\n",
       "FROM raw_supports\n",
       "WHERE year_requested =2018\n",
       "  AND entity_id='500284005'\n",
       "GROUP BY 1,\n",
       "         2,\n",
       "         3,\n",
       "         4</pre>"
      ],
      "text/plain": [
       "<IPython.core.display.HTML object>"
      ]
     },
     "metadata": {},
     "output_type": "display_data"
    },
    {
     "data": {
      "text/html": [
       "<table>\n",
       "<tbody>\n",
       "<tr><td>Total</td><td style=\"text-align: right;\">0</td></tr>\n",
       "</tbody>\n",
       "</table>"
      ],
      "text/plain": [
       "<IPython.core.display.HTML object>"
      ]
     },
     "metadata": {},
     "output_type": "display_data"
    },
    {
     "ename": "KeyError",
     "evalue": "'tenders/exemptions'",
     "output_type": "error",
     "traceback": [
      "\u001b[0;31m---------------------------------------------------------------------------\u001b[0m",
      "\u001b[0;31mKeyError\u001b[0m                                  Traceback (most recent call last)",
      "\u001b[0;32m<ipython-input-20-19dda3597220>\u001b[0m in \u001b[0;36m<module>\u001b[0;34m()\u001b[0m\n\u001b[1;32m      6\u001b[0m         \u001b[0mquery\u001b[0m \u001b[0;34m=\u001b[0m \u001b[0;34m' '\u001b[0m\u001b[0;34m.\u001b[0m\u001b[0mjoin\u001b[0m\u001b[0;34m(\u001b[0m\u001b[0mquery\u001b[0m\u001b[0;34m)\u001b[0m\u001b[0;34m\u001b[0m\u001b[0m\n\u001b[1;32m      7\u001b[0m     \u001b[0mheaders\u001b[0m \u001b[0;34m=\u001b[0m \u001b[0mq\u001b[0m\u001b[0;34m.\u001b[0m\u001b[0mget\u001b[0m\u001b[0;34m(\u001b[0m\u001b[0;34m'headers'\u001b[0m\u001b[0;34m,\u001b[0m \u001b[0;34m[\u001b[0m\u001b[0;34m]\u001b[0m\u001b[0;34m)\u001b[0m\u001b[0;34m\u001b[0m\u001b[0m\n\u001b[0;32m----> 8\u001b[0;31m     \u001b[0mdoc_ids\u001b[0m \u001b[0;34m=\u001b[0m \u001b[0mDOC_IDS\u001b[0m\u001b[0;34m[\u001b[0m\u001b[0mkind\u001b[0m\u001b[0;34m]\u001b[0m\u001b[0;34m\u001b[0m\u001b[0m\n\u001b[0m\u001b[1;32m      9\u001b[0m     \u001b[0;32mfor\u001b[0m \u001b[0mdoc_id\u001b[0m \u001b[0;32min\u001b[0m \u001b[0mdoc_ids\u001b[0m\u001b[0;34m:\u001b[0m\u001b[0;34m\u001b[0m\u001b[0m\n\u001b[1;32m     10\u001b[0m         \u001b[0mdoc\u001b[0m \u001b[0;34m=\u001b[0m \u001b[0mget_doc_id\u001b[0m\u001b[0;34m(\u001b[0m\u001b[0mdoc_id\u001b[0m\u001b[0;34m)\u001b[0m\u001b[0;34m\u001b[0m\u001b[0m\n",
      "\u001b[0;31mKeyError\u001b[0m: 'tenders/exemptions'"
     ]
    }
   ],
   "source": [
    "params_re = re.compile('(:[a-z_]+)')\n",
    "for kind, q in parsed_questions():\n",
    "    text = q['text']\n",
    "    query = q['query']\n",
    "    if isinstance(query, list):\n",
    "        query = ' '.join(query)\n",
    "    headers = q.get('headers', [])\n",
    "    doc_ids = DOC_IDS[kind]\n",
    "    for doc_id in doc_ids:\n",
    "        doc = get_doc_id(doc_id)\n",
    "        for p in parameters(q):\n",
    "            params = {}\n",
    "            updated_text = q['text']\n",
    "            updated_query = query\n",
    "            params.update(doc)\n",
    "            for name, (disp, val) in p:\n",
    "                params[name] = val\n",
    "                updated_text = updated_text.replace('<'+name+'>', disp)\n",
    "            display(HTML('<h3>({}) {}: {}</h3>'.format(kind, doc['page_title'], updated_text)))\n",
    "            ofs = 0\n",
    "            while True:\n",
    "                m = params_re.search(updated_query[ofs:])\n",
    "                if m is None: break\n",
    "                key = m.groups(0)[0][1:]\n",
    "                if key in params:\n",
    "                    updated_query = updated_query[:(m.start()+ofs)] + str(params[key]) + updated_query[(m.end()+ofs):]\n",
    "                else:\n",
    "                    print('skipping parameter', key)\n",
    "                    ofs = ofs + m.start()+1\n",
    "            display(HTML('<pre>{}</pre>'.format(sqlparse.format(updated_query, reindent=True, keyword_case='upper'))))\n",
    "            display(HTML(tabulate.tabulate(get_table(updated_query, headers), tablefmt='html')))\n"
   ]
  },
  {
   "cell_type": "code",
   "execution_count": null,
   "metadata": {
    "collapsed": false,
    "deletable": true,
    "editable": true,
    "scrolled": true
   },
   "outputs": [],
   "source": []
  }
 ],
 "metadata": {
  "kernelspec": {
   "display_name": "Python 3",
   "language": "python",
   "name": "python3"
  },
  "language_info": {
   "codemirror_mode": {
    "name": "ipython",
    "version": 3
   },
   "file_extension": ".py",
   "mimetype": "text/x-python",
   "name": "python",
   "nbconvert_exporter": "python",
   "pygments_lexer": "ipython3",
   "version": "3.6.1"
  }
 },
 "nbformat": 4,
 "nbformat_minor": 2
}
