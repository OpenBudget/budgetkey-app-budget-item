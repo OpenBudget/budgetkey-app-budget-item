{
 "cells": [
  {
   "cell_type": "code",
   "execution_count": 1,
   "metadata": {
    "collapsed": false,
    "deletable": true,
    "editable": true
   },
   "outputs": [],
   "source": [
    "import json\n",
    "import os\n",
    "import itertools\n",
    "import requests\n",
    "import sqlparse\n",
    "import re\n",
    "from IPython.display import HTML, display\n",
    "import tabulate\n",
    "import urllib.parse"
   ]
  },
  {
   "cell_type": "code",
   "execution_count": 2,
   "metadata": {
    "collapsed": true,
    "deletable": true,
    "editable": true
   },
   "outputs": [],
   "source": [
    "def get_doc_id(doc_id):\n",
    "    doc_id = urllib.parse.quote(doc_id)\n",
    "    url = 'https://next.obudget.org/get/'+doc_id\n",
    "    print('Getting', url)\n",
    "    ret = requests.get(url).json()['value']\n",
    "    assert 'page_title' in ret, repr(ret)\n",
    "    return ret"
   ]
  },
  {
   "cell_type": "code",
   "execution_count": 3,
   "metadata": {
    "collapsed": true,
    "deletable": true,
    "editable": true
   },
   "outputs": [],
   "source": [
    "def get_table(query, headers):\n",
    "    table = requests.get('https://next.obudget.org/api/query', params={'query': query}).json()\n",
    "    rows = table['rows']\n",
    "    ret = []\n",
    "    if len(rows)>0:\n",
    "        headers_ = rows[0].keys()\n",
    "        for h in headers_:\n",
    "            if h not in headers:\n",
    "                headers.append(h)\n",
    "        ret.append(headers)\n",
    "        ret.extend([[x[h] for h in headers] for x in rows][:3])\n",
    "    return ret + [['Total', table['total']]]"
   ]
  },
  {
   "cell_type": "code",
   "execution_count": 4,
   "metadata": {
    "collapsed": false,
    "deletable": true,
    "editable": true
   },
   "outputs": [],
   "source": [
    "def questions():\n",
    "    base = 'app/descriptors'\n",
    "    tgt = re.compile('questions.*\\.json')\n",
    "    for root, dirs, fnames in os.walk(base):\n",
    "        for f in fnames:\n",
    "            if tgt.match(f):\n",
    "                yield root.replace(base + '/', ''), os.path.join(root, f)"
   ]
  },
  {
   "cell_type": "code",
   "execution_count": 5,
   "metadata": {
    "collapsed": false,
    "deletable": true,
    "editable": true
   },
   "outputs": [],
   "source": [
    "def parsed_questions():\n",
    "    for q in questions():\n",
    "        print(q)\n",
    "        qq = json.load(open(q[1]))\n",
    "        for qqq in qq:\n",
    "            yield q[0], qqq"
   ]
  },
  {
   "cell_type": "code",
   "execution_count": 6,
   "metadata": {
    "collapsed": false,
    "deletable": true,
    "editable": true
   },
   "outputs": [],
   "source": [
    "def parameters(q):\n",
    "    p = q.get('parameters', {})\n",
    "    keys = p.keys()\n",
    "    values = [list(p[k].items()) for k in keys]\n",
    "    return (zip(keys, prod) for prod in itertools.product(*values))"
   ]
  },
  {
   "cell_type": "code",
   "execution_count": null,
   "metadata": {
    "collapsed": true,
    "deletable": true,
    "editable": true
   },
   "outputs": [],
   "source": [
    "DOC_IDS = {\n",
    "    'budget':[\n",
    "        'budget/C1/2018',\n",
    "        'budget/C222/2018',        \n",
    "        'budget/0020/2018',\n",
    "        'budget/0000/2018',\n",
    "        'budget/002043/2018',\n",
    "        'budget/00204301/2018',\n",
    "        'budget/0020430101/2018',\n",
    "    ],\n",
    "    'supports': [\n",
    "        'supports/0020460604/2016/עירית רחובות/הקצבות'\n",
    "    ],\n",
    "    'org': [\n",
    "        'org/company/520039710'\n",
    "    ],\n",
    "    'contract-spending': [\n",
    "        'contract-spending/4501218324/0033060240',\n",
    "        'contract-spending/4501252882/0020400228',\n",
    "    ],\n",
    "    'budget-changes': [\n",
    "        'national-budget-changes/2015/26-004'\n",
    "    ],\n",
    "    'tenders/exemptions': [\n",
    "        'tenders/exemptions/31252/none'\n",
    "    ]\n",
    "}"
   ]
  },
  {
   "cell_type": "code",
   "execution_count": null,
   "metadata": {
    "collapsed": false,
    "deletable": true,
    "editable": true,
    "scrolled": false
   },
   "outputs": [
    {
     "name": "stdout",
     "output_type": "stream",
     "text": [
      "Getting https://next.obudget.org/get/budget/C1/2018\n"
     ]
    },
    {
     "data": {
      "text/html": [
       "<h3>(budget) None - בטחון וסדר ציבורי: היסטוריה תקציבית לסעיף זה</h3>"
      ],
      "text/plain": [
       "<IPython.core.display.HTML object>"
      ]
     },
     "metadata": {},
     "output_type": "display_data"
    },
    {
     "name": "stdout",
     "output_type": "stream",
     "text": [
      "skipping parameter json\n",
      "skipping parameter json\n",
      "skipping parameter json\n"
     ]
    },
    {
     "data": {
      "text/html": [
       "<pre>SELECT d.key AS \"שנה\", (d.value::json)->>'net_allocated' AS \"תקציב מקורי\", (d.value::json)->>'net_revised' AS \"תקציב אחרי שינויים\", (d.value::json)->>'net_executed' AS \"ביצוע בפועל\"\n",
       "FROM\n",
       "  (SELECT *\n",
       "   FROM budget\n",
       "   WHERE code='C1'\n",
       "     AND YEAR=2018) AS budget_\n",
       "JOIN jsonb_each_text(budget_.history) d ON TRUE</pre>"
      ],
      "text/plain": [
       "<IPython.core.display.HTML object>"
      ]
     },
     "metadata": {},
     "output_type": "display_data"
    },
    {
     "data": {
      "text/html": [
       "<table>\n",
       "<tbody>\n",
       "<tr><td>שנה  </td><td>תקציב מקורי  </td><td>תקציב אחרי שינויים</td><td>ביצוע בפועל  </td></tr>\n",
       "<tr><td>1997 </td><td>34950827000.0</td><td>42229942000.0     </td><td>37875516939.0</td></tr>\n",
       "<tr><td>1998 </td><td>37689039000.0</td><td>45537812000.0     </td><td>41255396783.0</td></tr>\n",
       "<tr><td>1999 </td><td>39973799000.0</td><td>48339068000.0     </td><td>43656479170.0</td></tr>\n",
       "<tr><td>Total</td><td>21           </td><td>                  </td><td>             </td></tr>\n",
       "</tbody>\n",
       "</table>"
      ],
      "text/plain": [
       "<IPython.core.display.HTML object>"
      ]
     },
     "metadata": {},
     "output_type": "display_data"
    },
    {
     "name": "stdout",
     "output_type": "stream",
     "text": [
      "Getting https://next.obudget.org/get/budget/C222/2018\n"
     ]
    },
    {
     "data": {
      "text/html": [
       "<h3>(budget) 22 - שירותים חברתיים/חינוך: היסטוריה תקציבית לסעיף זה</h3>"
      ],
      "text/plain": [
       "<IPython.core.display.HTML object>"
      ]
     },
     "metadata": {},
     "output_type": "display_data"
    },
    {
     "name": "stdout",
     "output_type": "stream",
     "text": [
      "skipping parameter json\n",
      "skipping parameter json\n",
      "skipping parameter json\n"
     ]
    },
    {
     "data": {
      "text/html": [
       "<pre>SELECT d.key AS \"שנה\", (d.value::json)->>'net_allocated' AS \"תקציב מקורי\", (d.value::json)->>'net_revised' AS \"תקציב אחרי שינויים\", (d.value::json)->>'net_executed' AS \"ביצוע בפועל\"\n",
       "FROM\n",
       "  (SELECT *\n",
       "   FROM budget\n",
       "   WHERE code='C222'\n",
       "     AND YEAR=2018) AS budget_\n",
       "JOIN jsonb_each_text(budget_.history) d ON TRUE</pre>"
      ],
      "text/plain": [
       "<IPython.core.display.HTML object>"
      ]
     },
     "metadata": {},
     "output_type": "display_data"
    },
    {
     "data": {
      "text/html": [
       "<table>\n",
       "<tbody>\n",
       "<tr><td>שנה  </td><td>תקציב מקורי  </td><td>תקציב אחרי שינויים</td><td>ביצוע בפועל  </td></tr>\n",
       "<tr><td>1997 </td><td>18588030000.0</td><td>18719226000.0     </td><td>17705614860.0</td></tr>\n",
       "<tr><td>1998 </td><td>20232520000.0</td><td>20549089000.0     </td><td>18930503119.0</td></tr>\n",
       "<tr><td>1999 </td><td>20660849000.0</td><td>21397237000.0     </td><td>20662263678.0</td></tr>\n",
       "<tr><td>Total</td><td>21           </td><td>                  </td><td>             </td></tr>\n",
       "</tbody>\n",
       "</table>"
      ],
      "text/plain": [
       "<IPython.core.display.HTML object>"
      ]
     },
     "metadata": {},
     "output_type": "display_data"
    },
    {
     "name": "stdout",
     "output_type": "stream",
     "text": [
      "Getting https://next.obudget.org/get/budget/0020/2018\n"
     ]
    },
    {
     "data": {
      "text/html": [
       "<h3>(budget) 20 - משרד החינוך: היסטוריה תקציבית לסעיף זה</h3>"
      ],
      "text/plain": [
       "<IPython.core.display.HTML object>"
      ]
     },
     "metadata": {},
     "output_type": "display_data"
    },
    {
     "name": "stdout",
     "output_type": "stream",
     "text": [
      "skipping parameter json\n",
      "skipping parameter json\n",
      "skipping parameter json\n"
     ]
    },
    {
     "data": {
      "text/html": [
       "<pre>SELECT d.key AS \"שנה\", (d.value::json)->>'net_allocated' AS \"תקציב מקורי\", (d.value::json)->>'net_revised' AS \"תקציב אחרי שינויים\", (d.value::json)->>'net_executed' AS \"ביצוע בפועל\"\n",
       "FROM\n",
       "  (SELECT *\n",
       "   FROM budget\n",
       "   WHERE code='0020'\n",
       "     AND YEAR=2018) AS budget_\n",
       "JOIN jsonb_each_text(budget_.history) d ON TRUE</pre>"
      ],
      "text/plain": [
       "<IPython.core.display.HTML object>"
      ]
     },
     "metadata": {},
     "output_type": "display_data"
    },
    {
     "data": {
      "text/html": [
       "<table>\n",
       "<tbody>\n",
       "<tr><td>שנה  </td><td>תקציב מקורי  </td><td>תקציב אחרי שינויים</td><td>ביצוע בפועל  </td></tr>\n",
       "<tr><td>1997 </td><td>17998587000.0</td><td>18079238000.0     </td><td>17176380244.0</td></tr>\n",
       "<tr><td>1998 </td><td>19588376000.0</td><td>19835506000.0     </td><td>18516602605.0</td></tr>\n",
       "<tr><td>1999 </td><td>20085909000.0</td><td>20643414000.0     </td><td>20236285667.0</td></tr>\n",
       "<tr><td>Total</td><td>21           </td><td>                  </td><td>             </td></tr>\n",
       "</tbody>\n",
       "</table>"
      ],
      "text/plain": [
       "<IPython.core.display.HTML object>"
      ]
     },
     "metadata": {},
     "output_type": "display_data"
    },
    {
     "name": "stdout",
     "output_type": "stream",
     "text": [
      "Getting https://next.obudget.org/get/budget/0000/2018\n"
     ]
    },
    {
     "data": {
      "text/html": [
       "<h3>(budget) 00 - הכנסות המדינה: היסטוריה תקציבית לסעיף זה</h3>"
      ],
      "text/plain": [
       "<IPython.core.display.HTML object>"
      ]
     },
     "metadata": {},
     "output_type": "display_data"
    },
    {
     "name": "stdout",
     "output_type": "stream",
     "text": [
      "skipping parameter json\n",
      "skipping parameter json\n",
      "skipping parameter json\n"
     ]
    },
    {
     "data": {
      "text/html": [
       "<pre>SELECT d.key AS \"שנה\", (d.value::json)->>'net_allocated' AS \"תקציב מקורי\", (d.value::json)->>'net_revised' AS \"תקציב אחרי שינויים\", (d.value::json)->>'net_executed' AS \"ביצוע בפועל\"\n",
       "FROM\n",
       "  (SELECT *\n",
       "   FROM budget\n",
       "   WHERE code='0000'\n",
       "     AND YEAR=2018) AS budget_\n",
       "JOIN jsonb_each_text(budget_.history) d ON TRUE</pre>"
      ],
      "text/plain": [
       "<IPython.core.display.HTML object>"
      ]
     },
     "metadata": {},
     "output_type": "display_data"
    },
    {
     "data": {
      "text/html": [
       "<table>\n",
       "<tbody>\n",
       "<tr><td>שנה  </td><td>תקציב מקורי   </td><td>תקציב אחרי שינויים</td><td>ביצוע בפועל   </td></tr>\n",
       "<tr><td>1997 </td><td>189953447000.0</td><td>189953447000.0    </td><td>180343411795.0</td></tr>\n",
       "<tr><td>1998 </td><td>207727617000.0</td><td>207727617000.0    </td><td>203762197990.0</td></tr>\n",
       "<tr><td>1999 </td><td>214975294000.0</td><td>214975294000.0    </td><td>205154162213.0</td></tr>\n",
       "<tr><td>Total</td><td>21            </td><td>                  </td><td>              </td></tr>\n",
       "</tbody>\n",
       "</table>"
      ],
      "text/plain": [
       "<IPython.core.display.HTML object>"
      ]
     },
     "metadata": {},
     "output_type": "display_data"
    },
    {
     "name": "stdout",
     "output_type": "stream",
     "text": [
      "Getting https://next.obudget.org/get/budget/002043/2018\n"
     ]
    },
    {
     "data": {
      "text/html": [
       "<h3>(budget) 20.43 - יסודי וחטיבות-ביניים: היסטוריה תקציבית לסעיף זה</h3>"
      ],
      "text/plain": [
       "<IPython.core.display.HTML object>"
      ]
     },
     "metadata": {},
     "output_type": "display_data"
    },
    {
     "name": "stdout",
     "output_type": "stream",
     "text": [
      "skipping parameter json\n",
      "skipping parameter json\n",
      "skipping parameter json\n"
     ]
    },
    {
     "data": {
      "text/html": [
       "<pre>SELECT d.key AS \"שנה\", (d.value::json)->>'net_allocated' AS \"תקציב מקורי\", (d.value::json)->>'net_revised' AS \"תקציב אחרי שינויים\", (d.value::json)->>'net_executed' AS \"ביצוע בפועל\"\n",
       "FROM\n",
       "  (SELECT *\n",
       "   FROM budget\n",
       "   WHERE code='002043'\n",
       "     AND YEAR=2018) AS budget_\n",
       "JOIN jsonb_each_text(budget_.history) d ON TRUE</pre>"
      ],
      "text/plain": [
       "<IPython.core.display.HTML object>"
      ]
     },
     "metadata": {},
     "output_type": "display_data"
    },
    {
     "data": {
      "text/html": [
       "<table>\n",
       "<tbody>\n",
       "<tr><td>שנה  </td><td>תקציב מקורי  </td><td>תקציב אחרי שינויים</td><td>ביצוע בפועל  </td></tr>\n",
       "<tr><td>2015 </td><td>14566516000.0</td><td>14723330000.0     </td><td>14536312050.0</td></tr>\n",
       "<tr><td>2016 </td><td>14298038000.0</td><td>15302527000.0     </td><td>             </td></tr>\n",
       "<tr><td>2017 </td><td>14670822000.0</td><td>14670822000.0     </td><td>             </td></tr>\n",
       "<tr><td>Total</td><td>3            </td><td>                  </td><td>             </td></tr>\n",
       "</tbody>\n",
       "</table>"
      ],
      "text/plain": [
       "<IPython.core.display.HTML object>"
      ]
     },
     "metadata": {},
     "output_type": "display_data"
    },
    {
     "name": "stdout",
     "output_type": "stream",
     "text": [
      "Getting https://next.obudget.org/get/budget/00204301/2018\n"
     ]
    },
    {
     "data": {
      "text/html": [
       "<h3>(budget) 20.43.01 - חינוך רשמי: היסטוריה תקציבית לסעיף זה</h3>"
      ],
      "text/plain": [
       "<IPython.core.display.HTML object>"
      ]
     },
     "metadata": {},
     "output_type": "display_data"
    },
    {
     "name": "stdout",
     "output_type": "stream",
     "text": [
      "skipping parameter json\n",
      "skipping parameter json\n",
      "skipping parameter json\n"
     ]
    },
    {
     "data": {
      "text/html": [
       "<pre>SELECT d.key AS \"שנה\", (d.value::json)->>'net_allocated' AS \"תקציב מקורי\", (d.value::json)->>'net_revised' AS \"תקציב אחרי שינויים\", (d.value::json)->>'net_executed' AS \"ביצוע בפועל\"\n",
       "FROM\n",
       "  (SELECT *\n",
       "   FROM budget\n",
       "   WHERE code='00204301'\n",
       "     AND YEAR=2018) AS budget_\n",
       "JOIN jsonb_each_text(budget_.history) d ON TRUE</pre>"
      ],
      "text/plain": [
       "<IPython.core.display.HTML object>"
      ]
     },
     "metadata": {},
     "output_type": "display_data"
    },
    {
     "data": {
      "text/html": [
       "<table>\n",
       "<tbody>\n",
       "<tr><td>שנה  </td><td>תקציב מקורי</td><td>תקציב אחרי שינויים</td><td>ביצוע בפועל</td></tr>\n",
       "<tr><td>1997 </td><td>2307000.0  </td><td>3872000.0         </td><td>5450209.0  </td></tr>\n",
       "<tr><td>1998 </td><td>2464000.0  </td><td>2252000.0         </td><td>233388.0   </td></tr>\n",
       "<tr><td>1999 </td><td>83000.0    </td><td>-1398000.0        </td><td>962523.0   </td></tr>\n",
       "<tr><td>Total</td><td>21         </td><td>                  </td><td>           </td></tr>\n",
       "</tbody>\n",
       "</table>"
      ],
      "text/plain": [
       "<IPython.core.display.HTML object>"
      ]
     },
     "metadata": {},
     "output_type": "display_data"
    },
    {
     "name": "stdout",
     "output_type": "stream",
     "text": [
      "Getting https://next.obudget.org/get/budget/0020430101/2018\n"
     ]
    },
    {
     "data": {
      "text/html": [
       "<h3>(budget) 20.43.01.01 - שעות תקן ביסודי: היסטוריה תקציבית לסעיף זה</h3>"
      ],
      "text/plain": [
       "<IPython.core.display.HTML object>"
      ]
     },
     "metadata": {},
     "output_type": "display_data"
    },
    {
     "name": "stdout",
     "output_type": "stream",
     "text": [
      "skipping parameter json\n",
      "skipping parameter json\n",
      "skipping parameter json\n"
     ]
    },
    {
     "data": {
      "text/html": [
       "<pre>SELECT d.key AS \"שנה\", (d.value::json)->>'net_allocated' AS \"תקציב מקורי\", (d.value::json)->>'net_revised' AS \"תקציב אחרי שינויים\", (d.value::json)->>'net_executed' AS \"ביצוע בפועל\"\n",
       "FROM\n",
       "  (SELECT *\n",
       "   FROM budget\n",
       "   WHERE code='0020430101'\n",
       "     AND YEAR=2018) AS budget_\n",
       "JOIN jsonb_each_text(budget_.history) d ON TRUE</pre>"
      ],
      "text/plain": [
       "<IPython.core.display.HTML object>"
      ]
     },
     "metadata": {},
     "output_type": "display_data"
    },
    {
     "data": {
      "text/html": [
       "<table>\n",
       "<tbody>\n",
       "<tr><td>שנה  </td><td>תקציב מקורי</td><td>תקציב אחרי שינויים</td><td>ביצוע בפועל</td></tr>\n",
       "<tr><td>2001 </td><td>29100000.0 </td><td>30900000.0        </td><td>30900000.0 </td></tr>\n",
       "<tr><td>2002 </td><td>30657000.0 </td><td>30657000.0        </td><td>26824875.0 </td></tr>\n",
       "<tr><td>2003 </td><td>31298000.0 </td><td>31298000.0        </td><td>31288982.0 </td></tr>\n",
       "<tr><td>Total</td><td>17         </td><td>                  </td><td>           </td></tr>\n",
       "</tbody>\n",
       "</table>"
      ],
      "text/plain": [
       "<IPython.core.display.HTML object>"
      ]
     },
     "metadata": {},
     "output_type": "display_data"
    },
    {
     "name": "stdout",
     "output_type": "stream",
     "text": [
      "Getting https://next.obudget.org/get/budget/C1/2018\n"
     ]
    },
    {
     "data": {
      "text/html": [
       "<h3>(budget) None - בטחון וסדר ציבורי: תמיכות תקציביות תחת תקציב זה ב<period></h3>"
      ],
      "text/plain": [
       "<IPython.core.display.HTML object>"
      ]
     },
     "metadata": {},
     "output_type": "display_data"
    },
    {
     "name": "stdout",
     "output_type": "stream",
     "text": [
      "skipping parameter json\n",
      "skipping parameter json\n",
      "skipping parameter json\n"
     ]
    },
    {
     "data": {
      "text/html": [
       "<pre>SELECT d.key AS \"שנה\", (d.value::json)->>'net_allocated' AS \"תקציב מקורי\", (d.value::json)->>'net_revised' AS \"תקציב אחרי שינויים\", (d.value::json)->>'net_executed' AS \"ביצוע בפועל\"\n",
       "FROM\n",
       "  (SELECT *\n",
       "   FROM budget\n",
       "   WHERE code='C1'\n",
       "     AND YEAR=2018) AS budget_\n",
       "JOIN jsonb_each_text(budget_.history) d ON TRUE</pre>"
      ],
      "text/plain": [
       "<IPython.core.display.HTML object>"
      ]
     },
     "metadata": {},
     "output_type": "display_data"
    },
    {
     "data": {
      "text/html": [
       "<table>\n",
       "<tbody>\n",
       "<tr><td>שנה  </td><td>תקציב מקורי  </td><td>תקציב אחרי שינויים</td><td>ביצוע בפועל  </td></tr>\n",
       "<tr><td>1997 </td><td>34950827000.0</td><td>42229942000.0     </td><td>37875516939.0</td></tr>\n",
       "<tr><td>1998 </td><td>37689039000.0</td><td>45537812000.0     </td><td>41255396783.0</td></tr>\n",
       "<tr><td>1999 </td><td>39973799000.0</td><td>48339068000.0     </td><td>43656479170.0</td></tr>\n",
       "<tr><td>Total</td><td>21           </td><td>                  </td><td>             </td></tr>\n",
       "</tbody>\n",
       "</table>"
      ],
      "text/plain": [
       "<IPython.core.display.HTML object>"
      ]
     },
     "metadata": {},
     "output_type": "display_data"
    },
    {
     "name": "stdout",
     "output_type": "stream",
     "text": [
      "Getting https://next.obudget.org/get/budget/C222/2018\n"
     ]
    },
    {
     "data": {
      "text/html": [
       "<h3>(budget) 22 - שירותים חברתיים/חינוך: תמיכות תקציביות תחת תקציב זה ב<period></h3>"
      ],
      "text/plain": [
       "<IPython.core.display.HTML object>"
      ]
     },
     "metadata": {},
     "output_type": "display_data"
    },
    {
     "name": "stdout",
     "output_type": "stream",
     "text": [
      "skipping parameter json\n",
      "skipping parameter json\n",
      "skipping parameter json\n"
     ]
    },
    {
     "data": {
      "text/html": [
       "<pre>SELECT d.key AS \"שנה\", (d.value::json)->>'net_allocated' AS \"תקציב מקורי\", (d.value::json)->>'net_revised' AS \"תקציב אחרי שינויים\", (d.value::json)->>'net_executed' AS \"ביצוע בפועל\"\n",
       "FROM\n",
       "  (SELECT *\n",
       "   FROM budget\n",
       "   WHERE code='C222'\n",
       "     AND YEAR=2018) AS budget_\n",
       "JOIN jsonb_each_text(budget_.history) d ON TRUE</pre>"
      ],
      "text/plain": [
       "<IPython.core.display.HTML object>"
      ]
     },
     "metadata": {},
     "output_type": "display_data"
    },
    {
     "data": {
      "text/html": [
       "<table>\n",
       "<tbody>\n",
       "<tr><td>שנה  </td><td>תקציב מקורי  </td><td>תקציב אחרי שינויים</td><td>ביצוע בפועל  </td></tr>\n",
       "<tr><td>1997 </td><td>18588030000.0</td><td>18719226000.0     </td><td>17705614860.0</td></tr>\n",
       "<tr><td>1998 </td><td>20232520000.0</td><td>20549089000.0     </td><td>18930503119.0</td></tr>\n",
       "<tr><td>1999 </td><td>20660849000.0</td><td>21397237000.0     </td><td>20662263678.0</td></tr>\n",
       "<tr><td>Total</td><td>21           </td><td>                  </td><td>             </td></tr>\n",
       "</tbody>\n",
       "</table>"
      ],
      "text/plain": [
       "<IPython.core.display.HTML object>"
      ]
     },
     "metadata": {},
     "output_type": "display_data"
    },
    {
     "name": "stdout",
     "output_type": "stream",
     "text": [
      "Getting https://next.obudget.org/get/budget/0020/2018\n"
     ]
    },
    {
     "data": {
      "text/html": [
       "<h3>(budget) 20 - משרד החינוך: תמיכות תקציביות תחת תקציב זה ב<period></h3>"
      ],
      "text/plain": [
       "<IPython.core.display.HTML object>"
      ]
     },
     "metadata": {},
     "output_type": "display_data"
    },
    {
     "name": "stdout",
     "output_type": "stream",
     "text": [
      "skipping parameter json\n",
      "skipping parameter json\n",
      "skipping parameter json\n"
     ]
    },
    {
     "data": {
      "text/html": [
       "<pre>SELECT d.key AS \"שנה\", (d.value::json)->>'net_allocated' AS \"תקציב מקורי\", (d.value::json)->>'net_revised' AS \"תקציב אחרי שינויים\", (d.value::json)->>'net_executed' AS \"ביצוע בפועל\"\n",
       "FROM\n",
       "  (SELECT *\n",
       "   FROM budget\n",
       "   WHERE code='0020'\n",
       "     AND YEAR=2018) AS budget_\n",
       "JOIN jsonb_each_text(budget_.history) d ON TRUE</pre>"
      ],
      "text/plain": [
       "<IPython.core.display.HTML object>"
      ]
     },
     "metadata": {},
     "output_type": "display_data"
    },
    {
     "data": {
      "text/html": [
       "<table>\n",
       "<tbody>\n",
       "<tr><td>שנה  </td><td>תקציב מקורי  </td><td>תקציב אחרי שינויים</td><td>ביצוע בפועל  </td></tr>\n",
       "<tr><td>1997 </td><td>17998587000.0</td><td>18079238000.0     </td><td>17176380244.0</td></tr>\n",
       "<tr><td>1998 </td><td>19588376000.0</td><td>19835506000.0     </td><td>18516602605.0</td></tr>\n",
       "<tr><td>1999 </td><td>20085909000.0</td><td>20643414000.0     </td><td>20236285667.0</td></tr>\n",
       "<tr><td>Total</td><td>21           </td><td>                  </td><td>             </td></tr>\n",
       "</tbody>\n",
       "</table>"
      ],
      "text/plain": [
       "<IPython.core.display.HTML object>"
      ]
     },
     "metadata": {},
     "output_type": "display_data"
    },
    {
     "name": "stdout",
     "output_type": "stream",
     "text": [
      "Getting https://next.obudget.org/get/budget/0000/2018\n"
     ]
    },
    {
     "data": {
      "text/html": [
       "<h3>(budget) 00 - הכנסות המדינה: תמיכות תקציביות תחת תקציב זה ב<period></h3>"
      ],
      "text/plain": [
       "<IPython.core.display.HTML object>"
      ]
     },
     "metadata": {},
     "output_type": "display_data"
    },
    {
     "name": "stdout",
     "output_type": "stream",
     "text": [
      "skipping parameter json\n",
      "skipping parameter json\n",
      "skipping parameter json\n"
     ]
    },
    {
     "data": {
      "text/html": [
       "<pre>SELECT d.key AS \"שנה\", (d.value::json)->>'net_allocated' AS \"תקציב מקורי\", (d.value::json)->>'net_revised' AS \"תקציב אחרי שינויים\", (d.value::json)->>'net_executed' AS \"ביצוע בפועל\"\n",
       "FROM\n",
       "  (SELECT *\n",
       "   FROM budget\n",
       "   WHERE code='0000'\n",
       "     AND YEAR=2018) AS budget_\n",
       "JOIN jsonb_each_text(budget_.history) d ON TRUE</pre>"
      ],
      "text/plain": [
       "<IPython.core.display.HTML object>"
      ]
     },
     "metadata": {},
     "output_type": "display_data"
    },
    {
     "data": {
      "text/html": [
       "<table>\n",
       "<tbody>\n",
       "<tr><td>שנה  </td><td>תקציב מקורי   </td><td>תקציב אחרי שינויים</td><td>ביצוע בפועל   </td></tr>\n",
       "<tr><td>1997 </td><td>189953447000.0</td><td>189953447000.0    </td><td>180343411795.0</td></tr>\n",
       "<tr><td>1998 </td><td>207727617000.0</td><td>207727617000.0    </td><td>203762197990.0</td></tr>\n",
       "<tr><td>1999 </td><td>214975294000.0</td><td>214975294000.0    </td><td>205154162213.0</td></tr>\n",
       "<tr><td>Total</td><td>21            </td><td>                  </td><td>              </td></tr>\n",
       "</tbody>\n",
       "</table>"
      ],
      "text/plain": [
       "<IPython.core.display.HTML object>"
      ]
     },
     "metadata": {},
     "output_type": "display_data"
    },
    {
     "name": "stdout",
     "output_type": "stream",
     "text": [
      "Getting https://next.obudget.org/get/budget/002043/2018\n"
     ]
    },
    {
     "data": {
      "text/html": [
       "<h3>(budget) 20.43 - יסודי וחטיבות-ביניים: תמיכות תקציביות תחת תקציב זה ב<period></h3>"
      ],
      "text/plain": [
       "<IPython.core.display.HTML object>"
      ]
     },
     "metadata": {},
     "output_type": "display_data"
    },
    {
     "name": "stdout",
     "output_type": "stream",
     "text": [
      "skipping parameter json\n",
      "skipping parameter json\n",
      "skipping parameter json\n"
     ]
    },
    {
     "data": {
      "text/html": [
       "<pre>SELECT d.key AS \"שנה\", (d.value::json)->>'net_allocated' AS \"תקציב מקורי\", (d.value::json)->>'net_revised' AS \"תקציב אחרי שינויים\", (d.value::json)->>'net_executed' AS \"ביצוע בפועל\"\n",
       "FROM\n",
       "  (SELECT *\n",
       "   FROM budget\n",
       "   WHERE code='002043'\n",
       "     AND YEAR=2018) AS budget_\n",
       "JOIN jsonb_each_text(budget_.history) d ON TRUE</pre>"
      ],
      "text/plain": [
       "<IPython.core.display.HTML object>"
      ]
     },
     "metadata": {},
     "output_type": "display_data"
    },
    {
     "data": {
      "text/html": [
       "<table>\n",
       "<tbody>\n",
       "<tr><td>שנה  </td><td>תקציב מקורי  </td><td>תקציב אחרי שינויים</td><td>ביצוע בפועל  </td></tr>\n",
       "<tr><td>2015 </td><td>14566516000.0</td><td>14723330000.0     </td><td>14536312050.0</td></tr>\n",
       "<tr><td>2016 </td><td>14298038000.0</td><td>15302527000.0     </td><td>             </td></tr>\n",
       "<tr><td>2017 </td><td>14670822000.0</td><td>14670822000.0     </td><td>             </td></tr>\n",
       "<tr><td>Total</td><td>3            </td><td>                  </td><td>             </td></tr>\n",
       "</tbody>\n",
       "</table>"
      ],
      "text/plain": [
       "<IPython.core.display.HTML object>"
      ]
     },
     "metadata": {},
     "output_type": "display_data"
    },
    {
     "name": "stdout",
     "output_type": "stream",
     "text": [
      "Getting https://next.obudget.org/get/budget/00204301/2018\n"
     ]
    },
    {
     "data": {
      "text/html": [
       "<h3>(budget) 20.43.01 - חינוך רשמי: תמיכות תקציביות תחת תקציב זה ב<period></h3>"
      ],
      "text/plain": [
       "<IPython.core.display.HTML object>"
      ]
     },
     "metadata": {},
     "output_type": "display_data"
    },
    {
     "name": "stdout",
     "output_type": "stream",
     "text": [
      "skipping parameter json\n",
      "skipping parameter json\n",
      "skipping parameter json\n"
     ]
    },
    {
     "data": {
      "text/html": [
       "<pre>SELECT d.key AS \"שנה\", (d.value::json)->>'net_allocated' AS \"תקציב מקורי\", (d.value::json)->>'net_revised' AS \"תקציב אחרי שינויים\", (d.value::json)->>'net_executed' AS \"ביצוע בפועל\"\n",
       "FROM\n",
       "  (SELECT *\n",
       "   FROM budget\n",
       "   WHERE code='00204301'\n",
       "     AND YEAR=2018) AS budget_\n",
       "JOIN jsonb_each_text(budget_.history) d ON TRUE</pre>"
      ],
      "text/plain": [
       "<IPython.core.display.HTML object>"
      ]
     },
     "metadata": {},
     "output_type": "display_data"
    },
    {
     "data": {
      "text/html": [
       "<table>\n",
       "<tbody>\n",
       "<tr><td>שנה  </td><td>תקציב מקורי</td><td>תקציב אחרי שינויים</td><td>ביצוע בפועל</td></tr>\n",
       "<tr><td>1997 </td><td>2307000.0  </td><td>3872000.0         </td><td>5450209.0  </td></tr>\n",
       "<tr><td>1998 </td><td>2464000.0  </td><td>2252000.0         </td><td>233388.0   </td></tr>\n",
       "<tr><td>1999 </td><td>83000.0    </td><td>-1398000.0        </td><td>962523.0   </td></tr>\n",
       "<tr><td>Total</td><td>21         </td><td>                  </td><td>           </td></tr>\n",
       "</tbody>\n",
       "</table>"
      ],
      "text/plain": [
       "<IPython.core.display.HTML object>"
      ]
     },
     "metadata": {},
     "output_type": "display_data"
    },
    {
     "name": "stdout",
     "output_type": "stream",
     "text": [
      "Getting https://next.obudget.org/get/budget/0020430101/2018\n"
     ]
    },
    {
     "data": {
      "text/html": [
       "<h3>(budget) 20.43.01.01 - שעות תקן ביסודי: תמיכות תקציביות תחת תקציב זה ב<period></h3>"
      ],
      "text/plain": [
       "<IPython.core.display.HTML object>"
      ]
     },
     "metadata": {},
     "output_type": "display_data"
    },
    {
     "name": "stdout",
     "output_type": "stream",
     "text": [
      "skipping parameter json\n",
      "skipping parameter json\n",
      "skipping parameter json\n"
     ]
    },
    {
     "data": {
      "text/html": [
       "<pre>SELECT d.key AS \"שנה\", (d.value::json)->>'net_allocated' AS \"תקציב מקורי\", (d.value::json)->>'net_revised' AS \"תקציב אחרי שינויים\", (d.value::json)->>'net_executed' AS \"ביצוע בפועל\"\n",
       "FROM\n",
       "  (SELECT *\n",
       "   FROM budget\n",
       "   WHERE code='0020430101'\n",
       "     AND YEAR=2018) AS budget_\n",
       "JOIN jsonb_each_text(budget_.history) d ON TRUE</pre>"
      ],
      "text/plain": [
       "<IPython.core.display.HTML object>"
      ]
     },
     "metadata": {},
     "output_type": "display_data"
    },
    {
     "data": {
      "text/html": [
       "<table>\n",
       "<tbody>\n",
       "<tr><td>שנה  </td><td>תקציב מקורי</td><td>תקציב אחרי שינויים</td><td>ביצוע בפועל</td></tr>\n",
       "<tr><td>2001 </td><td>29100000.0 </td><td>30900000.0        </td><td>30900000.0 </td></tr>\n",
       "<tr><td>2002 </td><td>30657000.0 </td><td>30657000.0        </td><td>26824875.0 </td></tr>\n",
       "<tr><td>2003 </td><td>31298000.0 </td><td>31298000.0        </td><td>31288982.0 </td></tr>\n",
       "<tr><td>Total</td><td>17         </td><td>                  </td><td>           </td></tr>\n",
       "</tbody>\n",
       "</table>"
      ],
      "text/plain": [
       "<IPython.core.display.HTML object>"
      ]
     },
     "metadata": {},
     "output_type": "display_data"
    },
    {
     "name": "stdout",
     "output_type": "stream",
     "text": [
      "Getting https://next.obudget.org/get/national-budget-changes/2015/26-004\n"
     ]
    },
    {
     "data": {
      "text/html": [
       "<h3>(budget-changes) פניית סוף שנה המשרד להגנת סביבה לכספים:  כלל ההתקשרויות עם אותו הספק ב כל השנים</h3>"
      ],
      "text/plain": [
       "<IPython.core.display.HTML object>"
      ]
     },
     "metadata": {},
     "output_type": "display_data"
    },
    {
     "name": "stdout",
     "output_type": "stream",
     "text": [
      "skipping parameter entity_id\n"
     ]
    },
    {
     "data": {
      "text/html": [
       "<pre>SELECT order_date AS \"תאריך הזמנה\",\n",
       "       purchase_method->>0 AS \"אופן התקשרות\",\n",
       "                         purchasing_unit->>0 AS \"יחידה רוכשת\",\n",
       "                                           purpose AS \"מטרה\",\n",
       "                                           start_date AS \"תאריך תחילה\",\n",
       "                                           volume AS \"היקף\",\n",
       "                                           executed AS \"ביצוע\",\n",
       "                                           currency AS \"מטבע\",\n",
       "                                           explanation->>0 AS \"תיאור\",\n",
       "                                                         end_date AS \"תאריך סיום\"\n",
       "FROM contract_spending\n",
       "WHERE entity_id=':entity_id'\n",
       "  AND int4range(min_year, max_year, '[]') && int4range(2000,3000, '[]')</pre>"
      ],
      "text/plain": [
       "<IPython.core.display.HTML object>"
      ]
     },
     "metadata": {},
     "output_type": "display_data"
    },
    {
     "data": {
      "text/html": [
       "<table>\n",
       "<tbody>\n",
       "<tr><td>Total</td><td style=\"text-align: right;\">0</td></tr>\n",
       "</tbody>\n",
       "</table>"
      ],
      "text/plain": [
       "<IPython.core.display.HTML object>"
      ]
     },
     "metadata": {},
     "output_type": "display_data"
    },
    {
     "data": {
      "text/html": [
       "<h3>(budget-changes) פניית סוף שנה המשרד להגנת סביבה לכספים:  כלל ההתקשרויות עם אותו הספק ב 2015</h3>"
      ],
      "text/plain": [
       "<IPython.core.display.HTML object>"
      ]
     },
     "metadata": {},
     "output_type": "display_data"
    },
    {
     "name": "stdout",
     "output_type": "stream",
     "text": [
      "skipping parameter entity_id\n"
     ]
    },
    {
     "data": {
      "text/html": [
       "<pre>SELECT order_date AS \"תאריך הזמנה\",\n",
       "       purchase_method->>0 AS \"אופן התקשרות\",\n",
       "                         purchasing_unit->>0 AS \"יחידה רוכשת\",\n",
       "                                           purpose AS \"מטרה\",\n",
       "                                           start_date AS \"תאריך תחילה\",\n",
       "                                           volume AS \"היקף\",\n",
       "                                           executed AS \"ביצוע\",\n",
       "                                           currency AS \"מטבע\",\n",
       "                                           explanation->>0 AS \"תיאור\",\n",
       "                                                         end_date AS \"תאריך סיום\"\n",
       "FROM contract_spending\n",
       "WHERE entity_id=':entity_id'\n",
       "  AND int4range(min_year, max_year, '[]') && int4range(2015,2015, '[]')</pre>"
      ],
      "text/plain": [
       "<IPython.core.display.HTML object>"
      ]
     },
     "metadata": {},
     "output_type": "display_data"
    },
    {
     "data": {
      "text/html": [
       "<table>\n",
       "<tbody>\n",
       "<tr><td>Total</td><td style=\"text-align: right;\">0</td></tr>\n",
       "</tbody>\n",
       "</table>"
      ],
      "text/plain": [
       "<IPython.core.display.HTML object>"
      ]
     },
     "metadata": {},
     "output_type": "display_data"
    },
    {
     "data": {
      "text/html": [
       "<h3>(budget-changes) פניית סוף שנה המשרד להגנת סביבה לכספים:  כלל ההתקשרויות עם אותו הספק ב 2016</h3>"
      ],
      "text/plain": [
       "<IPython.core.display.HTML object>"
      ]
     },
     "metadata": {},
     "output_type": "display_data"
    },
    {
     "name": "stdout",
     "output_type": "stream",
     "text": [
      "skipping parameter entity_id\n"
     ]
    },
    {
     "data": {
      "text/html": [
       "<pre>SELECT order_date AS \"תאריך הזמנה\",\n",
       "       purchase_method->>0 AS \"אופן התקשרות\",\n",
       "                         purchasing_unit->>0 AS \"יחידה רוכשת\",\n",
       "                                           purpose AS \"מטרה\",\n",
       "                                           start_date AS \"תאריך תחילה\",\n",
       "                                           volume AS \"היקף\",\n",
       "                                           executed AS \"ביצוע\",\n",
       "                                           currency AS \"מטבע\",\n",
       "                                           explanation->>0 AS \"תיאור\",\n",
       "                                                         end_date AS \"תאריך סיום\"\n",
       "FROM contract_spending\n",
       "WHERE entity_id=':entity_id'\n",
       "  AND int4range(min_year, max_year, '[]') && int4range(2016,2016, '[]')</pre>"
      ],
      "text/plain": [
       "<IPython.core.display.HTML object>"
      ]
     },
     "metadata": {},
     "output_type": "display_data"
    },
    {
     "data": {
      "text/html": [
       "<table>\n",
       "<tbody>\n",
       "<tr><td>Total</td><td style=\"text-align: right;\">0</td></tr>\n",
       "</tbody>\n",
       "</table>"
      ],
      "text/plain": [
       "<IPython.core.display.HTML object>"
      ]
     },
     "metadata": {},
     "output_type": "display_data"
    },
    {
     "data": {
      "text/html": [
       "<h3>(budget-changes) פניית סוף שנה המשרד להגנת סביבה לכספים:  כלל ההתקשרויות עם אותו הספק ב 2017</h3>"
      ],
      "text/plain": [
       "<IPython.core.display.HTML object>"
      ]
     },
     "metadata": {},
     "output_type": "display_data"
    },
    {
     "name": "stdout",
     "output_type": "stream",
     "text": [
      "skipping parameter entity_id\n"
     ]
    },
    {
     "data": {
      "text/html": [
       "<pre>SELECT order_date AS \"תאריך הזמנה\",\n",
       "       purchase_method->>0 AS \"אופן התקשרות\",\n",
       "                         purchasing_unit->>0 AS \"יחידה רוכשת\",\n",
       "                                           purpose AS \"מטרה\",\n",
       "                                           start_date AS \"תאריך תחילה\",\n",
       "                                           volume AS \"היקף\",\n",
       "                                           executed AS \"ביצוע\",\n",
       "                                           currency AS \"מטבע\",\n",
       "                                           explanation->>0 AS \"תיאור\",\n",
       "                                                         end_date AS \"תאריך סיום\"\n",
       "FROM contract_spending\n",
       "WHERE entity_id=':entity_id'\n",
       "  AND int4range(min_year, max_year, '[]') && int4range(2017,2017, '[]')</pre>"
      ],
      "text/plain": [
       "<IPython.core.display.HTML object>"
      ]
     },
     "metadata": {},
     "output_type": "display_data"
    },
    {
     "data": {
      "text/html": [
       "<table>\n",
       "<tbody>\n",
       "<tr><td>Total</td><td style=\"text-align: right;\">0</td></tr>\n",
       "</tbody>\n",
       "</table>"
      ],
      "text/plain": [
       "<IPython.core.display.HTML object>"
      ]
     },
     "metadata": {},
     "output_type": "display_data"
    },
    {
     "data": {
      "text/html": [
       "<h3>(budget-changes) פניית סוף שנה המשרד להגנת סביבה לכספים:  כלל ההתקשרויות עם אותו הספק ב 2018</h3>"
      ],
      "text/plain": [
       "<IPython.core.display.HTML object>"
      ]
     },
     "metadata": {},
     "output_type": "display_data"
    },
    {
     "name": "stdout",
     "output_type": "stream",
     "text": [
      "skipping parameter entity_id\n"
     ]
    },
    {
     "data": {
      "text/html": [
       "<pre>SELECT order_date AS \"תאריך הזמנה\",\n",
       "       purchase_method->>0 AS \"אופן התקשרות\",\n",
       "                         purchasing_unit->>0 AS \"יחידה רוכשת\",\n",
       "                                           purpose AS \"מטרה\",\n",
       "                                           start_date AS \"תאריך תחילה\",\n",
       "                                           volume AS \"היקף\",\n",
       "                                           executed AS \"ביצוע\",\n",
       "                                           currency AS \"מטבע\",\n",
       "                                           explanation->>0 AS \"תיאור\",\n",
       "                                                         end_date AS \"תאריך סיום\"\n",
       "FROM contract_spending\n",
       "WHERE entity_id=':entity_id'\n",
       "  AND int4range(min_year, max_year, '[]') && int4range(2018,2018, '[]')</pre>"
      ],
      "text/plain": [
       "<IPython.core.display.HTML object>"
      ]
     },
     "metadata": {},
     "output_type": "display_data"
    },
    {
     "data": {
      "text/html": [
       "<table>\n",
       "<tbody>\n",
       "<tr><td>Total</td><td style=\"text-align: right;\">0</td></tr>\n",
       "</tbody>\n",
       "</table>"
      ],
      "text/plain": [
       "<IPython.core.display.HTML object>"
      ]
     },
     "metadata": {},
     "output_type": "display_data"
    },
    {
     "name": "stdout",
     "output_type": "stream",
     "text": [
      "Getting https://next.obudget.org/get/contract-spending/4501218324/0033060240\n"
     ]
    },
    {
     "data": {
      "text/html": [
       "<h3>(contract-spending) תשלומים בין משרדים:  כלל ההתקשרויות עם אותו הספק ב כל השנים</h3>"
      ],
      "text/plain": [
       "<IPython.core.display.HTML object>"
      ]
     },
     "metadata": {},
     "output_type": "display_data"
    },
    {
     "data": {
      "text/html": [
       "<pre>SELECT order_date AS \"תאריך הזמנה\",\n",
       "       purchase_method->>0 AS \"אופן התקשרות\",\n",
       "                         purchasing_unit->>0 AS \"יחידה רוכשת\",\n",
       "                                           'contract-spending/' || order_id || '/' || budget_code || '#' || purpose AS \"מטרה\",\n",
       "                                           start_date AS \"תאריך תחילה\",\n",
       "                                           volume AS \"היקף\",\n",
       "                                           executed AS \"ביצוע\",\n",
       "                                           currency AS \"מטבע\",\n",
       "                                           explanation->>0 AS \"תיאור\",\n",
       "                                                         end_date AS \"תאריך סיום\"\n",
       "FROM contract_spending\n",
       "WHERE entity_id='500105929'\n",
       "  AND int4range(min_year, max_year, '[]') && int4range(2000,3000, '[]')</pre>"
      ],
      "text/plain": [
       "<IPython.core.display.HTML object>"
      ]
     },
     "metadata": {},
     "output_type": "display_data"
    },
    {
     "data": {
      "text/html": [
       "<table>\n",
       "<tbody>\n",
       "<tr><td>יחידה רוכשת </td><td>מטרה                                                                                             </td><td>תאריך הזמנה</td><td>תאריך תחילה</td><td>תאריך סיום</td><td>היקף       </td><td>ביצוע       </td><td>אופן התקשרות             </td><td>מטבע</td><td>תיאור</td></tr>\n",
       "<tr><td>משרד החקלאות</td><td>contract-spending/4501394333/0033060230#תשלומים                                                  </td><td>2017-04-24 </td><td>           </td><td>2022-04-24</td><td>162247225.0</td><td>0.0         </td><td>פטור ממכרז               </td><td>ILS </td><td>     </td></tr>\n",
       "<tr><td>משרד החקלאות</td><td>contract-spending/4501456872/0033060231#תשלומים עפ\"י החלטת הממשלה-הסכם התקשרות עם החטיבה להתישבות</td><td>2017-08-24 </td><td>           </td><td>2017-12-31</td><td>54000000.0 </td><td>0.0         </td><td>התקשרות עם גופים ממשלתיים</td><td>ILS </td><td>     </td></tr>\n",
       "<tr><td>משרד החקלאות</td><td>contract-spending/4501218324/0033060240#תשלומים בין משרדים                                       </td><td>2016-05-03 </td><td>           </td><td>2016-12-31</td><td>319499500.0</td><td>141334138.96</td><td>התקשרות עם גופים ממשלתיים</td><td>ILS </td><td>     </td></tr>\n",
       "<tr><td>Total       </td><td>3                                                                                                </td><td>           </td><td>           </td><td>          </td><td>           </td><td>            </td><td>                         </td><td>    </td><td>     </td></tr>\n",
       "</tbody>\n",
       "</table>"
      ],
      "text/plain": [
       "<IPython.core.display.HTML object>"
      ]
     },
     "metadata": {},
     "output_type": "display_data"
    },
    {
     "data": {
      "text/html": [
       "<h3>(contract-spending) תשלומים בין משרדים:  כלל ההתקשרויות עם אותו הספק ב 2015</h3>"
      ],
      "text/plain": [
       "<IPython.core.display.HTML object>"
      ]
     },
     "metadata": {},
     "output_type": "display_data"
    },
    {
     "data": {
      "text/html": [
       "<pre>SELECT order_date AS \"תאריך הזמנה\",\n",
       "       purchase_method->>0 AS \"אופן התקשרות\",\n",
       "                         purchasing_unit->>0 AS \"יחידה רוכשת\",\n",
       "                                           'contract-spending/' || order_id || '/' || budget_code || '#' || purpose AS \"מטרה\",\n",
       "                                           start_date AS \"תאריך תחילה\",\n",
       "                                           volume AS \"היקף\",\n",
       "                                           executed AS \"ביצוע\",\n",
       "                                           currency AS \"מטבע\",\n",
       "                                           explanation->>0 AS \"תיאור\",\n",
       "                                                         end_date AS \"תאריך סיום\"\n",
       "FROM contract_spending\n",
       "WHERE entity_id='500105929'\n",
       "  AND int4range(min_year, max_year, '[]') && int4range(2015,2015, '[]')</pre>"
      ],
      "text/plain": [
       "<IPython.core.display.HTML object>"
      ]
     },
     "metadata": {},
     "output_type": "display_data"
    },
    {
     "data": {
      "text/html": [
       "<table>\n",
       "<tbody>\n",
       "<tr><td>Total</td><td style=\"text-align: right;\">0</td></tr>\n",
       "</tbody>\n",
       "</table>"
      ],
      "text/plain": [
       "<IPython.core.display.HTML object>"
      ]
     },
     "metadata": {},
     "output_type": "display_data"
    },
    {
     "data": {
      "text/html": [
       "<h3>(contract-spending) תשלומים בין משרדים:  כלל ההתקשרויות עם אותו הספק ב 2016</h3>"
      ],
      "text/plain": [
       "<IPython.core.display.HTML object>"
      ]
     },
     "metadata": {},
     "output_type": "display_data"
    },
    {
     "data": {
      "text/html": [
       "<pre>SELECT order_date AS \"תאריך הזמנה\",\n",
       "       purchase_method->>0 AS \"אופן התקשרות\",\n",
       "                         purchasing_unit->>0 AS \"יחידה רוכשת\",\n",
       "                                           'contract-spending/' || order_id || '/' || budget_code || '#' || purpose AS \"מטרה\",\n",
       "                                           start_date AS \"תאריך תחילה\",\n",
       "                                           volume AS \"היקף\",\n",
       "                                           executed AS \"ביצוע\",\n",
       "                                           currency AS \"מטבע\",\n",
       "                                           explanation->>0 AS \"תיאור\",\n",
       "                                                         end_date AS \"תאריך סיום\"\n",
       "FROM contract_spending\n",
       "WHERE entity_id='500105929'\n",
       "  AND int4range(min_year, max_year, '[]') && int4range(2016,2016, '[]')</pre>"
      ],
      "text/plain": [
       "<IPython.core.display.HTML object>"
      ]
     },
     "metadata": {},
     "output_type": "display_data"
    },
    {
     "data": {
      "text/html": [
       "<table>\n",
       "<tbody>\n",
       "<tr><td>יחידה רוכשת </td><td>מטרה                                                      </td><td>תאריך הזמנה</td><td>תאריך תחילה</td><td>תאריך סיום</td><td>היקף       </td><td>ביצוע       </td><td>אופן התקשרות             </td><td>מטבע</td><td>תיאור</td></tr>\n",
       "<tr><td>משרד החקלאות</td><td>contract-spending/4501218324/0033060240#תשלומים בין משרדים</td><td>2016-05-03 </td><td>           </td><td>2016-12-31</td><td>319499500.0</td><td>141334138.96</td><td>התקשרות עם גופים ממשלתיים</td><td>ILS </td><td>     </td></tr>\n",
       "<tr><td>Total       </td><td>1                                                         </td><td>           </td><td>           </td><td>          </td><td>           </td><td>            </td><td>                         </td><td>    </td><td>     </td></tr>\n",
       "</tbody>\n",
       "</table>"
      ],
      "text/plain": [
       "<IPython.core.display.HTML object>"
      ]
     },
     "metadata": {},
     "output_type": "display_data"
    },
    {
     "data": {
      "text/html": [
       "<h3>(contract-spending) תשלומים בין משרדים:  כלל ההתקשרויות עם אותו הספק ב 2017</h3>"
      ],
      "text/plain": [
       "<IPython.core.display.HTML object>"
      ]
     },
     "metadata": {},
     "output_type": "display_data"
    },
    {
     "data": {
      "text/html": [
       "<pre>SELECT order_date AS \"תאריך הזמנה\",\n",
       "       purchase_method->>0 AS \"אופן התקשרות\",\n",
       "                         purchasing_unit->>0 AS \"יחידה רוכשת\",\n",
       "                                           'contract-spending/' || order_id || '/' || budget_code || '#' || purpose AS \"מטרה\",\n",
       "                                           start_date AS \"תאריך תחילה\",\n",
       "                                           volume AS \"היקף\",\n",
       "                                           executed AS \"ביצוע\",\n",
       "                                           currency AS \"מטבע\",\n",
       "                                           explanation->>0 AS \"תיאור\",\n",
       "                                                         end_date AS \"תאריך סיום\"\n",
       "FROM contract_spending\n",
       "WHERE entity_id='500105929'\n",
       "  AND int4range(min_year, max_year, '[]') && int4range(2017,2017, '[]')</pre>"
      ],
      "text/plain": [
       "<IPython.core.display.HTML object>"
      ]
     },
     "metadata": {},
     "output_type": "display_data"
    },
    {
     "data": {
      "text/html": [
       "<table>\n",
       "<tbody>\n",
       "<tr><td>יחידה רוכשת </td><td>מטרה                                                                                             </td><td>תאריך הזמנה</td><td>תאריך תחילה</td><td>תאריך סיום</td><td>היקף       </td><td>ביצוע</td><td>אופן התקשרות             </td><td>מטבע</td><td>תיאור</td></tr>\n",
       "<tr><td>משרד החקלאות</td><td>contract-spending/4501394333/0033060230#תשלומים                                                  </td><td>2017-04-24 </td><td>           </td><td>2022-04-24</td><td>162247225.0</td><td>0.0  </td><td>פטור ממכרז               </td><td>ILS </td><td>     </td></tr>\n",
       "<tr><td>משרד החקלאות</td><td>contract-spending/4501456872/0033060231#תשלומים עפ\"י החלטת הממשלה-הסכם התקשרות עם החטיבה להתישבות</td><td>2017-08-24 </td><td>           </td><td>2017-12-31</td><td>54000000.0 </td><td>0.0  </td><td>התקשרות עם גופים ממשלתיים</td><td>ILS </td><td>     </td></tr>\n",
       "<tr><td>Total       </td><td>2                                                                                                </td><td>           </td><td>           </td><td>          </td><td>           </td><td>     </td><td>                         </td><td>    </td><td>     </td></tr>\n",
       "</tbody>\n",
       "</table>"
      ],
      "text/plain": [
       "<IPython.core.display.HTML object>"
      ]
     },
     "metadata": {},
     "output_type": "display_data"
    },
    {
     "data": {
      "text/html": [
       "<h3>(contract-spending) תשלומים בין משרדים:  כלל ההתקשרויות עם אותו הספק ב 2018</h3>"
      ],
      "text/plain": [
       "<IPython.core.display.HTML object>"
      ]
     },
     "metadata": {},
     "output_type": "display_data"
    },
    {
     "data": {
      "text/html": [
       "<pre>SELECT order_date AS \"תאריך הזמנה\",\n",
       "       purchase_method->>0 AS \"אופן התקשרות\",\n",
       "                         purchasing_unit->>0 AS \"יחידה רוכשת\",\n",
       "                                           'contract-spending/' || order_id || '/' || budget_code || '#' || purpose AS \"מטרה\",\n",
       "                                           start_date AS \"תאריך תחילה\",\n",
       "                                           volume AS \"היקף\",\n",
       "                                           executed AS \"ביצוע\",\n",
       "                                           currency AS \"מטבע\",\n",
       "                                           explanation->>0 AS \"תיאור\",\n",
       "                                                         end_date AS \"תאריך סיום\"\n",
       "FROM contract_spending\n",
       "WHERE entity_id='500105929'\n",
       "  AND int4range(min_year, max_year, '[]') && int4range(2018,2018, '[]')</pre>"
      ],
      "text/plain": [
       "<IPython.core.display.HTML object>"
      ]
     },
     "metadata": {},
     "output_type": "display_data"
    },
    {
     "data": {
      "text/html": [
       "<table>\n",
       "<tbody>\n",
       "<tr><td>יחידה רוכשת </td><td>מטרה                                           </td><td>תאריך הזמנה</td><td>תאריך תחילה</td><td>תאריך סיום</td><td>היקף       </td><td>ביצוע</td><td>אופן התקשרות</td><td>מטבע</td><td>תיאור</td></tr>\n",
       "<tr><td>משרד החקלאות</td><td>contract-spending/4501394333/0033060230#תשלומים</td><td>2017-04-24 </td><td>           </td><td>2022-04-24</td><td>162247225.0</td><td>0.0  </td><td>פטור ממכרז  </td><td>ILS </td><td>     </td></tr>\n",
       "<tr><td>Total       </td><td>1                                              </td><td>           </td><td>           </td><td>          </td><td>           </td><td>     </td><td>            </td><td>    </td><td>     </td></tr>\n",
       "</tbody>\n",
       "</table>"
      ],
      "text/plain": [
       "<IPython.core.display.HTML object>"
      ]
     },
     "metadata": {},
     "output_type": "display_data"
    },
    {
     "name": "stdout",
     "output_type": "stream",
     "text": [
      "Getting https://next.obudget.org/get/contract-spending/4501252882/0020400228\n"
     ]
    },
    {
     "data": {
      "text/html": [
       "<h3>(contract-spending) ארגון והפעלת השלוחות האקסטרניות:  כלל ההתקשרויות עם אותו הספק ב כל השנים</h3>"
      ],
      "text/plain": [
       "<IPython.core.display.HTML object>"
      ]
     },
     "metadata": {},
     "output_type": "display_data"
    },
    {
     "data": {
      "text/html": [
       "<pre>SELECT order_date AS \"תאריך הזמנה\",\n",
       "       purchase_method->>0 AS \"אופן התקשרות\",\n",
       "                         purchasing_unit->>0 AS \"יחידה רוכשת\",\n",
       "                                           'contract-spending/' || order_id || '/' || budget_code || '#' || purpose AS \"מטרה\",\n",
       "                                           start_date AS \"תאריך תחילה\",\n",
       "                                           volume AS \"היקף\",\n",
       "                                           executed AS \"ביצוע\",\n",
       "                                           currency AS \"מטבע\",\n",
       "                                           explanation->>0 AS \"תיאור\",\n",
       "                                                         end_date AS \"תאריך סיום\"\n",
       "FROM contract_spending\n",
       "WHERE entity_id='520039710'\n",
       "  AND int4range(min_year, max_year, '[]') && int4range(2000,3000, '[]')</pre>"
      ],
      "text/plain": [
       "<IPython.core.display.HTML object>"
      ]
     },
     "metadata": {},
     "output_type": "display_data"
    },
    {
     "data": {
      "text/html": [
       "<table>\n",
       "<tbody>\n",
       "<tr><td>יחידה רוכשת                   </td><td>מטרה                                                             </td><td>תאריך הזמנה</td><td>תאריך תחילה</td><td>תאריך סיום</td><td>היקף      </td><td>ביצוע    </td><td>אופן התקשרות                             </td><td>מטבע</td><td>תיאור</td></tr>\n",
       "<tr><td>המרכז למיפוי ישראל            </td><td>contract-spending/4501390733/0043030107#עדכון בנט\"ל פעימה ד'     </td><td>2017-04-18 </td><td>           </td><td>2018-03-31</td><td>1055357.55</td><td>287308.14</td><td>תקנה 17ה - מכרז פומבי עם הליך תחרותי נוסף</td><td>ILS </td><td>     </td></tr>\n",
       "<tr><td>המשרד לבטחון פנים-הרשות הארצית</td><td>contract-spending/4501391971/0007600201#שירותי תחזוקה ויעוץ תוכנה</td><td>2017-04-19 </td><td>           </td><td>2019-12-31</td><td>526797.18 </td><td>0.0      </td><td>פטור ממכרז                               </td><td>ILS </td><td>     </td></tr>\n",
       "<tr><td>המשרד לבטחון פנים-הרשות הארצית</td><td>contract-spending/4501391971/0007600202#שירותי תחזוקה ויעוץ תוכנה</td><td>2017-04-19 </td><td>           </td><td>2019-12-31</td><td>4309866.11</td><td>992340.36</td><td>פטור ממכרז                               </td><td>ILS </td><td>     </td></tr>\n",
       "<tr><td>Total                         </td><td>389                                                              </td><td>           </td><td>           </td><td>          </td><td>          </td><td>         </td><td>                                         </td><td>    </td><td>     </td></tr>\n",
       "</tbody>\n",
       "</table>"
      ],
      "text/plain": [
       "<IPython.core.display.HTML object>"
      ]
     },
     "metadata": {},
     "output_type": "display_data"
    },
    {
     "data": {
      "text/html": [
       "<h3>(contract-spending) ארגון והפעלת השלוחות האקסטרניות:  כלל ההתקשרויות עם אותו הספק ב 2015</h3>"
      ],
      "text/plain": [
       "<IPython.core.display.HTML object>"
      ]
     },
     "metadata": {},
     "output_type": "display_data"
    },
    {
     "data": {
      "text/html": [
       "<pre>SELECT order_date AS \"תאריך הזמנה\",\n",
       "       purchase_method->>0 AS \"אופן התקשרות\",\n",
       "                         purchasing_unit->>0 AS \"יחידה רוכשת\",\n",
       "                                           'contract-spending/' || order_id || '/' || budget_code || '#' || purpose AS \"מטרה\",\n",
       "                                           start_date AS \"תאריך תחילה\",\n",
       "                                           volume AS \"היקף\",\n",
       "                                           executed AS \"ביצוע\",\n",
       "                                           currency AS \"מטבע\",\n",
       "                                           explanation->>0 AS \"תיאור\",\n",
       "                                                         end_date AS \"תאריך סיום\"\n",
       "FROM contract_spending\n",
       "WHERE entity_id='520039710'\n",
       "  AND int4range(min_year, max_year, '[]') && int4range(2015,2015, '[]')</pre>"
      ],
      "text/plain": [
       "<IPython.core.display.HTML object>"
      ]
     },
     "metadata": {},
     "output_type": "display_data"
    },
    {
     "data": {
      "text/html": [
       "<table>\n",
       "<tbody>\n",
       "<tr><td>יחידה רוכשת    </td><td>מטרה                                                                         </td><td>תאריך הזמנה</td><td>תאריך תחילה</td><td>תאריך סיום</td><td>היקף       </td><td>ביצוע      </td><td>אופן התקשרות             </td><td>מטבע</td><td>תיאור</td></tr>\n",
       "<tr><td>כלכלה מטה      </td><td>contract-spending/4501091740/0036400401#ארכה ראשונה מוקד טלדור               </td><td>2015-08-12 </td><td>           </td><td>2016-08-31</td><td>897297.86  </td><td>584095.23  </td><td>פטור ממכרז               </td><td>ILS </td><td>     </td></tr>\n",
       "<tr><td>כלכלה מטה      </td><td>contract-spending/4501091835/0036400401#ארכה ראשונה מוקד טלדור               </td><td>2015-08-12 </td><td>           </td><td>2016-08-31</td><td>897297.86  </td><td>582953.22  </td><td>פטור ממכרז               </td><td>ILS </td><td>     </td></tr>\n",
       "<tr><td>מטה משרד החינוך</td><td>contract-spending/4501091932/0020400228#ארגון והפעלת מערכת השלוחות האקסטרניות</td><td>2015-08-12 </td><td>           </td><td>2016-08-31</td><td>12287377.44</td><td>10790104.37</td><td>תקנה 1ב - מכרז פומבי רגיל</td><td>ILS </td><td>     </td></tr>\n",
       "<tr><td>Total          </td><td>161                                                                          </td><td>           </td><td>           </td><td>          </td><td>           </td><td>           </td><td>                         </td><td>    </td><td>     </td></tr>\n",
       "</tbody>\n",
       "</table>"
      ],
      "text/plain": [
       "<IPython.core.display.HTML object>"
      ]
     },
     "metadata": {},
     "output_type": "display_data"
    },
    {
     "data": {
      "text/html": [
       "<h3>(contract-spending) ארגון והפעלת השלוחות האקסטרניות:  כלל ההתקשרויות עם אותו הספק ב 2016</h3>"
      ],
      "text/plain": [
       "<IPython.core.display.HTML object>"
      ]
     },
     "metadata": {},
     "output_type": "display_data"
    },
    {
     "data": {
      "text/html": [
       "<pre>SELECT order_date AS \"תאריך הזמנה\",\n",
       "       purchase_method->>0 AS \"אופן התקשרות\",\n",
       "                         purchasing_unit->>0 AS \"יחידה רוכשת\",\n",
       "                                           'contract-spending/' || order_id || '/' || budget_code || '#' || purpose AS \"מטרה\",\n",
       "                                           start_date AS \"תאריך תחילה\",\n",
       "                                           volume AS \"היקף\",\n",
       "                                           executed AS \"ביצוע\",\n",
       "                                           currency AS \"מטבע\",\n",
       "                                           explanation->>0 AS \"תיאור\",\n",
       "                                                         end_date AS \"תאריך סיום\"\n",
       "FROM contract_spending\n",
       "WHERE entity_id='520039710'\n",
       "  AND int4range(min_year, max_year, '[]') && int4range(2016,2016, '[]')</pre>"
      ],
      "text/plain": [
       "<IPython.core.display.HTML object>"
      ]
     },
     "metadata": {},
     "output_type": "display_data"
    },
    {
     "data": {
      "text/html": [
       "<table>\n",
       "<tbody>\n",
       "<tr><td>יחידה רוכשת    </td><td>מטרה                                                                          </td><td>תאריך הזמנה</td><td>תאריך תחילה</td><td>תאריך סיום</td><td>היקף     </td><td>ביצוע    </td><td>אופן התקשרות             </td><td>מטבע</td><td>תיאור</td></tr>\n",
       "<tr><td>מטה משרד החינוך</td><td>contract-spending/4501012305/0020400242#סקר אומדן תנועות הנוער                </td><td>2015-01-27 </td><td>           </td><td>2016-08-31</td><td>6079171.0</td><td>5264446.5</td><td>תקנה 1ב - מכרז פומבי רגיל</td><td>ILS </td><td>     </td></tr>\n",
       "<tr><td>מטה משרד החינוך</td><td>contract-spending/4501029429/0020400242#מחקר הערכה - אורח חיים בריא           </td><td>2015-03-01 </td><td>           </td><td>2016-08-31</td><td>9055.8   </td><td>2988.26  </td><td>תקנה 1ב - מכרז פומבי רגיל</td><td>ILS </td><td>     </td></tr>\n",
       "<tr><td>מטה משרד החינוך</td><td>contract-spending/4501029439/0020400242#מחקר הערכה - תפיסה לאומית לחטינוך ערכי</td><td>2015-03-01 </td><td>           </td><td>2016-08-31</td><td>72540.0  </td><td>32043.08 </td><td>תקנה 1ב - מכרז פומבי רגיל</td><td>ILS </td><td>     </td></tr>\n",
       "<tr><td>Total          </td><td>247                                                                           </td><td>           </td><td>           </td><td>          </td><td>         </td><td>         </td><td>                         </td><td>    </td><td>     </td></tr>\n",
       "</tbody>\n",
       "</table>"
      ],
      "text/plain": [
       "<IPython.core.display.HTML object>"
      ]
     },
     "metadata": {},
     "output_type": "display_data"
    },
    {
     "data": {
      "text/html": [
       "<h3>(contract-spending) ארגון והפעלת השלוחות האקסטרניות:  כלל ההתקשרויות עם אותו הספק ב 2017</h3>"
      ],
      "text/plain": [
       "<IPython.core.display.HTML object>"
      ]
     },
     "metadata": {},
     "output_type": "display_data"
    },
    {
     "data": {
      "text/html": [
       "<pre>SELECT order_date AS \"תאריך הזמנה\",\n",
       "       purchase_method->>0 AS \"אופן התקשרות\",\n",
       "                         purchasing_unit->>0 AS \"יחידה רוכשת\",\n",
       "                                           'contract-spending/' || order_id || '/' || budget_code || '#' || purpose AS \"מטרה\",\n",
       "                                           start_date AS \"תאריך תחילה\",\n",
       "                                           volume AS \"היקף\",\n",
       "                                           executed AS \"ביצוע\",\n",
       "                                           currency AS \"מטבע\",\n",
       "                                           explanation->>0 AS \"תיאור\",\n",
       "                                                         end_date AS \"תאריך סיום\"\n",
       "FROM contract_spending\n",
       "WHERE entity_id='520039710'\n",
       "  AND int4range(min_year, max_year, '[]') && int4range(2017,2017, '[]')</pre>"
      ],
      "text/plain": [
       "<IPython.core.display.HTML object>"
      ]
     },
     "metadata": {},
     "output_type": "display_data"
    },
    {
     "data": {
      "text/html": [
       "<table>\n",
       "<tbody>\n",
       "<tr><td>יחידה רוכשת           </td><td>מטרה                                                                       </td><td>תאריך הזמנה</td><td>תאריך תחילה</td><td>תאריך סיום</td><td>היקף     </td><td>ביצוע   </td><td>אופן התקשרות         </td><td>מטבע</td><td>תיאור</td></tr>\n",
       "<tr><td>רשות האוכלוסין וההגירה</td><td>contract-spending/4501175028/0068110112#עבור שירות תחזוקה ואחריות לשנת 2016</td><td>2016-02-02 </td><td>           </td><td>2017-12-31</td><td>6909.04  </td><td>2319.38 </td><td>תקנה 14ב - מכרז מרכזי</td><td>ILS </td><td>     </td></tr>\n",
       "<tr><td>רשות האוכלוסין וההגירה</td><td>contract-spending/4501175028/0068110202#עבור שירות תחזוקה ואחריות לשנת 2016</td><td>2016-02-02 </td><td>           </td><td>2017-12-31</td><td>113172.11</td><td>33548.16</td><td>תקנה 14ב - מכרז מרכזי</td><td>ILS </td><td>     </td></tr>\n",
       "<tr><td>רשות האוכלוסין וההגירה</td><td>contract-spending/4501175028/0068120312#עבור שירות תחזוקה ואחריות לשנת 2016</td><td>2016-02-02 </td><td>           </td><td>2017-12-31</td><td>4145.43  </td><td>1435.8  </td><td>תקנה 14ב - מכרז מרכזי</td><td>ILS </td><td>     </td></tr>\n",
       "<tr><td>Total                 </td><td>173                                                                        </td><td>           </td><td>           </td><td>          </td><td>         </td><td>        </td><td>                     </td><td>    </td><td>     </td></tr>\n",
       "</tbody>\n",
       "</table>"
      ],
      "text/plain": [
       "<IPython.core.display.HTML object>"
      ]
     },
     "metadata": {},
     "output_type": "display_data"
    },
    {
     "data": {
      "text/html": [
       "<h3>(contract-spending) ארגון והפעלת השלוחות האקסטרניות:  כלל ההתקשרויות עם אותו הספק ב 2018</h3>"
      ],
      "text/plain": [
       "<IPython.core.display.HTML object>"
      ]
     },
     "metadata": {},
     "output_type": "display_data"
    },
    {
     "data": {
      "text/html": [
       "<pre>SELECT order_date AS \"תאריך הזמנה\",\n",
       "       purchase_method->>0 AS \"אופן התקשרות\",\n",
       "                         purchasing_unit->>0 AS \"יחידה רוכשת\",\n",
       "                                           'contract-spending/' || order_id || '/' || budget_code || '#' || purpose AS \"מטרה\",\n",
       "                                           start_date AS \"תאריך תחילה\",\n",
       "                                           volume AS \"היקף\",\n",
       "                                           executed AS \"ביצוע\",\n",
       "                                           currency AS \"מטבע\",\n",
       "                                           explanation->>0 AS \"תיאור\",\n",
       "                                                         end_date AS \"תאריך סיום\"\n",
       "FROM contract_spending\n",
       "WHERE entity_id='520039710'\n",
       "  AND int4range(min_year, max_year, '[]') && int4range(2018,2018, '[]')</pre>"
      ],
      "text/plain": [
       "<IPython.core.display.HTML object>"
      ]
     },
     "metadata": {},
     "output_type": "display_data"
    },
    {
     "data": {
      "text/html": [
       "<table>\n",
       "<tbody>\n",
       "<tr><td>יחידה רוכשת                   </td><td>מטרה                                                             </td><td>תאריך הזמנה</td><td>תאריך תחילה</td><td>תאריך סיום</td><td>היקף      </td><td>ביצוע    </td><td>אופן התקשרות                             </td><td>מטבע</td><td>תיאור</td></tr>\n",
       "<tr><td>המרכז למיפוי ישראל            </td><td>contract-spending/4501390733/0043030107#עדכון בנט\"ל פעימה ד'     </td><td>2017-04-18 </td><td>           </td><td>2018-03-31</td><td>1055357.55</td><td>287308.14</td><td>תקנה 17ה - מכרז פומבי עם הליך תחרותי נוסף</td><td>ILS </td><td>     </td></tr>\n",
       "<tr><td>המשרד לבטחון פנים-הרשות הארצית</td><td>contract-spending/4501391971/0007600201#שירותי תחזוקה ויעוץ תוכנה</td><td>2017-04-19 </td><td>           </td><td>2019-12-31</td><td>526797.18 </td><td>0.0      </td><td>פטור ממכרז                               </td><td>ILS </td><td>     </td></tr>\n",
       "<tr><td>המשרד לבטחון פנים-הרשות הארצית</td><td>contract-spending/4501391971/0007600202#שירותי תחזוקה ויעוץ תוכנה</td><td>2017-04-19 </td><td>           </td><td>2019-12-31</td><td>4309866.11</td><td>992340.36</td><td>פטור ממכרז                               </td><td>ILS </td><td>     </td></tr>\n",
       "<tr><td>Total                         </td><td>33                                                               </td><td>           </td><td>           </td><td>          </td><td>          </td><td>         </td><td>                                         </td><td>    </td><td>     </td></tr>\n",
       "</tbody>\n",
       "</table>"
      ],
      "text/plain": [
       "<IPython.core.display.HTML object>"
      ]
     },
     "metadata": {},
     "output_type": "display_data"
    },
    {
     "name": "stdout",
     "output_type": "stream",
     "text": [
      "Getting https://next.obudget.org/get/org/company/520039710\n"
     ]
    },
    {
     "data": {
      "text/html": [
       "<h3>(org) טלדור מערכות מחשבים (1986) בע\"מ (חברה פרטית):  סך ההתקשרויות עם הארגון מ כל השנים</h3>"
      ],
      "text/plain": [
       "<IPython.core.display.HTML object>"
      ]
     },
     "metadata": {},
     "output_type": "display_data"
    },
    {
     "data": {
      "text/html": [
       "<pre>SELECT sum(volume) AS \"סה״כ היקף\",\n",
       "       sum(executed) AS \"סה״כ בוצע\",\n",
       "       currency AS \"מטבע\",\n",
       "       ((publisher->>0) || '/' || (purchasing_unit->>0)) AS \"היחידה הרוכשת\",\n",
       "       purchase_method->>0 AS \"אופן הרכישה\",\n",
       "                         min(min_year)||' - '||max(max_year) AS \"תקופה\"\n",
       "FROM contract_spending\n",
       "WHERE entity_id='520039710'\n",
       "  AND ((0 <= min_year)\n",
       "       OR (min_year IS NULL\n",
       "           AND 0 <= max_year))\n",
       "GROUP BY 3,\n",
       "         4,\n",
       "         5\n",
       "ORDER BY 1 DESC nulls LAST</pre>"
      ],
      "text/plain": [
       "<IPython.core.display.HTML object>"
      ]
     },
     "metadata": {},
     "output_type": "display_data"
    },
    {
     "data": {
      "text/html": [
       "<table>\n",
       "<tbody>\n",
       "<tr><td>אופן הרכישה              </td><td>היחידה הרוכשת                          </td><td>מטבע</td><td>סה״כ בוצע  </td><td>סה״כ היקף  </td><td>תקופה      </td></tr>\n",
       "<tr><td>פטור ממכרז               </td><td>משרד החינוך/מטה משרד החינוך            </td><td>ILS </td><td>33245458.67</td><td>72101978.93</td><td>2015 - 2017</td></tr>\n",
       "<tr><td>תקנה 1ב - מכרז פומבי רגיל</td><td>משרד החינוך/מטה משרד החינוך            </td><td>ILS </td><td>56125508.34</td><td>68949912.97</td><td>2015 - 2018</td></tr>\n",
       "<tr><td>פטור ממכרז               </td><td>רשות האכיפה והגבייה/רשות האכיפה והגבייה</td><td>ILS </td><td>65330716.5 </td><td>65814947.67</td><td>2010 - 2017</td></tr>\n",
       "<tr><td>Total                    </td><td>79                                     </td><td>    </td><td>           </td><td>           </td><td>           </td></tr>\n",
       "</tbody>\n",
       "</table>"
      ],
      "text/plain": [
       "<IPython.core.display.HTML object>"
      ]
     },
     "metadata": {},
     "output_type": "display_data"
    },
    {
     "data": {
      "text/html": [
       "<h3>(org) טלדור מערכות מחשבים (1986) בע\"מ (חברה פרטית):  סך ההתקשרויות עם הארגון מ 2008</h3>"
      ],
      "text/plain": [
       "<IPython.core.display.HTML object>"
      ]
     },
     "metadata": {},
     "output_type": "display_data"
    },
    {
     "data": {
      "text/html": [
       "<pre>SELECT sum(volume) AS \"סה״כ היקף\",\n",
       "       sum(executed) AS \"סה״כ בוצע\",\n",
       "       currency AS \"מטבע\",\n",
       "       ((publisher->>0) || '/' || (purchasing_unit->>0)) AS \"היחידה הרוכשת\",\n",
       "       purchase_method->>0 AS \"אופן הרכישה\",\n",
       "                         min(min_year)||' - '||max(max_year) AS \"תקופה\"\n",
       "FROM contract_spending\n",
       "WHERE entity_id='520039710'\n",
       "  AND ((2008 <= min_year)\n",
       "       OR (min_year IS NULL\n",
       "           AND 2008 <= max_year))\n",
       "GROUP BY 3,\n",
       "         4,\n",
       "         5\n",
       "ORDER BY 1 DESC nulls LAST</pre>"
      ],
      "text/plain": [
       "<IPython.core.display.HTML object>"
      ]
     },
     "metadata": {},
     "output_type": "display_data"
    },
    {
     "data": {
      "text/html": [
       "<table>\n",
       "<tbody>\n",
       "<tr><td>אופן הרכישה              </td><td>היחידה הרוכשת                          </td><td>מטבע</td><td>סה״כ בוצע  </td><td>סה״כ היקף  </td><td>תקופה      </td></tr>\n",
       "<tr><td>פטור ממכרז               </td><td>משרד החינוך/מטה משרד החינוך            </td><td>ILS </td><td>33245458.67</td><td>72101978.93</td><td>2015 - 2017</td></tr>\n",
       "<tr><td>תקנה 1ב - מכרז פומבי רגיל</td><td>משרד החינוך/מטה משרד החינוך            </td><td>ILS </td><td>56125508.34</td><td>68949912.97</td><td>2015 - 2018</td></tr>\n",
       "<tr><td>פטור ממכרז               </td><td>רשות האכיפה והגבייה/רשות האכיפה והגבייה</td><td>ILS </td><td>65330716.5 </td><td>65814947.67</td><td>2010 - 2017</td></tr>\n",
       "<tr><td>Total                    </td><td>79                                     </td><td>    </td><td>           </td><td>           </td><td>           </td></tr>\n",
       "</tbody>\n",
       "</table>"
      ],
      "text/plain": [
       "<IPython.core.display.HTML object>"
      ]
     },
     "metadata": {},
     "output_type": "display_data"
    },
    {
     "data": {
      "text/html": [
       "<h3>(org) טלדור מערכות מחשבים (1986) בע\"מ (חברה פרטית):  סך ההתקשרויות עם הארגון מ 2009</h3>"
      ],
      "text/plain": [
       "<IPython.core.display.HTML object>"
      ]
     },
     "metadata": {},
     "output_type": "display_data"
    },
    {
     "data": {
      "text/html": [
       "<pre>SELECT sum(volume) AS \"סה״כ היקף\",\n",
       "       sum(executed) AS \"סה״כ בוצע\",\n",
       "       currency AS \"מטבע\",\n",
       "       ((publisher->>0) || '/' || (purchasing_unit->>0)) AS \"היחידה הרוכשת\",\n",
       "       purchase_method->>0 AS \"אופן הרכישה\",\n",
       "                         min(min_year)||' - '||max(max_year) AS \"תקופה\"\n",
       "FROM contract_spending\n",
       "WHERE entity_id='520039710'\n",
       "  AND ((2009 <= min_year)\n",
       "       OR (min_year IS NULL\n",
       "           AND 2009 <= max_year))\n",
       "GROUP BY 3,\n",
       "         4,\n",
       "         5\n",
       "ORDER BY 1 DESC nulls LAST</pre>"
      ],
      "text/plain": [
       "<IPython.core.display.HTML object>"
      ]
     },
     "metadata": {},
     "output_type": "display_data"
    },
    {
     "data": {
      "text/html": [
       "<table>\n",
       "<tbody>\n",
       "<tr><td>אופן הרכישה              </td><td>היחידה הרוכשת                          </td><td>מטבע</td><td>סה״כ בוצע  </td><td>סה״כ היקף  </td><td>תקופה      </td></tr>\n",
       "<tr><td>פטור ממכרז               </td><td>משרד החינוך/מטה משרד החינוך            </td><td>ILS </td><td>33245458.67</td><td>72101978.93</td><td>2015 - 2017</td></tr>\n",
       "<tr><td>תקנה 1ב - מכרז פומבי רגיל</td><td>משרד החינוך/מטה משרד החינוך            </td><td>ILS </td><td>56125508.34</td><td>68949912.97</td><td>2015 - 2018</td></tr>\n",
       "<tr><td>פטור ממכרז               </td><td>רשות האכיפה והגבייה/רשות האכיפה והגבייה</td><td>ILS </td><td>65330716.5 </td><td>65814947.67</td><td>2010 - 2017</td></tr>\n",
       "<tr><td>Total                    </td><td>79                                     </td><td>    </td><td>           </td><td>           </td><td>           </td></tr>\n",
       "</tbody>\n",
       "</table>"
      ],
      "text/plain": [
       "<IPython.core.display.HTML object>"
      ]
     },
     "metadata": {},
     "output_type": "display_data"
    },
    {
     "data": {
      "text/html": [
       "<h3>(org) טלדור מערכות מחשבים (1986) בע\"מ (חברה פרטית):  סך ההתקשרויות עם הארגון מ 2010</h3>"
      ],
      "text/plain": [
       "<IPython.core.display.HTML object>"
      ]
     },
     "metadata": {},
     "output_type": "display_data"
    },
    {
     "data": {
      "text/html": [
       "<pre>SELECT sum(volume) AS \"סה״כ היקף\",\n",
       "       sum(executed) AS \"סה״כ בוצע\",\n",
       "       currency AS \"מטבע\",\n",
       "       ((publisher->>0) || '/' || (purchasing_unit->>0)) AS \"היחידה הרוכשת\",\n",
       "       purchase_method->>0 AS \"אופן הרכישה\",\n",
       "                         min(min_year)||' - '||max(max_year) AS \"תקופה\"\n",
       "FROM contract_spending\n",
       "WHERE entity_id='520039710'\n",
       "  AND ((2010 <= min_year)\n",
       "       OR (min_year IS NULL\n",
       "           AND 2010 <= max_year))\n",
       "GROUP BY 3,\n",
       "         4,\n",
       "         5\n",
       "ORDER BY 1 DESC nulls LAST</pre>"
      ],
      "text/plain": [
       "<IPython.core.display.HTML object>"
      ]
     },
     "metadata": {},
     "output_type": "display_data"
    },
    {
     "data": {
      "text/html": [
       "<table>\n",
       "<tbody>\n",
       "<tr><td>אופן הרכישה              </td><td>היחידה הרוכשת                          </td><td>מטבע</td><td>סה״כ בוצע  </td><td>סה״כ היקף  </td><td>תקופה      </td></tr>\n",
       "<tr><td>פטור ממכרז               </td><td>משרד החינוך/מטה משרד החינוך            </td><td>ILS </td><td>33245458.67</td><td>72101978.93</td><td>2015 - 2017</td></tr>\n",
       "<tr><td>תקנה 1ב - מכרז פומבי רגיל</td><td>משרד החינוך/מטה משרד החינוך            </td><td>ILS </td><td>56125508.34</td><td>68949912.97</td><td>2015 - 2018</td></tr>\n",
       "<tr><td>פטור ממכרז               </td><td>רשות האכיפה והגבייה/רשות האכיפה והגבייה</td><td>ILS </td><td>65330716.5 </td><td>65814947.67</td><td>2010 - 2017</td></tr>\n",
       "<tr><td>Total                    </td><td>79                                     </td><td>    </td><td>           </td><td>           </td><td>           </td></tr>\n",
       "</tbody>\n",
       "</table>"
      ],
      "text/plain": [
       "<IPython.core.display.HTML object>"
      ]
     },
     "metadata": {},
     "output_type": "display_data"
    },
    {
     "data": {
      "text/html": [
       "<h3>(org) טלדור מערכות מחשבים (1986) בע\"מ (חברה פרטית):  סך ההתקשרויות עם הארגון מ 2011</h3>"
      ],
      "text/plain": [
       "<IPython.core.display.HTML object>"
      ]
     },
     "metadata": {},
     "output_type": "display_data"
    },
    {
     "data": {
      "text/html": [
       "<pre>SELECT sum(volume) AS \"סה״כ היקף\",\n",
       "       sum(executed) AS \"סה״כ בוצע\",\n",
       "       currency AS \"מטבע\",\n",
       "       ((publisher->>0) || '/' || (purchasing_unit->>0)) AS \"היחידה הרוכשת\",\n",
       "       purchase_method->>0 AS \"אופן הרכישה\",\n",
       "                         min(min_year)||' - '||max(max_year) AS \"תקופה\"\n",
       "FROM contract_spending\n",
       "WHERE entity_id='520039710'\n",
       "  AND ((2011 <= min_year)\n",
       "       OR (min_year IS NULL\n",
       "           AND 2011 <= max_year))\n",
       "GROUP BY 3,\n",
       "         4,\n",
       "         5\n",
       "ORDER BY 1 DESC nulls LAST</pre>"
      ],
      "text/plain": [
       "<IPython.core.display.HTML object>"
      ]
     },
     "metadata": {},
     "output_type": "display_data"
    },
    {
     "data": {
      "text/html": [
       "<table>\n",
       "<tbody>\n",
       "<tr><td>אופן הרכישה              </td><td>היחידה הרוכשת                          </td><td>מטבע</td><td>סה״כ בוצע  </td><td>סה״כ היקף  </td><td>תקופה      </td></tr>\n",
       "<tr><td>פטור ממכרז               </td><td>משרד החינוך/מטה משרד החינוך            </td><td>ILS </td><td>33245458.67</td><td>72101978.93</td><td>2015 - 2017</td></tr>\n",
       "<tr><td>תקנה 1ב - מכרז פומבי רגיל</td><td>משרד החינוך/מטה משרד החינוך            </td><td>ILS </td><td>56125508.34</td><td>68949912.97</td><td>2015 - 2018</td></tr>\n",
       "<tr><td>פטור ממכרז               </td><td>רשות האכיפה והגבייה/רשות האכיפה והגבייה</td><td>ILS </td><td>59434719.54</td><td>59924082.41</td><td>2014 - 2017</td></tr>\n",
       "<tr><td>Total                    </td><td>79                                     </td><td>    </td><td>           </td><td>           </td><td>           </td></tr>\n",
       "</tbody>\n",
       "</table>"
      ],
      "text/plain": [
       "<IPython.core.display.HTML object>"
      ]
     },
     "metadata": {},
     "output_type": "display_data"
    },
    {
     "data": {
      "text/html": [
       "<h3>(org) טלדור מערכות מחשבים (1986) בע\"מ (חברה פרטית):  סך ההתקשרויות עם הארגון מ 2012</h3>"
      ],
      "text/plain": [
       "<IPython.core.display.HTML object>"
      ]
     },
     "metadata": {},
     "output_type": "display_data"
    },
    {
     "data": {
      "text/html": [
       "<pre>SELECT sum(volume) AS \"סה״כ היקף\",\n",
       "       sum(executed) AS \"סה״כ בוצע\",\n",
       "       currency AS \"מטבע\",\n",
       "       ((publisher->>0) || '/' || (purchasing_unit->>0)) AS \"היחידה הרוכשת\",\n",
       "       purchase_method->>0 AS \"אופן הרכישה\",\n",
       "                         min(min_year)||' - '||max(max_year) AS \"תקופה\"\n",
       "FROM contract_spending\n",
       "WHERE entity_id='520039710'\n",
       "  AND ((2012 <= min_year)\n",
       "       OR (min_year IS NULL\n",
       "           AND 2012 <= max_year))\n",
       "GROUP BY 3,\n",
       "         4,\n",
       "         5\n",
       "ORDER BY 1 DESC nulls LAST</pre>"
      ],
      "text/plain": [
       "<IPython.core.display.HTML object>"
      ]
     },
     "metadata": {},
     "output_type": "display_data"
    },
    {
     "data": {
      "text/html": [
       "<table>\n",
       "<tbody>\n",
       "<tr><td>אופן הרכישה              </td><td>היחידה הרוכשת                          </td><td>מטבע</td><td>סה״כ בוצע  </td><td>סה״כ היקף  </td><td>תקופה      </td></tr>\n",
       "<tr><td>פטור ממכרז               </td><td>משרד החינוך/מטה משרד החינוך            </td><td>ILS </td><td>33245458.67</td><td>72101978.93</td><td>2015 - 2017</td></tr>\n",
       "<tr><td>תקנה 1ב - מכרז פומבי רגיל</td><td>משרד החינוך/מטה משרד החינוך            </td><td>ILS </td><td>56125508.34</td><td>68949912.97</td><td>2015 - 2018</td></tr>\n",
       "<tr><td>פטור ממכרז               </td><td>רשות האכיפה והגבייה/רשות האכיפה והגבייה</td><td>ILS </td><td>59434719.54</td><td>59924082.41</td><td>2014 - 2017</td></tr>\n",
       "<tr><td>Total                    </td><td>79                                     </td><td>    </td><td>           </td><td>           </td><td>           </td></tr>\n",
       "</tbody>\n",
       "</table>"
      ],
      "text/plain": [
       "<IPython.core.display.HTML object>"
      ]
     },
     "metadata": {},
     "output_type": "display_data"
    },
    {
     "data": {
      "text/html": [
       "<h3>(org) טלדור מערכות מחשבים (1986) בע\"מ (חברה פרטית):  סך ההתקשרויות עם הארגון מ 2013</h3>"
      ],
      "text/plain": [
       "<IPython.core.display.HTML object>"
      ]
     },
     "metadata": {},
     "output_type": "display_data"
    },
    {
     "data": {
      "text/html": [
       "<pre>SELECT sum(volume) AS \"סה״כ היקף\",\n",
       "       sum(executed) AS \"סה״כ בוצע\",\n",
       "       currency AS \"מטבע\",\n",
       "       ((publisher->>0) || '/' || (purchasing_unit->>0)) AS \"היחידה הרוכשת\",\n",
       "       purchase_method->>0 AS \"אופן הרכישה\",\n",
       "                         min(min_year)||' - '||max(max_year) AS \"תקופה\"\n",
       "FROM contract_spending\n",
       "WHERE entity_id='520039710'\n",
       "  AND ((2013 <= min_year)\n",
       "       OR (min_year IS NULL\n",
       "           AND 2013 <= max_year))\n",
       "GROUP BY 3,\n",
       "         4,\n",
       "         5\n",
       "ORDER BY 1 DESC nulls LAST</pre>"
      ],
      "text/plain": [
       "<IPython.core.display.HTML object>"
      ]
     },
     "metadata": {},
     "output_type": "display_data"
    },
    {
     "data": {
      "text/html": [
       "<table>\n",
       "<tbody>\n",
       "<tr><td>אופן הרכישה              </td><td>היחידה הרוכשת                          </td><td>מטבע</td><td>סה״כ בוצע  </td><td>סה״כ היקף  </td><td>תקופה      </td></tr>\n",
       "<tr><td>פטור ממכרז               </td><td>משרד החינוך/מטה משרד החינוך            </td><td>ILS </td><td>33245458.67</td><td>72101978.93</td><td>2015 - 2017</td></tr>\n",
       "<tr><td>תקנה 1ב - מכרז פומבי רגיל</td><td>משרד החינוך/מטה משרד החינוך            </td><td>ILS </td><td>56125508.34</td><td>68949912.97</td><td>2015 - 2018</td></tr>\n",
       "<tr><td>פטור ממכרז               </td><td>רשות האכיפה והגבייה/רשות האכיפה והגבייה</td><td>ILS </td><td>59434719.54</td><td>59924082.41</td><td>2014 - 2017</td></tr>\n",
       "<tr><td>Total                    </td><td>79                                     </td><td>    </td><td>           </td><td>           </td><td>           </td></tr>\n",
       "</tbody>\n",
       "</table>"
      ],
      "text/plain": [
       "<IPython.core.display.HTML object>"
      ]
     },
     "metadata": {},
     "output_type": "display_data"
    },
    {
     "data": {
      "text/html": [
       "<h3>(org) טלדור מערכות מחשבים (1986) בע\"מ (חברה פרטית):  סך ההתקשרויות עם הארגון מ 2014</h3>"
      ],
      "text/plain": [
       "<IPython.core.display.HTML object>"
      ]
     },
     "metadata": {},
     "output_type": "display_data"
    },
    {
     "data": {
      "text/html": [
       "<pre>SELECT sum(volume) AS \"סה״כ היקף\",\n",
       "       sum(executed) AS \"סה״כ בוצע\",\n",
       "       currency AS \"מטבע\",\n",
       "       ((publisher->>0) || '/' || (purchasing_unit->>0)) AS \"היחידה הרוכשת\",\n",
       "       purchase_method->>0 AS \"אופן הרכישה\",\n",
       "                         min(min_year)||' - '||max(max_year) AS \"תקופה\"\n",
       "FROM contract_spending\n",
       "WHERE entity_id='520039710'\n",
       "  AND ((2014 <= min_year)\n",
       "       OR (min_year IS NULL\n",
       "           AND 2014 <= max_year))\n",
       "GROUP BY 3,\n",
       "         4,\n",
       "         5\n",
       "ORDER BY 1 DESC nulls LAST</pre>"
      ],
      "text/plain": [
       "<IPython.core.display.HTML object>"
      ]
     },
     "metadata": {},
     "output_type": "display_data"
    },
    {
     "data": {
      "text/html": [
       "<table>\n",
       "<tbody>\n",
       "<tr><td>אופן הרכישה              </td><td>היחידה הרוכשת                          </td><td>מטבע</td><td>סה״כ בוצע  </td><td>סה״כ היקף  </td><td>תקופה      </td></tr>\n",
       "<tr><td>פטור ממכרז               </td><td>משרד החינוך/מטה משרד החינוך            </td><td>ILS </td><td>33245458.67</td><td>72101978.93</td><td>2015 - 2017</td></tr>\n",
       "<tr><td>תקנה 1ב - מכרז פומבי רגיל</td><td>משרד החינוך/מטה משרד החינוך            </td><td>ILS </td><td>56125508.34</td><td>68949912.97</td><td>2015 - 2018</td></tr>\n",
       "<tr><td>פטור ממכרז               </td><td>רשות האכיפה והגבייה/רשות האכיפה והגבייה</td><td>ILS </td><td>59434719.54</td><td>59924082.41</td><td>2014 - 2017</td></tr>\n",
       "<tr><td>Total                    </td><td>79                                     </td><td>    </td><td>           </td><td>           </td><td>           </td></tr>\n",
       "</tbody>\n",
       "</table>"
      ],
      "text/plain": [
       "<IPython.core.display.HTML object>"
      ]
     },
     "metadata": {},
     "output_type": "display_data"
    },
    {
     "data": {
      "text/html": [
       "<h3>(org) טלדור מערכות מחשבים (1986) בע\"מ (חברה פרטית):  סך ההתקשרויות עם הארגון מ 2015</h3>"
      ],
      "text/plain": [
       "<IPython.core.display.HTML object>"
      ]
     },
     "metadata": {},
     "output_type": "display_data"
    },
    {
     "data": {
      "text/html": [
       "<pre>SELECT sum(volume) AS \"סה״כ היקף\",\n",
       "       sum(executed) AS \"סה״כ בוצע\",\n",
       "       currency AS \"מטבע\",\n",
       "       ((publisher->>0) || '/' || (purchasing_unit->>0)) AS \"היחידה הרוכשת\",\n",
       "       purchase_method->>0 AS \"אופן הרכישה\",\n",
       "                         min(min_year)||' - '||max(max_year) AS \"תקופה\"\n",
       "FROM contract_spending\n",
       "WHERE entity_id='520039710'\n",
       "  AND ((2015 <= min_year)\n",
       "       OR (min_year IS NULL\n",
       "           AND 2015 <= max_year))\n",
       "GROUP BY 3,\n",
       "         4,\n",
       "         5\n",
       "ORDER BY 1 DESC nulls LAST</pre>"
      ],
      "text/plain": [
       "<IPython.core.display.HTML object>"
      ]
     },
     "metadata": {},
     "output_type": "display_data"
    },
    {
     "data": {
      "text/html": [
       "<table>\n",
       "<tbody>\n",
       "<tr><td>אופן הרכישה              </td><td>היחידה הרוכשת                          </td><td>מטבע</td><td>סה״כ בוצע  </td><td>סה״כ היקף  </td><td>תקופה      </td></tr>\n",
       "<tr><td>פטור ממכרז               </td><td>משרד החינוך/מטה משרד החינוך            </td><td>ILS </td><td>33245458.67</td><td>72101978.93</td><td>2015 - 2017</td></tr>\n",
       "<tr><td>תקנה 1ב - מכרז פומבי רגיל</td><td>משרד החינוך/מטה משרד החינוך            </td><td>ILS </td><td>56125508.34</td><td>68949912.97</td><td>2015 - 2018</td></tr>\n",
       "<tr><td>פטור ממכרז               </td><td>רשות האכיפה והגבייה/רשות האכיפה והגבייה</td><td>ILS </td><td>53454124.68</td><td>53880968.06</td><td>2015 - 2017</td></tr>\n",
       "<tr><td>Total                    </td><td>77                                     </td><td>    </td><td>           </td><td>           </td><td>           </td></tr>\n",
       "</tbody>\n",
       "</table>"
      ],
      "text/plain": [
       "<IPython.core.display.HTML object>"
      ]
     },
     "metadata": {},
     "output_type": "display_data"
    },
    {
     "data": {
      "text/html": [
       "<h3>(org) טלדור מערכות מחשבים (1986) בע\"מ (חברה פרטית):  סך ההתקשרויות עם הארגון מ 2016</h3>"
      ],
      "text/plain": [
       "<IPython.core.display.HTML object>"
      ]
     },
     "metadata": {},
     "output_type": "display_data"
    },
    {
     "data": {
      "text/html": [
       "<pre>SELECT sum(volume) AS \"סה״כ היקף\",\n",
       "       sum(executed) AS \"סה״כ בוצע\",\n",
       "       currency AS \"מטבע\",\n",
       "       ((publisher->>0) || '/' || (purchasing_unit->>0)) AS \"היחידה הרוכשת\",\n",
       "       purchase_method->>0 AS \"אופן הרכישה\",\n",
       "                         min(min_year)||' - '||max(max_year) AS \"תקופה\"\n",
       "FROM contract_spending\n",
       "WHERE entity_id='520039710'\n",
       "  AND ((2016 <= min_year)\n",
       "       OR (min_year IS NULL\n",
       "           AND 2016 <= max_year))\n",
       "GROUP BY 3,\n",
       "         4,\n",
       "         5\n",
       "ORDER BY 1 DESC nulls LAST</pre>"
      ],
      "text/plain": [
       "<IPython.core.display.HTML object>"
      ]
     },
     "metadata": {},
     "output_type": "display_data"
    },
    {
     "data": {
      "text/html": [
       "<table>\n",
       "<tbody>\n",
       "<tr><td>אופן הרכישה              </td><td>היחידה הרוכשת                          </td><td>מטבע</td><td>סה״כ בוצע  </td><td>סה״כ היקף  </td><td>תקופה      </td></tr>\n",
       "<tr><td>פטור ממכרז               </td><td>משרד החינוך/מטה משרד החינוך            </td><td>ILS </td><td>2956501.95 </td><td>37464435.22</td><td>2016 - 2017</td></tr>\n",
       "<tr><td>פטור ממכרז               </td><td>רשות האכיפה והגבייה/רשות האכיפה והגבייה</td><td>ILS </td><td>29354635.45</td><td>29738919.6 </td><td>2016 - 2017</td></tr>\n",
       "<tr><td>תקנה 1ב - מכרז פומבי רגיל</td><td>משרד החינוך/מטה משרד החינוך            </td><td>ILS </td><td>20118327.32</td><td>25812530.15</td><td>2016 - 2018</td></tr>\n",
       "<tr><td>Total                    </td><td>65                                     </td><td>    </td><td>           </td><td>           </td><td>           </td></tr>\n",
       "</tbody>\n",
       "</table>"
      ],
      "text/plain": [
       "<IPython.core.display.HTML object>"
      ]
     },
     "metadata": {},
     "output_type": "display_data"
    },
    {
     "data": {
      "text/html": [
       "<h3>(org) טלדור מערכות מחשבים (1986) בע\"מ (חברה פרטית):  סך ההתקשרויות עם הארגון מ 2017</h3>"
      ],
      "text/plain": [
       "<IPython.core.display.HTML object>"
      ]
     },
     "metadata": {},
     "output_type": "display_data"
    },
    {
     "data": {
      "text/html": [
       "<pre>SELECT sum(volume) AS \"סה״כ היקף\",\n",
       "       sum(executed) AS \"סה״כ בוצע\",\n",
       "       currency AS \"מטבע\",\n",
       "       ((publisher->>0) || '/' || (purchasing_unit->>0)) AS \"היחידה הרוכשת\",\n",
       "       purchase_method->>0 AS \"אופן הרכישה\",\n",
       "                         min(min_year)||' - '||max(max_year) AS \"תקופה\"\n",
       "FROM contract_spending\n",
       "WHERE entity_id='520039710'\n",
       "  AND ((2017 <= min_year)\n",
       "       OR (min_year IS NULL\n",
       "           AND 2017 <= max_year))\n",
       "GROUP BY 3,\n",
       "         4,\n",
       "         5\n",
       "ORDER BY 1 DESC nulls LAST</pre>"
      ],
      "text/plain": [
       "<IPython.core.display.HTML object>"
      ]
     },
     "metadata": {},
     "output_type": "display_data"
    },
    {
     "data": {
      "text/html": [
       "<table>\n",
       "<tbody>\n",
       "<tr><td>אופן הרכישה               </td><td>היחידה הרוכשת                                   </td><td>מטבע</td><td>סה״כ בוצע </td><td>סה״כ היקף  </td><td>תקופה      </td></tr>\n",
       "<tr><td>פטור ממכרז                </td><td>משרד החינוך/מטה משרד החינוך                     </td><td>ILS </td><td>1786348.22</td><td>10555428.78</td><td>2017 - 2017</td></tr>\n",
       "<tr><td>תקנה 3ג - מימוש זכות ברירה</td><td>מנהל מקרקעי ישראל/רשות למקרקעי ישראל            </td><td>ILS </td><td>2013989.56</td><td>7539948.0  </td><td>2017 - 2018</td></tr>\n",
       "<tr><td>פטור ממכרז                </td><td>המשרד לבטחון פנים/המשרד לבטחון פנים-הרשות הארצית</td><td>ILS </td><td>1133450.53</td><td>5825088.63 </td><td>2017 - 2019</td></tr>\n",
       "<tr><td>Total                     </td><td>36                                              </td><td>    </td><td>          </td><td>           </td><td>           </td></tr>\n",
       "</tbody>\n",
       "</table>"
      ],
      "text/plain": [
       "<IPython.core.display.HTML object>"
      ]
     },
     "metadata": {},
     "output_type": "display_data"
    },
    {
     "data": {
      "text/html": [
       "<h3>(org) טלדור מערכות מחשבים (1986) בע\"מ (חברה פרטית):  סך ההתקשרויות עם הארגון מ 2018</h3>"
      ],
      "text/plain": [
       "<IPython.core.display.HTML object>"
      ]
     },
     "metadata": {},
     "output_type": "display_data"
    },
    {
     "data": {
      "text/html": [
       "<pre>SELECT sum(volume) AS \"סה״כ היקף\",\n",
       "       sum(executed) AS \"סה״כ בוצע\",\n",
       "       currency AS \"מטבע\",\n",
       "       ((publisher->>0) || '/' || (purchasing_unit->>0)) AS \"היחידה הרוכשת\",\n",
       "       purchase_method->>0 AS \"אופן הרכישה\",\n",
       "                         min(min_year)||' - '||max(max_year) AS \"תקופה\"\n",
       "FROM contract_spending\n",
       "WHERE entity_id='520039710'\n",
       "  AND ((2018 <= min_year)\n",
       "       OR (min_year IS NULL\n",
       "           AND 2018 <= max_year))\n",
       "GROUP BY 3,\n",
       "         4,\n",
       "         5\n",
       "ORDER BY 1 DESC nulls LAST</pre>"
      ],
      "text/plain": [
       "<IPython.core.display.HTML object>"
      ]
     },
     "metadata": {},
     "output_type": "display_data"
    },
    {
     "data": {
      "text/html": [
       "<table>\n",
       "<tbody>\n",
       "<tr><td>Total</td><td style=\"text-align: right;\">0</td></tr>\n",
       "</tbody>\n",
       "</table>"
      ],
      "text/plain": [
       "<IPython.core.display.HTML object>"
      ]
     },
     "metadata": {},
     "output_type": "display_data"
    },
    {
     "name": "stdout",
     "output_type": "stream",
     "text": [
      "Getting https://next.obudget.org/get/org/company/520039710\n"
     ]
    },
    {
     "data": {
      "text/html": [
       "<h3>(org) טלדור מערכות מחשבים (1986) בע\"מ (חברה פרטית):  כלל הפטורים והמכרזים ממכרז עם הארגון</h3>"
      ],
      "text/plain": [
       "<IPython.core.display.HTML object>"
      ]
     },
     "metadata": {},
     "output_type": "display_data"
    },
    {
     "data": {
      "text/html": [
       "<pre>SELECT tender_type,\n",
       "       page_title,\n",
       "       regulation,\n",
       "       publisher,\n",
       "       volume,\n",
       "       'tenders/' || tender_type || '/' || publication_id || '/' || tender_id || '#' || description AS description,\n",
       "       claim_date,\n",
       "       start_date,\n",
       "       end_date\n",
       "FROM procurement_tenders_processed\n",
       "WHERE entity_id='520039710'</pre>"
      ],
      "text/plain": [
       "<IPython.core.display.HTML object>"
      ]
     },
     "metadata": {},
     "output_type": "display_data"
    },
    {
     "data": {
      "text/html": [
       "<table>\n",
       "<tbody>\n",
       "<tr><td>tender_type</td><td>page_title      </td><td>regulation                                               </td><td>publisher                   </td><td>description                                                                                                                                                                                                                                                                                                                                                                                                                                                                                                      </td><td>volume   </td><td>claim_date</td><td>start_date</td><td>end_date  </td></tr>\n",
       "<tr><td>exemptions </td><td>בקשה לפטור ממכרז</td><td>התקשרות המשך באישור ועדת פטור מרכזית בנסיבות מיוחדות     </td><td>משרד החינוך                 </td><td>tenders/exemptions/601533/none#הארכת התקשרות עם טלדור, לתקופה של 8 חודשים במסגרת שנה שישית שמעבר למימוש זכות הברירה שהייתה כלולה במכרז 25/8.2012 - מעקב ובקרה על תכניות פעולות ההצטיידות והטמעת המחשוב המדעים והטכנולוגיה במוסדות חינוך. אישור  ההתקשרות המשך בתנאים זהים לתנאי ההתקשרות הראשונה. ההתקשרות בסמכות החשכל. התקשרות לשנה חמישית אושרה ע\"י החשב הכללי בישיבה מיום 5/2/17 בקשה מס' 592240 לפי תקנה 3(4)(ב)(3) לתח\"מ, פרוטוקול מצ\"ב. נימוקים לחשיבות ההתקשרות המבוקשת מפורטים במכתב היחידה מיום 26/7/17</td><td>8462546.0</td><td>          </td><td>2017-09-01</td><td>2018-04-30</td></tr>\n",
       "<tr><td>exemptions </td><td>בקשה לפטור ממכרז</td><td>ריכוז התקשרויות , מכרז מרכזי שערך החשכ\"ל עבור משרדי ממשלה</td><td>משרד התחבורה והבטיחות בדרכים</td><td>tenders/exemptions/599031/none#מכרז 3/11 עמדות שירות אוטומטיות. הארכת התקשרות ללא עלות נוספת עם הזכיינים: טלדור ומרמנת לצורך הצבת עמדות שירות אוטומטיות. החל מיום 18.6.17 עד ליום 31.12.17 או עד לכניסת פעילות הזוכה במכרז המרכזי, המוקדם מבין השניים.                                                                                                                                                                                                                                                           </td><td>113400.0 </td><td>          </td><td>2017-09-01</td><td>2017-12-31</td></tr>\n",
       "<tr><td>exemptions </td><td>דיווח פטור משרדי</td><td>התקשרות עם ספק יחיד                                      </td><td>משרד הבריאות                </td><td>tenders/exemptions/541707/none#המשרד מבקש שירותי פיתוח למערכת HGIS הקיימת באגף לשעת חירום הכוללת פיתוח מודול שיאפשר הוספה ועדכון של ישויות גיאוגרפיות המצריכות עדכון זמין (און ליין) לשינויים המתרחשים בשכבות האגף ושדרוגי תוכנה וכן טיפול ותחזוקה שוטפת של המערכת.                                                                                                                                                                                                                                              </td><td>51480.0  </td><td>          </td><td>2013-05-25</td><td>2014-05-24</td></tr>\n",
       "<tr><td>Total      </td><td>163             </td><td>                                                         </td><td>                            </td><td>                                                                                                                                                                                                                                                                                                                                                                                                                                                                                                                 </td><td>         </td><td>          </td><td>          </td><td>          </td></tr>\n",
       "</tbody>\n",
       "</table>"
      ],
      "text/plain": [
       "<IPython.core.display.HTML object>"
      ]
     },
     "metadata": {},
     "output_type": "display_data"
    },
    {
     "name": "stdout",
     "output_type": "stream",
     "text": [
      "Getting https://next.obudget.org/get/org/company/520039710\n"
     ]
    },
    {
     "data": {
      "text/html": [
       "<h3>(org) טלדור מערכות מחשבים (1986) בע\"מ (חברה פרטית):  כלל התמיכות שהארגון קיבל ש שולמו ב כל השנים</h3>"
      ],
      "text/plain": [
       "<IPython.core.display.HTML object>"
      ]
     },
     "metadata": {},
     "output_type": "display_data"
    },
    {
     "data": {
      "text/html": [
       "<pre>SELECT year_paid AS \"שנה\",\n",
       "       supporting_ministry AS \"משרד\",\n",
       "       request_type AS \"סוג תמיכה\",\n",
       "       'supports/' || budget_code || '/' || year_requested || '/' || recipient || '/' || request_type || '#' || support_title AS \"נושא\",\n",
       "       sum(amount_paid) AS \"סה״כ שולם\"\n",
       "FROM raw_supports\n",
       "WHERE year_paid >0\n",
       "  AND entity_id='520039710'\n",
       "GROUP BY 1,\n",
       "         2,\n",
       "         3,\n",
       "         4</pre>"
      ],
      "text/plain": [
       "<IPython.core.display.HTML object>"
      ]
     },
     "metadata": {},
     "output_type": "display_data"
    },
    {
     "data": {
      "text/html": [
       "<table>\n",
       "<tbody>\n",
       "<tr><td>נושא                                                                                                           </td><td>משרד       </td><td>סוג תמיכה      </td><td>סה״כ שולם </td><td>שנה </td></tr>\n",
       "<tr><td>supports/0036140125/2012/טלדור מערכות מחשבים (1986) בע\"מ/תמיכה  דרך מוסד#שילוב מוגבלים בשוק  העבודה            </td><td>משרד הכלכלה</td><td>תמיכה  דרך מוסד</td><td>2679355.8 </td><td>2012</td></tr>\n",
       "<tr><td>supports/0036420101/2012/טלדור מערכות מחשבים (1986) בע\"מ/תמיכה  דרך מוסד#פעולות לעידוד תעסוקת  אנשים עם מוגבלות</td><td>משרד הכלכלה</td><td>תמיכה  דרך מוסד</td><td>83560.86  </td><td>2013</td></tr>\n",
       "<tr><td>supports/0036420103/2013/טלדור מערכות מחשבים (1986) בע\"מ/תמיכה  דרך מוסד#מימון התאמות במקום  העבודה            </td><td>משרד הכלכלה</td><td>תמיכה  דרך מוסד</td><td>4552298.81</td><td>2013</td></tr>\n",
       "<tr><td>Total                                                                                                          </td><td>8          </td><td>               </td><td>          </td><td>    </td></tr>\n",
       "</tbody>\n",
       "</table>"
      ],
      "text/plain": [
       "<IPython.core.display.HTML object>"
      ]
     },
     "metadata": {},
     "output_type": "display_data"
    },
    {
     "data": {
      "text/html": [
       "<h3>(org) טלדור מערכות מחשבים (1986) בע\"מ (חברה פרטית):  כלל התמיכות שהארגון קיבל ש שולמו ב 2008</h3>"
      ],
      "text/plain": [
       "<IPython.core.display.HTML object>"
      ]
     },
     "metadata": {},
     "output_type": "display_data"
    },
    {
     "data": {
      "text/html": [
       "<pre>SELECT year_paid AS \"שנה\",\n",
       "       supporting_ministry AS \"משרד\",\n",
       "       request_type AS \"סוג תמיכה\",\n",
       "       'supports/' || budget_code || '/' || year_requested || '/' || recipient || '/' || request_type || '#' || support_title AS \"נושא\",\n",
       "       sum(amount_paid) AS \"סה״כ שולם\"\n",
       "FROM raw_supports\n",
       "WHERE year_paid =2008\n",
       "  AND entity_id='520039710'\n",
       "GROUP BY 1,\n",
       "         2,\n",
       "         3,\n",
       "         4</pre>"
      ],
      "text/plain": [
       "<IPython.core.display.HTML object>"
      ]
     },
     "metadata": {},
     "output_type": "display_data"
    },
    {
     "data": {
      "text/html": [
       "<table>\n",
       "<tbody>\n",
       "<tr><td>Total</td><td style=\"text-align: right;\">0</td></tr>\n",
       "</tbody>\n",
       "</table>"
      ],
      "text/plain": [
       "<IPython.core.display.HTML object>"
      ]
     },
     "metadata": {},
     "output_type": "display_data"
    },
    {
     "data": {
      "text/html": [
       "<h3>(org) טלדור מערכות מחשבים (1986) בע\"מ (חברה פרטית):  כלל התמיכות שהארגון קיבל ש שולמו ב 2009</h3>"
      ],
      "text/plain": [
       "<IPython.core.display.HTML object>"
      ]
     },
     "metadata": {},
     "output_type": "display_data"
    },
    {
     "data": {
      "text/html": [
       "<pre>SELECT year_paid AS \"שנה\",\n",
       "       supporting_ministry AS \"משרד\",\n",
       "       request_type AS \"סוג תמיכה\",\n",
       "       'supports/' || budget_code || '/' || year_requested || '/' || recipient || '/' || request_type || '#' || support_title AS \"נושא\",\n",
       "       sum(amount_paid) AS \"סה״כ שולם\"\n",
       "FROM raw_supports\n",
       "WHERE year_paid =2009\n",
       "  AND entity_id='520039710'\n",
       "GROUP BY 1,\n",
       "         2,\n",
       "         3,\n",
       "         4</pre>"
      ],
      "text/plain": [
       "<IPython.core.display.HTML object>"
      ]
     },
     "metadata": {},
     "output_type": "display_data"
    },
    {
     "data": {
      "text/html": [
       "<table>\n",
       "<tbody>\n",
       "<tr><td>Total</td><td style=\"text-align: right;\">0</td></tr>\n",
       "</tbody>\n",
       "</table>"
      ],
      "text/plain": [
       "<IPython.core.display.HTML object>"
      ]
     },
     "metadata": {},
     "output_type": "display_data"
    },
    {
     "data": {
      "text/html": [
       "<h3>(org) טלדור מערכות מחשבים (1986) בע\"מ (חברה פרטית):  כלל התמיכות שהארגון קיבל ש שולמו ב 2010</h3>"
      ],
      "text/plain": [
       "<IPython.core.display.HTML object>"
      ]
     },
     "metadata": {},
     "output_type": "display_data"
    },
    {
     "data": {
      "text/html": [
       "<pre>SELECT year_paid AS \"שנה\",\n",
       "       supporting_ministry AS \"משרד\",\n",
       "       request_type AS \"סוג תמיכה\",\n",
       "       'supports/' || budget_code || '/' || year_requested || '/' || recipient || '/' || request_type || '#' || support_title AS \"נושא\",\n",
       "       sum(amount_paid) AS \"סה״כ שולם\"\n",
       "FROM raw_supports\n",
       "WHERE year_paid =2010\n",
       "  AND entity_id='520039710'\n",
       "GROUP BY 1,\n",
       "         2,\n",
       "         3,\n",
       "         4</pre>"
      ],
      "text/plain": [
       "<IPython.core.display.HTML object>"
      ]
     },
     "metadata": {},
     "output_type": "display_data"
    },
    {
     "data": {
      "text/html": [
       "<table>\n",
       "<tbody>\n",
       "<tr><td>Total</td><td style=\"text-align: right;\">0</td></tr>\n",
       "</tbody>\n",
       "</table>"
      ],
      "text/plain": [
       "<IPython.core.display.HTML object>"
      ]
     },
     "metadata": {},
     "output_type": "display_data"
    },
    {
     "data": {
      "text/html": [
       "<h3>(org) טלדור מערכות מחשבים (1986) בע\"מ (חברה פרטית):  כלל התמיכות שהארגון קיבל ש שולמו ב 2011</h3>"
      ],
      "text/plain": [
       "<IPython.core.display.HTML object>"
      ]
     },
     "metadata": {},
     "output_type": "display_data"
    },
    {
     "data": {
      "text/html": [
       "<pre>SELECT year_paid AS \"שנה\",\n",
       "       supporting_ministry AS \"משרד\",\n",
       "       request_type AS \"סוג תמיכה\",\n",
       "       'supports/' || budget_code || '/' || year_requested || '/' || recipient || '/' || request_type || '#' || support_title AS \"נושא\",\n",
       "       sum(amount_paid) AS \"סה״כ שולם\"\n",
       "FROM raw_supports\n",
       "WHERE year_paid =2011\n",
       "  AND entity_id='520039710'\n",
       "GROUP BY 1,\n",
       "         2,\n",
       "         3,\n",
       "         4</pre>"
      ],
      "text/plain": [
       "<IPython.core.display.HTML object>"
      ]
     },
     "metadata": {},
     "output_type": "display_data"
    },
    {
     "data": {
      "text/html": [
       "<table>\n",
       "<tbody>\n",
       "<tr><td>Total</td><td style=\"text-align: right;\">0</td></tr>\n",
       "</tbody>\n",
       "</table>"
      ],
      "text/plain": [
       "<IPython.core.display.HTML object>"
      ]
     },
     "metadata": {},
     "output_type": "display_data"
    },
    {
     "data": {
      "text/html": [
       "<h3>(org) טלדור מערכות מחשבים (1986) בע\"מ (חברה פרטית):  כלל התמיכות שהארגון קיבל ש שולמו ב 2012</h3>"
      ],
      "text/plain": [
       "<IPython.core.display.HTML object>"
      ]
     },
     "metadata": {},
     "output_type": "display_data"
    },
    {
     "data": {
      "text/html": [
       "<pre>SELECT year_paid AS \"שנה\",\n",
       "       supporting_ministry AS \"משרד\",\n",
       "       request_type AS \"סוג תמיכה\",\n",
       "       'supports/' || budget_code || '/' || year_requested || '/' || recipient || '/' || request_type || '#' || support_title AS \"נושא\",\n",
       "       sum(amount_paid) AS \"סה״כ שולם\"\n",
       "FROM raw_supports\n",
       "WHERE year_paid =2012\n",
       "  AND entity_id='520039710'\n",
       "GROUP BY 1,\n",
       "         2,\n",
       "         3,\n",
       "         4</pre>"
      ],
      "text/plain": [
       "<IPython.core.display.HTML object>"
      ]
     },
     "metadata": {},
     "output_type": "display_data"
    },
    {
     "data": {
      "text/html": [
       "<table>\n",
       "<tbody>\n",
       "<tr><td>נושא                                                                                               </td><td>משרד       </td><td>סוג תמיכה      </td><td>סה״כ שולם</td><td>שנה </td></tr>\n",
       "<tr><td>supports/0036140125/2012/טלדור מערכות מחשבים (1986) בע\"מ/תמיכה  דרך מוסד#שילוב מוגבלים בשוק  העבודה</td><td>משרד הכלכלה</td><td>תמיכה  דרך מוסד</td><td>2679355.8</td><td>2012</td></tr>\n",
       "<tr><td>Total                                                                                              </td><td>1          </td><td>               </td><td>         </td><td>    </td></tr>\n",
       "</tbody>\n",
       "</table>"
      ],
      "text/plain": [
       "<IPython.core.display.HTML object>"
      ]
     },
     "metadata": {},
     "output_type": "display_data"
    },
    {
     "data": {
      "text/html": [
       "<h3>(org) טלדור מערכות מחשבים (1986) בע\"מ (חברה פרטית):  כלל התמיכות שהארגון קיבל ש שולמו ב 2013</h3>"
      ],
      "text/plain": [
       "<IPython.core.display.HTML object>"
      ]
     },
     "metadata": {},
     "output_type": "display_data"
    },
    {
     "data": {
      "text/html": [
       "<pre>SELECT year_paid AS \"שנה\",\n",
       "       supporting_ministry AS \"משרד\",\n",
       "       request_type AS \"סוג תמיכה\",\n",
       "       'supports/' || budget_code || '/' || year_requested || '/' || recipient || '/' || request_type || '#' || support_title AS \"נושא\",\n",
       "       sum(amount_paid) AS \"סה״כ שולם\"\n",
       "FROM raw_supports\n",
       "WHERE year_paid =2013\n",
       "  AND entity_id='520039710'\n",
       "GROUP BY 1,\n",
       "         2,\n",
       "         3,\n",
       "         4</pre>"
      ],
      "text/plain": [
       "<IPython.core.display.HTML object>"
      ]
     },
     "metadata": {},
     "output_type": "display_data"
    },
    {
     "data": {
      "text/html": [
       "<table>\n",
       "<tbody>\n",
       "<tr><td>נושא                                                                                                           </td><td>משרד       </td><td>סוג תמיכה      </td><td>סה״כ שולם </td><td>שנה </td></tr>\n",
       "<tr><td>supports/0036420101/2012/טלדור מערכות מחשבים (1986) בע\"מ/תמיכה  דרך מוסד#פעולות לעידוד תעסוקת  אנשים עם מוגבלות</td><td>משרד הכלכלה</td><td>תמיכה  דרך מוסד</td><td>83560.86  </td><td>2013</td></tr>\n",
       "<tr><td>supports/0036420103/2013/טלדור מערכות מחשבים (1986) בע\"מ/תמיכה  דרך מוסד#מימון התאמות במקום  העבודה            </td><td>משרד הכלכלה</td><td>תמיכה  דרך מוסד</td><td>4552298.81</td><td>2013</td></tr>\n",
       "<tr><td>Total                                                                                                          </td><td>2          </td><td>               </td><td>          </td><td>    </td></tr>\n",
       "</tbody>\n",
       "</table>"
      ],
      "text/plain": [
       "<IPython.core.display.HTML object>"
      ]
     },
     "metadata": {},
     "output_type": "display_data"
    },
    {
     "data": {
      "text/html": [
       "<h3>(org) טלדור מערכות מחשבים (1986) בע\"מ (חברה פרטית):  כלל התמיכות שהארגון קיבל ש שולמו ב 2014</h3>"
      ],
      "text/plain": [
       "<IPython.core.display.HTML object>"
      ]
     },
     "metadata": {},
     "output_type": "display_data"
    },
    {
     "data": {
      "text/html": [
       "<pre>SELECT year_paid AS \"שנה\",\n",
       "       supporting_ministry AS \"משרד\",\n",
       "       request_type AS \"סוג תמיכה\",\n",
       "       'supports/' || budget_code || '/' || year_requested || '/' || recipient || '/' || request_type || '#' || support_title AS \"נושא\",\n",
       "       sum(amount_paid) AS \"סה״כ שולם\"\n",
       "FROM raw_supports\n",
       "WHERE year_paid =2014\n",
       "  AND entity_id='520039710'\n",
       "GROUP BY 1,\n",
       "         2,\n",
       "         3,\n",
       "         4</pre>"
      ],
      "text/plain": [
       "<IPython.core.display.HTML object>"
      ]
     },
     "metadata": {},
     "output_type": "display_data"
    },
    {
     "data": {
      "text/html": [
       "<table>\n",
       "<tbody>\n",
       "<tr><td>נושא                                                                                               </td><td>משרד       </td><td>סוג תמיכה      </td><td>סה״כ שולם </td><td>שנה </td></tr>\n",
       "<tr><td>supports/0036420103/2013/טלדור מערכות מחשבים (1986) בע\"מ/תמיכה  דרך מוסד#מימון התאמות במקום  העבודה</td><td>משרד הכלכלה</td><td>תמיכה  דרך מוסד</td><td>2120199.3 </td><td>2014</td></tr>\n",
       "<tr><td>supports/0036420103/2014/טלדור מערכות מחשבים (1986) בע\"מ/תמיכה  דרך מוסד#מימון התאמות במקום  העבודה</td><td>משרד הכלכלה</td><td>תמיכה  דרך מוסד</td><td>2200470.62</td><td>2014</td></tr>\n",
       "<tr><td>Total                                                                                              </td><td>2          </td><td>               </td><td>          </td><td>    </td></tr>\n",
       "</tbody>\n",
       "</table>"
      ],
      "text/plain": [
       "<IPython.core.display.HTML object>"
      ]
     },
     "metadata": {},
     "output_type": "display_data"
    },
    {
     "data": {
      "text/html": [
       "<h3>(org) טלדור מערכות מחשבים (1986) בע\"מ (חברה פרטית):  כלל התמיכות שהארגון קיבל ש שולמו ב 2015</h3>"
      ],
      "text/plain": [
       "<IPython.core.display.HTML object>"
      ]
     },
     "metadata": {},
     "output_type": "display_data"
    },
    {
     "data": {
      "text/html": [
       "<pre>SELECT year_paid AS \"שנה\",\n",
       "       supporting_ministry AS \"משרד\",\n",
       "       request_type AS \"סוג תמיכה\",\n",
       "       'supports/' || budget_code || '/' || year_requested || '/' || recipient || '/' || request_type || '#' || support_title AS \"נושא\",\n",
       "       sum(amount_paid) AS \"סה״כ שולם\"\n",
       "FROM raw_supports\n",
       "WHERE year_paid =2015\n",
       "  AND entity_id='520039710'\n",
       "GROUP BY 1,\n",
       "         2,\n",
       "         3,\n",
       "         4</pre>"
      ],
      "text/plain": [
       "<IPython.core.display.HTML object>"
      ]
     },
     "metadata": {},
     "output_type": "display_data"
    },
    {
     "data": {
      "text/html": [
       "<table>\n",
       "<tbody>\n",
       "<tr><td>נושא                                                                                                             </td><td>משרד       </td><td>סוג תמיכה      </td><td>סה״כ שולם </td><td>שנה </td></tr>\n",
       "<tr><td>supports/0036420103/2014/טלדור מערכות מחשבים (1986) בע\"מ/תמיכה  דרך מוסד#אנשים עם מוגבלות  -מימון התאמות במקום הע</td><td>משרד הכלכלה</td><td>תמיכה  דרך מוסד</td><td>3442852.01</td><td>2015</td></tr>\n",
       "<tr><td>Total                                                                                                            </td><td>1          </td><td>               </td><td>          </td><td>    </td></tr>\n",
       "</tbody>\n",
       "</table>"
      ],
      "text/plain": [
       "<IPython.core.display.HTML object>"
      ]
     },
     "metadata": {},
     "output_type": "display_data"
    },
    {
     "data": {
      "text/html": [
       "<h3>(org) טלדור מערכות מחשבים (1986) בע\"מ (חברה פרטית):  כלל התמיכות שהארגון קיבל ש שולמו ב 2016</h3>"
      ],
      "text/plain": [
       "<IPython.core.display.HTML object>"
      ]
     },
     "metadata": {},
     "output_type": "display_data"
    },
    {
     "data": {
      "text/html": [
       "<pre>SELECT year_paid AS \"שנה\",\n",
       "       supporting_ministry AS \"משרד\",\n",
       "       request_type AS \"סוג תמיכה\",\n",
       "       'supports/' || budget_code || '/' || year_requested || '/' || recipient || '/' || request_type || '#' || support_title AS \"נושא\",\n",
       "       sum(amount_paid) AS \"סה״כ שולם\"\n",
       "FROM raw_supports\n",
       "WHERE year_paid =2016\n",
       "  AND entity_id='520039710'\n",
       "GROUP BY 1,\n",
       "         2,\n",
       "         3,\n",
       "         4</pre>"
      ],
      "text/plain": [
       "<IPython.core.display.HTML object>"
      ]
     },
     "metadata": {},
     "output_type": "display_data"
    },
    {
     "data": {
      "text/html": [
       "<table>\n",
       "<tbody>\n",
       "<tr><td>נושא                                                                                                             </td><td>משרד       </td><td>סוג תמיכה      </td><td>סה״כ שולם </td><td>שנה </td></tr>\n",
       "<tr><td>supports/0036420103/2014/טלדור מערכות מחשבים (1986) בע\"מ/תמיכה  דרך מוסד#אנשים עם מוגבלות  -מימון התאמות במקום הע</td><td>משרד הכלכלה</td><td>תמיכה  דרך מוסד</td><td>2597820.74</td><td>2016</td></tr>\n",
       "<tr><td>Total                                                                                                            </td><td>1          </td><td>               </td><td>          </td><td>    </td></tr>\n",
       "</tbody>\n",
       "</table>"
      ],
      "text/plain": [
       "<IPython.core.display.HTML object>"
      ]
     },
     "metadata": {},
     "output_type": "display_data"
    },
    {
     "data": {
      "text/html": [
       "<h3>(org) טלדור מערכות מחשבים (1986) בע\"מ (חברה פרטית):  כלל התמיכות שהארגון קיבל ש שולמו ב 2017</h3>"
      ],
      "text/plain": [
       "<IPython.core.display.HTML object>"
      ]
     },
     "metadata": {},
     "output_type": "display_data"
    },
    {
     "data": {
      "text/html": [
       "<pre>SELECT year_paid AS \"שנה\",\n",
       "       supporting_ministry AS \"משרד\",\n",
       "       request_type AS \"סוג תמיכה\",\n",
       "       'supports/' || budget_code || '/' || year_requested || '/' || recipient || '/' || request_type || '#' || support_title AS \"נושא\",\n",
       "       sum(amount_paid) AS \"סה״כ שולם\"\n",
       "FROM raw_supports\n",
       "WHERE year_paid =2017\n",
       "  AND entity_id='520039710'\n",
       "GROUP BY 1,\n",
       "         2,\n",
       "         3,\n",
       "         4</pre>"
      ],
      "text/plain": [
       "<IPython.core.display.HTML object>"
      ]
     },
     "metadata": {},
     "output_type": "display_data"
    },
    {
     "data": {
      "text/html": [
       "<table>\n",
       "<tbody>\n",
       "<tr><td>נושא                                                                                                             </td><td>משרד       </td><td>סוג תמיכה      </td><td>סה״כ שולם</td><td>שנה </td></tr>\n",
       "<tr><td>supports/0036420103/2014/טלדור מערכות מחשבים (1986) בע\"מ/תמיכה  דרך מוסד#אנשים עם מוגבלות  -מימון התאמות במקום הע</td><td>משרד הכלכלה</td><td>תמיכה  דרך מוסד</td><td>2540820.5</td><td>2017</td></tr>\n",
       "<tr><td>Total                                                                                                            </td><td>1          </td><td>               </td><td>         </td><td>    </td></tr>\n",
       "</tbody>\n",
       "</table>"
      ],
      "text/plain": [
       "<IPython.core.display.HTML object>"
      ]
     },
     "metadata": {},
     "output_type": "display_data"
    },
    {
     "data": {
      "text/html": [
       "<h3>(org) טלדור מערכות מחשבים (1986) בע\"מ (חברה פרטית):  כלל התמיכות שהארגון קיבל ש שולמו ב 2018</h3>"
      ],
      "text/plain": [
       "<IPython.core.display.HTML object>"
      ]
     },
     "metadata": {},
     "output_type": "display_data"
    },
    {
     "data": {
      "text/html": [
       "<pre>SELECT year_paid AS \"שנה\",\n",
       "       supporting_ministry AS \"משרד\",\n",
       "       request_type AS \"סוג תמיכה\",\n",
       "       'supports/' || budget_code || '/' || year_requested || '/' || recipient || '/' || request_type || '#' || support_title AS \"נושא\",\n",
       "       sum(amount_paid) AS \"סה״כ שולם\"\n",
       "FROM raw_supports\n",
       "WHERE year_paid =2018\n",
       "  AND entity_id='520039710'\n",
       "GROUP BY 1,\n",
       "         2,\n",
       "         3,\n",
       "         4</pre>"
      ],
      "text/plain": [
       "<IPython.core.display.HTML object>"
      ]
     },
     "metadata": {},
     "output_type": "display_data"
    },
    {
     "data": {
      "text/html": [
       "<table>\n",
       "<tbody>\n",
       "<tr><td>Total</td><td style=\"text-align: right;\">0</td></tr>\n",
       "</tbody>\n",
       "</table>"
      ],
      "text/plain": [
       "<IPython.core.display.HTML object>"
      ]
     },
     "metadata": {},
     "output_type": "display_data"
    },
    {
     "data": {
      "text/html": [
       "<h3>(org) טלדור מערכות מחשבים (1986) בע\"מ (חברה פרטית):  כלל התמיכות שהארגון קיבל ש אושרו ב כל השנים</h3>"
      ],
      "text/plain": [
       "<IPython.core.display.HTML object>"
      ]
     },
     "metadata": {},
     "output_type": "display_data"
    },
    {
     "data": {
      "text/html": [
       "<pre>SELECT year_requested AS \"שנה\",\n",
       "       supporting_ministry AS \"משרד\",\n",
       "       request_type AS \"סוג תמיכה\",\n",
       "       'supports/' || budget_code || '/' || year_requested || '/' || recipient || '/' || request_type || '#' || support_title AS \"נושא\",\n",
       "       sum(amount_paid) AS \"סה״כ שולם\"\n",
       "FROM raw_supports\n",
       "WHERE year_requested >0\n",
       "  AND entity_id='520039710'\n",
       "GROUP BY 1,\n",
       "         2,\n",
       "         3,\n",
       "         4</pre>"
      ],
      "text/plain": [
       "<IPython.core.display.HTML object>"
      ]
     },
     "metadata": {},
     "output_type": "display_data"
    },
    {
     "data": {
      "text/html": [
       "<table>\n",
       "<tbody>\n",
       "<tr><td>נושא                                                                                                           </td><td>משרד       </td><td>סוג תמיכה      </td><td>סה״כ שולם</td><td>שנה </td></tr>\n",
       "<tr><td>supports/0036140125/2012/טלדור מערכות מחשבים (1986) בע\"מ/תמיכה  דרך מוסד#שילוב מוגבלים בשוק  העבודה            </td><td>משרד הכלכלה</td><td>תמיכה  דרך מוסד</td><td>2679355.8</td><td>2012</td></tr>\n",
       "<tr><td>supports/0036420101/2012/טלדור מערכות מחשבים (1986) בע\"מ/תמיכה  דרך מוסד#פעולות לעידוד תעסוקת  אנשים עם מוגבלות</td><td>משרד הכלכלה</td><td>תמיכה  דרך מוסד</td><td>83560.86 </td><td>2012</td></tr>\n",
       "<tr><td>supports/0036300201/2013/טלדור מערכות מחשבים (1986) בע\"מ/תמיכה  דרך מוסד#תפעול המשרד                           </td><td>משרד הכלכלה</td><td>תמיכה  דרך מוסד</td><td>         </td><td>2013</td></tr>\n",
       "<tr><td>Total                                                                                                          </td><td>7          </td><td>               </td><td>         </td><td>    </td></tr>\n",
       "</tbody>\n",
       "</table>"
      ],
      "text/plain": [
       "<IPython.core.display.HTML object>"
      ]
     },
     "metadata": {},
     "output_type": "display_data"
    },
    {
     "data": {
      "text/html": [
       "<h3>(org) טלדור מערכות מחשבים (1986) בע\"מ (חברה פרטית):  כלל התמיכות שהארגון קיבל ש אושרו ב 2008</h3>"
      ],
      "text/plain": [
       "<IPython.core.display.HTML object>"
      ]
     },
     "metadata": {},
     "output_type": "display_data"
    },
    {
     "data": {
      "text/html": [
       "<pre>SELECT year_requested AS \"שנה\",\n",
       "       supporting_ministry AS \"משרד\",\n",
       "       request_type AS \"סוג תמיכה\",\n",
       "       'supports/' || budget_code || '/' || year_requested || '/' || recipient || '/' || request_type || '#' || support_title AS \"נושא\",\n",
       "       sum(amount_paid) AS \"סה״כ שולם\"\n",
       "FROM raw_supports\n",
       "WHERE year_requested =2008\n",
       "  AND entity_id='520039710'\n",
       "GROUP BY 1,\n",
       "         2,\n",
       "         3,\n",
       "         4</pre>"
      ],
      "text/plain": [
       "<IPython.core.display.HTML object>"
      ]
     },
     "metadata": {},
     "output_type": "display_data"
    },
    {
     "data": {
      "text/html": [
       "<table>\n",
       "<tbody>\n",
       "<tr><td>Total</td><td style=\"text-align: right;\">0</td></tr>\n",
       "</tbody>\n",
       "</table>"
      ],
      "text/plain": [
       "<IPython.core.display.HTML object>"
      ]
     },
     "metadata": {},
     "output_type": "display_data"
    },
    {
     "data": {
      "text/html": [
       "<h3>(org) טלדור מערכות מחשבים (1986) בע\"מ (חברה פרטית):  כלל התמיכות שהארגון קיבל ש אושרו ב 2009</h3>"
      ],
      "text/plain": [
       "<IPython.core.display.HTML object>"
      ]
     },
     "metadata": {},
     "output_type": "display_data"
    },
    {
     "data": {
      "text/html": [
       "<pre>SELECT year_requested AS \"שנה\",\n",
       "       supporting_ministry AS \"משרד\",\n",
       "       request_type AS \"סוג תמיכה\",\n",
       "       'supports/' || budget_code || '/' || year_requested || '/' || recipient || '/' || request_type || '#' || support_title AS \"נושא\",\n",
       "       sum(amount_paid) AS \"סה״כ שולם\"\n",
       "FROM raw_supports\n",
       "WHERE year_requested =2009\n",
       "  AND entity_id='520039710'\n",
       "GROUP BY 1,\n",
       "         2,\n",
       "         3,\n",
       "         4</pre>"
      ],
      "text/plain": [
       "<IPython.core.display.HTML object>"
      ]
     },
     "metadata": {},
     "output_type": "display_data"
    },
    {
     "data": {
      "text/html": [
       "<table>\n",
       "<tbody>\n",
       "<tr><td>Total</td><td style=\"text-align: right;\">0</td></tr>\n",
       "</tbody>\n",
       "</table>"
      ],
      "text/plain": [
       "<IPython.core.display.HTML object>"
      ]
     },
     "metadata": {},
     "output_type": "display_data"
    },
    {
     "data": {
      "text/html": [
       "<h3>(org) טלדור מערכות מחשבים (1986) בע\"מ (חברה פרטית):  כלל התמיכות שהארגון קיבל ש אושרו ב 2010</h3>"
      ],
      "text/plain": [
       "<IPython.core.display.HTML object>"
      ]
     },
     "metadata": {},
     "output_type": "display_data"
    },
    {
     "data": {
      "text/html": [
       "<pre>SELECT year_requested AS \"שנה\",\n",
       "       supporting_ministry AS \"משרד\",\n",
       "       request_type AS \"סוג תמיכה\",\n",
       "       'supports/' || budget_code || '/' || year_requested || '/' || recipient || '/' || request_type || '#' || support_title AS \"נושא\",\n",
       "       sum(amount_paid) AS \"סה״כ שולם\"\n",
       "FROM raw_supports\n",
       "WHERE year_requested =2010\n",
       "  AND entity_id='520039710'\n",
       "GROUP BY 1,\n",
       "         2,\n",
       "         3,\n",
       "         4</pre>"
      ],
      "text/plain": [
       "<IPython.core.display.HTML object>"
      ]
     },
     "metadata": {},
     "output_type": "display_data"
    },
    {
     "data": {
      "text/html": [
       "<table>\n",
       "<tbody>\n",
       "<tr><td>Total</td><td style=\"text-align: right;\">0</td></tr>\n",
       "</tbody>\n",
       "</table>"
      ],
      "text/plain": [
       "<IPython.core.display.HTML object>"
      ]
     },
     "metadata": {},
     "output_type": "display_data"
    },
    {
     "data": {
      "text/html": [
       "<h3>(org) טלדור מערכות מחשבים (1986) בע\"מ (חברה פרטית):  כלל התמיכות שהארגון קיבל ש אושרו ב 2011</h3>"
      ],
      "text/plain": [
       "<IPython.core.display.HTML object>"
      ]
     },
     "metadata": {},
     "output_type": "display_data"
    },
    {
     "data": {
      "text/html": [
       "<pre>SELECT year_requested AS \"שנה\",\n",
       "       supporting_ministry AS \"משרד\",\n",
       "       request_type AS \"סוג תמיכה\",\n",
       "       'supports/' || budget_code || '/' || year_requested || '/' || recipient || '/' || request_type || '#' || support_title AS \"נושא\",\n",
       "       sum(amount_paid) AS \"סה״כ שולם\"\n",
       "FROM raw_supports\n",
       "WHERE year_requested =2011\n",
       "  AND entity_id='520039710'\n",
       "GROUP BY 1,\n",
       "         2,\n",
       "         3,\n",
       "         4</pre>"
      ],
      "text/plain": [
       "<IPython.core.display.HTML object>"
      ]
     },
     "metadata": {},
     "output_type": "display_data"
    },
    {
     "data": {
      "text/html": [
       "<table>\n",
       "<tbody>\n",
       "<tr><td>Total</td><td style=\"text-align: right;\">0</td></tr>\n",
       "</tbody>\n",
       "</table>"
      ],
      "text/plain": [
       "<IPython.core.display.HTML object>"
      ]
     },
     "metadata": {},
     "output_type": "display_data"
    },
    {
     "data": {
      "text/html": [
       "<h3>(org) טלדור מערכות מחשבים (1986) בע\"מ (חברה פרטית):  כלל התמיכות שהארגון קיבל ש אושרו ב 2012</h3>"
      ],
      "text/plain": [
       "<IPython.core.display.HTML object>"
      ]
     },
     "metadata": {},
     "output_type": "display_data"
    },
    {
     "data": {
      "text/html": [
       "<pre>SELECT year_requested AS \"שנה\",\n",
       "       supporting_ministry AS \"משרד\",\n",
       "       request_type AS \"סוג תמיכה\",\n",
       "       'supports/' || budget_code || '/' || year_requested || '/' || recipient || '/' || request_type || '#' || support_title AS \"נושא\",\n",
       "       sum(amount_paid) AS \"סה״כ שולם\"\n",
       "FROM raw_supports\n",
       "WHERE year_requested =2012\n",
       "  AND entity_id='520039710'\n",
       "GROUP BY 1,\n",
       "         2,\n",
       "         3,\n",
       "         4</pre>"
      ],
      "text/plain": [
       "<IPython.core.display.HTML object>"
      ]
     },
     "metadata": {},
     "output_type": "display_data"
    },
    {
     "data": {
      "text/html": [
       "<table>\n",
       "<tbody>\n",
       "<tr><td>נושא                                                                                                           </td><td>משרד       </td><td>סוג תמיכה      </td><td>סה״כ שולם</td><td>שנה </td></tr>\n",
       "<tr><td>supports/0036140125/2012/טלדור מערכות מחשבים (1986) בע\"מ/תמיכה  דרך מוסד#שילוב מוגבלים בשוק  העבודה            </td><td>משרד הכלכלה</td><td>תמיכה  דרך מוסד</td><td>2679355.8</td><td>2012</td></tr>\n",
       "<tr><td>supports/0036420101/2012/טלדור מערכות מחשבים (1986) בע\"מ/תמיכה  דרך מוסד#פעולות לעידוד תעסוקת  אנשים עם מוגבלות</td><td>משרד הכלכלה</td><td>תמיכה  דרך מוסד</td><td>83560.86 </td><td>2012</td></tr>\n",
       "<tr><td>Total                                                                                                          </td><td>2          </td><td>               </td><td>         </td><td>    </td></tr>\n",
       "</tbody>\n",
       "</table>"
      ],
      "text/plain": [
       "<IPython.core.display.HTML object>"
      ]
     },
     "metadata": {},
     "output_type": "display_data"
    },
    {
     "data": {
      "text/html": [
       "<h3>(org) טלדור מערכות מחשבים (1986) בע\"מ (חברה פרטית):  כלל התמיכות שהארגון קיבל ש אושרו ב 2013</h3>"
      ],
      "text/plain": [
       "<IPython.core.display.HTML object>"
      ]
     },
     "metadata": {},
     "output_type": "display_data"
    },
    {
     "data": {
      "text/html": [
       "<pre>SELECT year_requested AS \"שנה\",\n",
       "       supporting_ministry AS \"משרד\",\n",
       "       request_type AS \"סוג תמיכה\",\n",
       "       'supports/' || budget_code || '/' || year_requested || '/' || recipient || '/' || request_type || '#' || support_title AS \"נושא\",\n",
       "       sum(amount_paid) AS \"סה״כ שולם\"\n",
       "FROM raw_supports\n",
       "WHERE year_requested =2013\n",
       "  AND entity_id='520039710'\n",
       "GROUP BY 1,\n",
       "         2,\n",
       "         3,\n",
       "         4</pre>"
      ],
      "text/plain": [
       "<IPython.core.display.HTML object>"
      ]
     },
     "metadata": {},
     "output_type": "display_data"
    }
   ],
   "source": [
    "params_re = re.compile('(:[a-z_]+)')\n",
    "for kind, q in parsed_questions():\n",
    "    text = q['text']\n",
    "    query = q['query']\n",
    "    if isinstance(query, list):\n",
    "        query = ' '.join(query)\n",
    "    headers = q.get('headers', [])\n",
    "    doc_ids = DOC_IDS[kind]\n",
    "    for doc_id in doc_ids:\n",
    "        doc = get_doc_id(doc_id)\n",
    "        for p in parameters(q):\n",
    "            params = {}\n",
    "            updated_text = q['text']\n",
    "            updated_query = query\n",
    "            params.update(doc)\n",
    "            for name, (disp, val) in p:\n",
    "                params[name] = val\n",
    "                updated_text = updated_text.replace('<'+name+'>', disp)\n",
    "            display(HTML('<h3>({}) {}: {}</h3>'.format(kind, doc['page_title'], updated_text)))\n",
    "            ofs = 0\n",
    "            while True:\n",
    "                m = params_re.search(updated_query[ofs:])\n",
    "                if m is None: break\n",
    "                key = m.groups(0)[0][1:]\n",
    "                if key in params:\n",
    "                    updated_query = updated_query[:(m.start()+ofs)] + str(params[key]) + updated_query[(m.end()+ofs):]\n",
    "                else:\n",
    "                    print('skipping parameter', key)\n",
    "                    ofs = ofs + m.start()+1\n",
    "            display(HTML('<pre>{}</pre>'.format(sqlparse.format(updated_query, reindent=True, keyword_case='upper'))))\n",
    "            display(HTML(tabulate.tabulate(get_table(updated_query, headers), tablefmt='html')))\n"
   ]
  },
  {
   "cell_type": "code",
   "execution_count": null,
   "metadata": {
    "collapsed": false,
    "deletable": true,
    "editable": true,
    "scrolled": true
   },
   "outputs": [],
   "source": []
  }
 ],
 "metadata": {
  "kernelspec": {
   "display_name": "Python 3",
   "language": "python",
   "name": "python3"
  },
  "language_info": {
   "codemirror_mode": {
    "name": "ipython",
    "version": 3
   },
   "file_extension": ".py",
   "mimetype": "text/x-python",
   "name": "python",
   "nbconvert_exporter": "python",
   "pygments_lexer": "ipython3",
   "version": "3.6.1"
  }
 },
 "nbformat": 4,
 "nbformat_minor": 2
}
